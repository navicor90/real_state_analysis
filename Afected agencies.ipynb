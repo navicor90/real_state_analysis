{
 "cells": [
  {
   "cell_type": "markdown",
   "metadata": {},
   "source": [
    "\n",
    "## About this project\n"
   ]
  },
  {
   "cell_type": "code",
   "execution_count": 1,
   "metadata": {},
   "outputs": [],
   "source": [
    "%load_ext autoreload\n",
    "%autoreload 2"
   ]
  },
  {
   "cell_type": "code",
   "execution_count": 2,
   "metadata": {},
   "outputs": [],
   "source": [
    "from selenium import webdriver\n",
    "import pandas as pd\n",
    "import time\n",
    "import random\n",
    "import sys\n",
    "import os\n",
    "import numpy as np\n",
    "sys.path.append(os.path.abspath('../'))\n",
    "from utils import (soup_content_from_url,\n",
    "                    elements_from_soup_bestsellers_web, \n",
    "                    subcategories_from_bestsellers_web,\n",
    "                    detail_dict_from_product_page,\n",
    "                    load_obj,\n",
    "                    save_obj)"
   ]
  },
  {
   "cell_type": "markdown",
   "metadata": {},
   "source": [
    "# EDA"
   ]
  },
  {
   "cell_type": "markdown",
   "metadata": {},
   "source": [
    "Estadisticos:\n",
    "* Describe district\n",
    "* "
   ]
  },
  {
   "cell_type": "code",
   "execution_count": 4,
   "metadata": {},
   "outputs": [],
   "source": [
    "import seaborn as sns\n",
    "from matplotlib import pyplot as plt\n",
    "houses = pd.read_csv(\"dataframe_house.csv\")\n",
    "apartments = pd.read_csv(\"dataframe_apartment.csv\")\n",
    "lands = pd.read_csv(\"dataframe_land.csv\")"
   ]
  },
  {
   "cell_type": "code",
   "execution_count": 8,
   "metadata": {},
   "outputs": [
    {
     "data": {
      "text/html": [
       "<div>\n",
       "<style scoped>\n",
       "    .dataframe tbody tr th:only-of-type {\n",
       "        vertical-align: middle;\n",
       "    }\n",
       "\n",
       "    .dataframe tbody tr th {\n",
       "        vertical-align: top;\n",
       "    }\n",
       "\n",
       "    .dataframe thead th {\n",
       "        text-align: right;\n",
       "    }\n",
       "</style>\n",
       "<table border=\"1\" class=\"dataframe\">\n",
       "  <thead>\n",
       "    <tr style=\"text-align: right;\">\n",
       "      <th></th>\n",
       "      <th>ref_id</th>\n",
       "      <th>neighborhood</th>\n",
       "      <th>district</th>\n",
       "      <th>province</th>\n",
       "      <th>price</th>\n",
       "      <th>currency</th>\n",
       "      <th>amount</th>\n",
       "      <th>url</th>\n",
       "      <th>description</th>\n",
       "      <th>totalArea</th>\n",
       "      <th>bedrooms</th>\n",
       "      <th>bathrooms</th>\n",
       "      <th>floorArea</th>\n",
       "      <th>agency</th>\n",
       "      <th>property_type</th>\n",
       "      <th>source_web</th>\n",
       "      <th>scrapped_date</th>\n",
       "      <th>has_water</th>\n",
       "      <th>has_electricity</th>\n",
       "      <th>has_gas</th>\n",
       "    </tr>\n",
       "  </thead>\n",
       "  <tbody>\n",
       "    <tr>\n",
       "      <th>7</th>\n",
       "      <td>inmueble-17515-1714</td>\n",
       "      <td>Ayacucho 130</td>\n",
       "      <td>Capital</td>\n",
       "      <td>Mendoza</td>\n",
       "      <td>US$ 69.000</td>\n",
       "      <td>US$</td>\n",
       "      <td>69000.0</td>\n",
       "      <td>/17515-remax-solutions/inmuebles/1714/ficha/ca...</td>\n",
       "      <td>Corredor Responsable: VICTOR E. MONTIVERO - C....</td>\n",
       "      <td>disable</td>\n",
       "      <td>3</td>\n",
       "      <td>2</td>\n",
       "      <td>disable</td>\n",
       "      <td>REMAX Solutions</td>\n",
       "      <td>PropertyType.HOUSE</td>\n",
       "      <td>inmoclick</td>\n",
       "      <td>2020-07-18</td>\n",
       "      <td>NaN</td>\n",
       "      <td>NaN</td>\n",
       "      <td>NaN</td>\n",
       "    </tr>\n",
       "    <tr>\n",
       "      <th>51</th>\n",
       "      <td>inmueble-52708-564</td>\n",
       "      <td>Los Peralitos</td>\n",
       "      <td>Lujan de Cuyo</td>\n",
       "      <td>Mendoza</td>\n",
       "      <td>US$ 220.000</td>\n",
       "      <td>US$</td>\n",
       "      <td>220000.0</td>\n",
       "      <td>/52708-remax-chacras/inmuebles/564/ficha/casa-...</td>\n",
       "      <td>Corredor Responsable: Nestor Andres Guerrero -...</td>\n",
       "      <td>disable</td>\n",
       "      <td>3</td>\n",
       "      <td>2</td>\n",
       "      <td>disable</td>\n",
       "      <td>REMAX CHACRAS</td>\n",
       "      <td>PropertyType.HOUSE</td>\n",
       "      <td>inmoclick</td>\n",
       "      <td>2020-07-18</td>\n",
       "      <td>NaN</td>\n",
       "      <td>NaN</td>\n",
       "      <td>NaN</td>\n",
       "    </tr>\n",
       "    <tr>\n",
       "      <th>52</th>\n",
       "      <td>inmueble-52708-336</td>\n",
       "      <td>B° Unión y Fuerza</td>\n",
       "      <td>Lujan de Cuyo</td>\n",
       "      <td>Mendoza</td>\n",
       "      <td>$ 2.800.000</td>\n",
       "      <td>$</td>\n",
       "      <td>2800000.0</td>\n",
       "      <td>/52708-remax-chacras/inmuebles/336/ficha/casa-...</td>\n",
       "      <td>Corredor Responsable: Nestor Andres Guerrero -...</td>\n",
       "      <td>disable</td>\n",
       "      <td>4</td>\n",
       "      <td>2</td>\n",
       "      <td>disable</td>\n",
       "      <td>REMAX CHACRAS</td>\n",
       "      <td>PropertyType.HOUSE</td>\n",
       "      <td>inmoclick</td>\n",
       "      <td>2020-07-18</td>\n",
       "      <td>NaN</td>\n",
       "      <td>NaN</td>\n",
       "      <td>NaN</td>\n",
       "    </tr>\n",
       "  </tbody>\n",
       "</table>\n",
       "</div>"
      ],
      "text/plain": [
       "                 ref_id       neighborhood       district province  \\\n",
       "7   inmueble-17515-1714       Ayacucho 130        Capital  Mendoza   \n",
       "51   inmueble-52708-564      Los Peralitos  Lujan de Cuyo  Mendoza   \n",
       "52   inmueble-52708-336  B° Unión y Fuerza  Lujan de Cuyo  Mendoza   \n",
       "\n",
       "          price currency     amount  \\\n",
       "7    US$ 69.000      US$    69000.0   \n",
       "51  US$ 220.000      US$   220000.0   \n",
       "52  $ 2.800.000        $  2800000.0   \n",
       "\n",
       "                                                  url  \\\n",
       "7   /17515-remax-solutions/inmuebles/1714/ficha/ca...   \n",
       "51  /52708-remax-chacras/inmuebles/564/ficha/casa-...   \n",
       "52  /52708-remax-chacras/inmuebles/336/ficha/casa-...   \n",
       "\n",
       "                                          description totalArea bedrooms  \\\n",
       "7   Corredor Responsable: VICTOR E. MONTIVERO - C....   disable        3   \n",
       "51  Corredor Responsable: Nestor Andres Guerrero -...   disable        3   \n",
       "52  Corredor Responsable: Nestor Andres Guerrero -...   disable        4   \n",
       "\n",
       "   bathrooms floorArea           agency       property_type source_web  \\\n",
       "7          2   disable  REMAX Solutions  PropertyType.HOUSE  inmoclick   \n",
       "51         2   disable    REMAX CHACRAS  PropertyType.HOUSE  inmoclick   \n",
       "52         2   disable    REMAX CHACRAS  PropertyType.HOUSE  inmoclick   \n",
       "\n",
       "   scrapped_date has_water has_electricity has_gas  \n",
       "7     2020-07-18       NaN             NaN     NaN  \n",
       "51    2020-07-18       NaN             NaN     NaN  \n",
       "52    2020-07-18       NaN             NaN     NaN  "
      ]
     },
     "execution_count": 8,
     "metadata": {},
     "output_type": "execute_result"
    }
   ],
   "source": [
    "df = pd.concat([houses,apartments,lands])\n",
    "remax = df[df.agency.str.lower().str.contains(\"remax\")]\n",
    "remax.head(3)"
   ]
  },
  {
   "cell_type": "code",
   "execution_count": 9,
   "metadata": {},
   "outputs": [],
   "source": [
    "remax.currency = df.currency.fillna('consultar')"
   ]
  },
  {
   "cell_type": "code",
   "execution_count": 10,
   "metadata": {},
   "outputs": [
    {
     "name": "stdout",
     "output_type": "stream",
     "text": [
      "Cantidad total de propiedades originales:930\n",
      "Cantidad total de propiedades en el Gran Mendoza:876\n"
     ]
    }
   ],
   "source": [
    "remax.district.unique()\n",
    "print(f\"Cantidad total de propiedades originales:{len(remax)}\")\n",
    "gran_mendoza_list = ['Godoy Cruz', 'Maipu', 'Lujan de Cuyo', 'Las Heras', 'Capital',\n",
    "       'Carrodilla', 'Guaymallen', 'Chacras de Coria',\n",
    "       'Vistalba', 'Mayor Drummond', 'Perdriel', 'La Puntilla']\n",
    "remax = remax[remax.district.isin(gran_mendoza_list)]\n",
    "print(f\"Cantidad total de propiedades en el Gran Mendoza:{len(remax)}\")"
   ]
  },
  {
   "cell_type": "code",
   "execution_count": 13,
   "metadata": {},
   "outputs": [],
   "source": [
    "df = remax"
   ]
  },
  {
   "cell_type": "markdown",
   "metadata": {},
   "source": [
    "### Composicion por tipo de moneda"
   ]
  },
  {
   "cell_type": "code",
   "execution_count": 14,
   "metadata": {},
   "outputs": [
    {
     "data": {
      "image/png": "[encoded data removed]",
      "text/plain": [
       "<Figure size 432x288 with 1 Axes>"
      ]
     },
     "metadata": {
      "needs_background": "light"
     },
     "output_type": "display_data"
    }
   ],
   "source": [
    "curr = df.groupby('currency').count().ref_id.sort_values()\n",
    "share = round(curr/curr.sum()*100,1)\n",
    "g = sns.barplot(x=curr.index.values,y=curr.values)\n",
    "for i,row in enumerate(curr.iteritems()):\n",
    "    bar_text = f'{row[1]} ({share.iloc[i]}%)'\n",
    "    g.text(i,row[1], bar_text, color='black', ha=\"center\",va='bottom')\n",
    "    \n",
    "g.set_title('Composicion por tipo de moneda')\n",
    "plt.show()"
   ]
  },
  {
   "cell_type": "code",
   "execution_count": 15,
   "metadata": {},
   "outputs": [
    {
     "data": {
      "image/png": "[encoded data removed]",
      "text/plain": [
       "<Figure size 432x288 with 1 Axes>"
      ]
     },
     "metadata": {
      "needs_background": "light"
     },
     "output_type": "display_data"
    }
   ],
   "source": [
    "districts = df.groupby('district').count().ref_id.sort_values(ascending=False)\n",
    "share = round(districts/districts.sum()*100,1)\n",
    "g = sns.barplot(x=districts.values,y=districts.index.values)\n",
    "\n",
    "for i,row in enumerate(districts.iteritems()):\n",
    "    bar_text = f'{row[1]} ({share.iloc[i]}%)'\n",
    "    g.text(row[1],i, bar_text, color='black', ha=\"left\",va='center',rotation=0)\n",
    "g.set_title('Composicion por distrito')\n",
    "plt.show()"
   ]
  },
  {
   "cell_type": "markdown",
   "metadata": {},
   "source": [
    "### Composicion por inmobiliaria"
   ]
  },
  {
   "cell_type": "code",
   "execution_count": 17,
   "metadata": {},
   "outputs": [
    {
     "name": "stdout",
     "output_type": "stream",
     "text": [
      "total agencies:3\n"
     ]
    },
    {
     "data": {
      "image/png": "[encoded data removed]",
      "text/plain": [
       "<Figure size 576x432 with 1 Axes>"
      ]
     },
     "metadata": {
      "needs_background": "light"
     },
     "output_type": "display_data"
    }
   ],
   "source": [
    "agency = df.groupby(\"agency\").count().ref_id.sort_values(ascending= False)\n",
    "share = round(agency/agency.sum()*100,1)\n",
    "print(\"total agencies:\"+str(len(agency)))\n",
    "\n",
    "agency = agency.head(30)\n",
    "plt.figure(figsize=(8,6))\n",
    "g = sns.barplot(x=agency.values, y=agency.index.values)\n",
    "\n",
    "for i,row in enumerate(agency.iteritems()):\n",
    "    bar_text = f'{row[1]} ({share.iloc[i]}%)'\n",
    "    g.text(row[1],i, bar_text, color='black', ha=\"left\",va='center',rotation=0)\n",
    "g.set_title('Composicion por Agencia')\n",
    "plt.show()"
   ]
  },
  {
   "cell_type": "code",
   "execution_count": 20,
   "metadata": {},
   "outputs": [
    {
     "data": {
      "text/plain": [
       "['/17515-remax-solutions/inmuebles/1714/ficha/casa-en-venta-en-ayacucho-130?btid=3419445',\n",
       " '/52708-remax-chacras/inmuebles/564/ficha/casa-en-venta-en-los-peralitos?btid=3419445',\n",
       " '/52708-remax-chacras/inmuebles/336/ficha/casa-en-venta-en-b0-union-y-fuerza?btid=3419445',\n",
       " '/17515-remax-solutions/inmuebles/1579/ficha/casa-en-venta-en-pringles?btid=3419445',\n",
       " '/17515-remax-solutions/inmuebles/1726/ficha/casa-en-venta-en-kartin-club-lujan?btid=3419445',\n",
       " '/52708-remax-chacras/inmuebles/574/ficha/casa-en-venta-en-barrio-parque-drummond?btid=3419445',\n",
       " '/52708-remax-chacras/inmuebles/555/ficha/casa-en-venta-en-elpidio-gonzalez-4581?btid=3419445',\n",
       " '/17515-remax-solutions/inmuebles/1211/ficha/casa-en-venta-en-dalvian?btid=3419445',\n",
       " '/1626-remax-excelencia/inmuebles/9119/ficha/casa-en-venta-en-natania-47-luzuriaga?btid=3419445',\n",
       " '/1626-remax-excelencia/inmuebles/9139/ficha/casa-en-venta-en-50-seccion?btid=3419445',\n",
       " '/17515-remax-solutions/inmuebles/1805/ficha/casa-en-venta-en-gobernador-ortiz?btid=3419445',\n",
       " '/17515-remax-solutions/inmuebles/1489/ficha/casa-en-venta-en-la-vacherie-country-golf?btid=3419445',\n",
       " '/17515-remax-solutions/inmuebles/1184/ficha/casa-en-venta-en-b0-vista-oliva?btid=3419445',\n",
       " '/17515-remax-solutions/inmuebles/1177/ficha/casa-en-venta-en-b0-vista-oliva?btid=3419445',\n",
       " '/52708-remax-chacras/inmuebles/499/ficha/casa-en-venta-en-almirante-bronw-y-anzorena?btid=3419445',\n",
       " '/17515-remax-solutions/inmuebles/1922/ficha/casa-en-venta-en-barrio-el-marquesado?btid=3419445',\n",
       " '/1626-remax-excelencia/inmuebles/9138/ficha/casa-en-venta-en-b0-las-cortaderas-3?btid=3419445',\n",
       " '/17515-remax-solutions/inmuebles/1828/ficha/casa-en-venta-en-marquez-dorrego?btid=3419445',\n",
       " '/17515-remax-solutions/inmuebles/1908/ficha/casa-en-venta-en-corrientes-1180?btid=3419445',\n",
       " '/17515-remax-solutions/inmuebles/702/ficha/casa-en-venta-en-b0-rincon-de-terrada?btid=3419445',\n",
       " '/17515-remax-solutions/inmuebles/1508/ficha/casa-en-venta-en-dalvian?btid=3419445',\n",
       " '/1626-remax-excelencia/inmuebles/9035/ficha/casa-en-venta-en-barrio-la-capilla-vistalba?btid=3419445',\n",
       " '/1626-remax-excelencia/inmuebles/9024/ficha/casa-en-venta-en-belgrano-y-maza?btid=3419445',\n",
       " '/1626-remax-excelencia/inmuebles/8964/ficha/casa-en-venta-en-beltran-376?btid=3419445',\n",
       " '/1626-remax-excelencia/inmuebles/9019/ficha/casa-en-venta-en-las-vegas?btid=3419445',\n",
       " '/1626-remax-excelencia/inmuebles/9014/ficha/casa-en-venta-en-manzana-b-casa-9?btid=3419445',\n",
       " '/17515-remax-solutions/inmuebles/1809/ficha/casa-en-venta-en-b0-sol-andino-i?btid=3419445',\n",
       " '/1626-remax-excelencia/inmuebles/8887/ficha/casa-en-venta-en-maure-647?btid=3419445',\n",
       " '/17515-remax-solutions/inmuebles/923/ficha/casa-en-venta-en-arenales-y-pedro-del-castillo?btid=3419445',\n",
       " '/1626-remax-excelencia/inmuebles/8711/ficha/casa-en-venta-en-fader?btid=3419445',\n",
       " '/1626-remax-excelencia/inmuebles/6142/ficha/casa-en-venta-en-barrio-el-marquesado?btid=3419445',\n",
       " '/1626-remax-excelencia/inmuebles/8995/ficha/casa-en-venta-en-castro-barros?btid=3419445',\n",
       " '/1626-remax-excelencia/inmuebles/8996/ficha/casa-en-venta-en-castro-barros?btid=3419445',\n",
       " '/1626-remax-excelencia/inmuebles/8676/ficha/casa-en-venta-en-guaymallen?btid=3419445',\n",
       " '/1626-remax-excelencia/inmuebles/8986/ficha/casa-en-venta-en-castro-barros-500?btid=3419445',\n",
       " '/1626-remax-excelencia/inmuebles/8987/ficha/casa-en-venta-en-castro-barros-500?btid=3419445',\n",
       " '/1626-remax-excelencia/inmuebles/7472/ficha/casa-en-venta-en-barrio-el-remanso?btid=3419445',\n",
       " '/1626-remax-excelencia/inmuebles/8982/ficha/casa-en-venta-en-castro-barros?btid=3419445',\n",
       " '/1626-remax-excelencia/inmuebles/8029/ficha/casa-en-venta-en-barrio-prima-terra?btid=3419445',\n",
       " '/1626-remax-excelencia/inmuebles/8195/ficha/casa-en-venta-en-godoy-cruz-alvarez-thomas-150?btid=3419445',\n",
       " '/17515-remax-solutions/inmuebles/1706/ficha/casa-en-venta-en-tiburcio-benegas-a-metros-de-emilio-civit?btid=3419445',\n",
       " '/1626-remax-excelencia/inmuebles/8257/ficha/casa-en-venta-en-barrio-la-yaya?btid=3419445',\n",
       " '/1626-remax-excelencia/inmuebles/7913/ficha/casa-en-venta-en-cortaderas-i?btid=3419445',\n",
       " '/1626-remax-excelencia/inmuebles/8221/ficha/casa-en-venta-en-calle-los-carrales-s-n-los-zorzales-potrerillos?btid=3419445',\n",
       " '/1626-remax-excelencia/inmuebles/5610/ficha/casa-en-venta-en-alte-brown-y-guardia-vieja?btid=3419445',\n",
       " '/17515-remax-solutions/inmuebles/1678/ficha/casa-en-venta-en-vistalba-country?btid=3419445',\n",
       " '/17515-remax-solutions/inmuebles/1632/ficha/casa-en-venta-en-arroz-y-acceso-sur?btid=3419445',\n",
       " '/1626-remax-excelencia/inmuebles/8252/ficha/casa-en-venta-en-alzaga-adyacente-a-club-bco-mendoza?btid=3419445',\n",
       " '/1626-remax-excelencia/inmuebles/7490/ficha/casa-en-venta-en-ciudad-de-mendoza?btid=3419445',\n",
       " '/1626-remax-excelencia/inmuebles/7228/ficha/casa-en-venta-en-barrio-las-cortaderas-country?btid=3419445',\n",
       " '/1626-remax-excelencia/inmuebles/8780/ficha/casa-en-venta-en-casa-en-venta-chacras-de-coria?btid=3419445',\n",
       " '/1626-remax-excelencia/inmuebles/8620/ficha/casa-en-venta-en-casa-en-venta-barrio-privado-la-puntilla?btid=3419445',\n",
       " '/1626-remax-excelencia/inmuebles/7794/ficha/casa-en-venta-en-inka-1?btid=3419445',\n",
       " '/1626-remax-excelencia/inmuebles/8595/ficha/casa-en-venta-en-belgrano-y-maza?btid=3419445',\n",
       " '/52708-remax-chacras/inmuebles/646/ficha/casa-en-venta-en-callejon-villanueva-perdriel?btid=3419445',\n",
       " '/52708-remax-chacras/inmuebles/562/ficha/casa-en-venta-en-la-madrid-esquina-boulevard-guevara?btid=3419445',\n",
       " '/17515-remax-solutions/inmuebles/1867/ficha/casa-en-venta-en-palmares-valley?btid=3419445',\n",
       " '/1626-remax-excelencia/inmuebles/9108/ficha/casa-en-venta-en-zapiola-mayor-drummond?btid=3419445',\n",
       " '/1626-remax-excelencia/inmuebles/8757/ficha/casa-en-venta-en-barrio-jardin-serrano?btid=3419445',\n",
       " '/1626-remax-excelencia/inmuebles/8897/ficha/casa-en-venta-en-frente-a-club-peumayen-rugby?btid=3419445',\n",
       " '/1626-remax-excelencia/inmuebles/8896/ficha/casa-en-venta-en-frente-a-club-peumayen-rugby?btid=3419445',\n",
       " '/1626-remax-excelencia/inmuebles/9084/ficha/casa-en-venta-en-barrio-tejas-rojas?btid=3419445',\n",
       " '/1626-remax-excelencia/inmuebles/8815/ficha/casa-en-venta-en-jorge-a-calle-26?btid=3419445',\n",
       " '/1626-remax-excelencia/inmuebles/8862/ficha/casa-en-venta-en-callejon-taboada-2172?btid=3419445',\n",
       " '/17515-remax-solutions/inmuebles/920/ficha/casa-en-venta-en-carril-godoy-cruz-y-ecuador?btid=3419445',\n",
       " '/1626-remax-excelencia/inmuebles/8680/ficha/casa-en-venta-en-pinar-del-sol-i?btid=3419445',\n",
       " '/1626-remax-excelencia/inmuebles/9030/ficha/casa-en-venta-en-belgrano-y-maza?btid=3419445',\n",
       " '/1626-remax-excelencia/inmuebles/9047/ficha/casa-en-venta-en-balcon-de-la-sierra?btid=3419445',\n",
       " '/1626-remax-excelencia/inmuebles/9205/ficha/casa-en-venta-en-pinar-de-furlotti?btid=3419445',\n",
       " '/1626-remax-excelencia/inmuebles/9204/ficha/casa-en-venta-en-barrio-bombal?btid=3419445',\n",
       " '/1626-remax-excelencia/inmuebles/9151/ficha/casa-en-venta-en-esquina-casa-barrio-9-de-julio-jesus-nazareno?btid=3419445',\n",
       " '/17515-remax-solutions/inmuebles/1733/ficha/casa-en-venta-en-olivos-del-torreon?btid=3419445',\n",
       " '/1626-remax-excelencia/inmuebles/9202/ficha/casa-en-venta-en-barrio-las-cortaderas-country?btid=3419445',\n",
       " '/1626-remax-excelencia/inmuebles/9137/ficha/casa-en-venta-en-barrio-semi-privado-jardin-miraflores?btid=3419445',\n",
       " '/1626-remax-excelencia/inmuebles/9127/ficha/casa-en-venta-en-barrio-rincon-de-drummond?btid=3419445',\n",
       " '/1626-remax-excelencia/inmuebles/9115/ficha/casa-en-venta-en-bernardo-ortiz-b0-parque?btid=3419445',\n",
       " '/1626-remax-excelencia/inmuebles/9116/ficha/casa-en-venta-en-garibaldi-70?btid=3419445',\n",
       " '/1626-remax-excelencia/inmuebles/9111/ficha/casa-en-venta-en-casa-en-chacras-de-coria?btid=3419445',\n",
       " '/1626-remax-excelencia/inmuebles/9060/ficha/casa-en-venta-en-luzuriaga?btid=3419445',\n",
       " '/1626-remax-excelencia/inmuebles/9185/ficha/casa-en-venta-en-club-de-campo',\n",
       " '/52708-remax-chacras/inmuebles/654/ficha/casa-en-venta-en-barrio-jardines-del-puente-guaymallen',\n",
       " '/17515-remax-solutions/inmuebles/1938/ficha/casa-en-venta-en-b0-26-de-julio',\n",
       " '/52708-remax-chacras/inmuebles/441/ficha/casa-en-venta-en-barrio-santa-elena?btid=3419445',\n",
       " '/17515-remax-solutions/inmuebles/1102/ficha/casa-en-venta-en-barrio-lago-del-torreon?btid=3419445',\n",
       " '/17515-remax-solutions/inmuebles/1148/ficha/casa-en-venta-en-santa-angela?btid=3419445',\n",
       " '/52708-remax-chacras/inmuebles/420/ficha/casa-en-venta-en-guardia-vieja-1503?btid=3419445',\n",
       " '/17515-remax-solutions/inmuebles/1569/ficha/casa-en-venta-en-boedo-155-b0-tierras-de-carrodilla?btid=3419445',\n",
       " '/17515-remax-solutions/inmuebles/1353/ficha/casa-en-venta-en-estanislao-del-campo?btid=3419445',\n",
       " '/17515-remax-solutions/inmuebles/1613/ficha/casa-en-venta-en-lomas-de-chacras?btid=3419445',\n",
       " '/17515-remax-solutions/inmuebles/1602/ficha/casa-en-venta-en-av-san-martin-sur?btid=3419445',\n",
       " '/17515-remax-solutions/inmuebles/1581/ficha/casa-en-venta-en-b0-balcones-de-carrodilla?btid=3419445',\n",
       " '/1626-remax-excelencia/inmuebles/8973/ficha/casa-en-venta-en-joaquin-v-gonzalez?btid=3419445',\n",
       " '/1626-remax-excelencia/inmuebles/8255/ficha/casa-en-venta-en-b-cerro-la-capilla-el-challao?btid=3419445',\n",
       " '/1626-remax-excelencia/inmuebles/8970/ficha/casa-en-venta-en-boulevard-los-plumerillos-y-lateral-juan-jose-paso?btid=3419445',\n",
       " '/1626-remax-excelencia/inmuebles/8968/ficha/casa-en-venta-en-boulevard-los-plumerillos-y-lateral-juan-jose-paso?btid=3419445',\n",
       " '/1626-remax-excelencia/inmuebles/8969/ficha/casa-en-venta-en-boulevard-los-plumerillos-y-lateral-juan-jose-paso?btid=3419445',\n",
       " '/1626-remax-excelencia/inmuebles/8971/ficha/casa-en-venta-en-boulevard-los-plumerillos-y-lateral-juan-jose-paso?btid=3419445',\n",
       " '/1626-remax-excelencia/inmuebles/8967/ficha/casa-en-venta-en-boulevard-los-plumerillos-y-lateral-juan-jose-paso?btid=3419445',\n",
       " '/1626-remax-excelencia/inmuebles/8731/ficha/casa-en-venta-en-bo-cerro-de-la-capilla?btid=3419445',\n",
       " '/1626-remax-excelencia/inmuebles/8561/ficha/casa-en-venta-en-rincon-deterrada?btid=3419445',\n",
       " '/1626-remax-excelencia/inmuebles/8538/ficha/casa-en-venta-en-c-chilenos-y-9-de-julio-cuarta-oeste?btid=3419445',\n",
       " '/1626-remax-excelencia/inmuebles/8205/ficha/casa-en-venta-en-rio-diamante?btid=3419445',\n",
       " '/1626-remax-excelencia/inmuebles/8311/ficha/casa-en-venta-en-zona-tribunales?btid=3419445',\n",
       " '/1626-remax-excelencia/inmuebles/8843/ficha/casa-en-venta-en-venta-casa-lujan-de-cuyo?btid=3419445',\n",
       " '/17515-remax-solutions/inmuebles/12/ficha/casa-en-venta-en-rincon-de-chacras?btid=3419445',\n",
       " '/1626-remax-excelencia/inmuebles/8952/ficha/casa-en-venta-en-palmares-3-etapa?btid=3419445',\n",
       " '/1626-remax-excelencia/inmuebles/8944/ficha/casa-en-venta-en-cementista-ii-las-heras?btid=3419445',\n",
       " '/1626-remax-excelencia/inmuebles/8936/ficha/casa-en-venta-en-esquina-martinez-de-rozas?btid=3419445',\n",
       " '/17515-remax-solutions/inmuebles/182/ficha/casa-en-venta-en-cavagnaro?btid=3419445',\n",
       " '/17515-remax-solutions/inmuebles/42/ficha/casa-en-venta-en-agustin-alvarez?btid=3419445',\n",
       " '/1626-remax-excelencia/inmuebles/8919/ficha/casa-en-venta-en-alsaga-huerto-del-sol?btid=3419445',\n",
       " '/1626-remax-excelencia/inmuebles/8899/ficha/casa-en-venta-en-las-palmas-1?btid=3419445',\n",
       " '/1626-remax-excelencia/inmuebles/8895/ficha/casa-en-venta-en-frente-a-club-peumayen-rugby?btid=3419445',\n",
       " '/17515-remax-solutions/inmuebles/1304/ficha/casa-en-venta-en-besares-860?btid=3419445',\n",
       " '/1626-remax-excelencia/inmuebles/7635/ficha/casa-en-venta-en-j-jose-paso-3084-lateral-sur-carrodilla?btid=3419445',\n",
       " '/1626-remax-excelencia/inmuebles/8888/ficha/casa-en-venta-en-lateral-sur-acceso-este?btid=3419445',\n",
       " '/1626-remax-excelencia/inmuebles/8876/ficha/casa-en-venta-en-barrio-las-cortaderas-ii?btid=3419445',\n",
       " '/1626-remax-excelencia/inmuebles/8747/ficha/casa-en-venta-en-quinta-seccion-sobre-paso-de-los-andes?btid=3419445',\n",
       " '/1626-remax-excelencia/inmuebles/8914/ficha/casa-en-venta-en-venta-casa-lujan-de-cuyo?btid=3419445',\n",
       " '/1626-remax-excelencia/inmuebles/9173/ficha/casa-en-venta-en-casa-en-venta-barrio-privado-vistapueblo?btid=3419445',\n",
       " '/52708-remax-chacras/inmuebles/471/ficha/casa-en-venta-en-dardo-perez?btid=3419445',\n",
       " '/17515-remax-solutions/inmuebles/1543/ficha/casa-en-venta-en-provincia-de-chaco-3000?btid=3419445',\n",
       " '/17515-remax-solutions/inmuebles/1290/ficha/casa-en-venta-en-olivos-del-torreon?btid=3419445',\n",
       " '/17515-remax-solutions/inmuebles/1039/ficha/casa-en-venta-en-calle-uruguay?btid=3419445',\n",
       " '/52708-remax-chacras/inmuebles/290/ficha/casa-en-venta-en-barrio-dalvian?btid=3419445',\n",
       " '/52708-remax-chacras/inmuebles/359/ficha/casa-en-venta-en-catriel-7577?btid=3419445',\n",
       " '/17515-remax-solutions/inmuebles/1918/ficha/casa-en-venta-en-liniers?btid=3419445',\n",
       " '/17515-remax-solutions/inmuebles/1842/ficha/casa-en-venta-en-liceo-country-2?btid=3419445',\n",
       " '/1626-remax-excelencia/inmuebles/9235/ficha/casa-en-venta-en-casa-en-venta-barrio-privado-gardens?btid=3419445',\n",
       " '/1626-remax-excelencia/inmuebles/9236/ficha/casa-en-venta-en-casa-en-venta-barrio-cerrado-en-caracoles-de-chacr?btid=3419445',\n",
       " '/17515-remax-solutions/inmuebles/1841/ficha/casa-en-venta-en-vinas-del-torreon?btid=3419445',\n",
       " '/17515-remax-solutions/inmuebles/1442/ficha/casa-en-venta-en-chacras-de-coria?btid=3419445',\n",
       " '/1626-remax-excelencia/inmuebles/8865/ficha/casa-en-venta-en-juan-jufre?btid=3419445',\n",
       " '/52708-remax-chacras/inmuebles/472/ficha/casa-en-venta-en-barrio-agua-y-energia-15?btid=3419445',\n",
       " '/17515-remax-solutions/inmuebles/1837/ficha/casa-en-venta-en-mathus-hoyos-4000?btid=3419445',\n",
       " '/17515-remax-solutions/inmuebles/1673/ficha/casa-en-venta-en-chacabuco-y-tacuari?btid=3419445',\n",
       " '/1626-remax-excelencia/inmuebles/8760/ficha/casa-en-venta-en-barraquero?btid=3419445',\n",
       " '/52708-remax-chacras/inmuebles/544/ficha/casa-en-venta-en-rincon-de-vistalba?btid=3419445',\n",
       " '/52708-remax-chacras/inmuebles/379/ficha/casa-en-venta-en-rincon-de-terrada?btid=3419445',\n",
       " '/17515-remax-solutions/inmuebles/1416/ficha/casa-en-venta-en-b0-huerto?btid=3419445',\n",
       " '/52708-remax-chacras/inmuebles/315/ficha/casa-en-venta-en-quintana?btid=3419445',\n",
       " '/17515-remax-solutions/inmuebles/848/ficha/casa-en-venta-en-barrio-rincon-de-palma?btid=3419445',\n",
       " '/17515-remax-solutions/inmuebles/764/ficha/casa-en-venta-en-barrio-village?btid=3419445',\n",
       " '/1626-remax-excelencia/inmuebles/8150/ficha/casa-en-venta-en-b-privado-pueyrredon?btid=3419445',\n",
       " '/17515-remax-solutions/inmuebles/1757/ficha/casa-en-venta-en-lar-de-vieytes-2?btid=3419445',\n",
       " '/17515-remax-solutions/inmuebles/1158/ficha/casa-en-venta-en-vista-pueblo?btid=3419445',\n",
       " '/17515-remax-solutions/inmuebles/1278/ficha/casa-en-venta-en-liniers-1507?btid=3419445',\n",
       " '/1626-remax-excelencia/inmuebles/9221/ficha/casa-en-venta-en-cruz-videla-y-maza?btid=3419445',\n",
       " '/17515-remax-solutions/inmuebles/1286/ficha/casa-en-venta-en-vista-pueblo?btid=3419445',\n",
       " '/52708-remax-chacras/inmuebles/638/ficha/casa-en-venta-en-cordoba-y-uruguay?btid=3419445',\n",
       " '/52708-remax-chacras/inmuebles/635/ficha/casa-en-venta-en-cabernet-769?btid=3419445',\n",
       " '/17515-remax-solutions/inmuebles/1846/ficha/casa-en-venta-en-monsenor-verdaguer-350?btid=3419445',\n",
       " '/52708-remax-chacras/inmuebles/393/ficha/casa-en-venta-en-avenida-del-sol-sn-lote-12-mna-k-las-vegas-po?btid=3419445',\n",
       " '/17515-remax-solutions/inmuebles/1557/ficha/casa-en-venta-en-villa-atilia?btid=3419445',\n",
       " '/17515-remax-solutions/inmuebles/1558/ficha/casa-en-venta-en-peru-y-colon?btid=3419445',\n",
       " '/17515-remax-solutions/inmuebles/1023/ficha/casa-en-venta-en-el-nogal?btid=3419445',\n",
       " '/52708-remax-chacras/inmuebles/367/ficha/casa-en-venta-en-lavalle?btid=3419445',\n",
       " '/17515-remax-solutions/inmuebles/797/ficha/casa-en-venta-en-eusebio-blanco?btid=3419445',\n",
       " '/52708-remax-chacras/inmuebles/356/ficha/casa-en-venta-en-barrio-lar-de-drummond?btid=3419445',\n",
       " '/52708-remax-chacras/inmuebles/626/ficha/casa-en-venta-en-mariano-moreno-623-godoy-cruz?btid=3419445',\n",
       " '/52708-remax-chacras/inmuebles/611/ficha/casa-en-venta-en-barrio-leonangeli?btid=3419445',\n",
       " '/17515-remax-solutions/inmuebles/1668/ficha/casa-en-venta-en-rodriguez?btid=3419445',\n",
       " '/17515-remax-solutions/inmuebles/1448/ficha/casa-en-venta-en-vista-pueblo?btid=3419445',\n",
       " '/17515-remax-solutions/inmuebles/1028/ficha/casa-en-venta-en-barrio-miraflores?btid=3419445',\n",
       " '/17515-remax-solutions/inmuebles/1797/ficha/casa-en-venta-en-rp60-a-2km-de-acc-sur?btid=3419445',\n",
       " '/17515-remax-solutions/inmuebles/1101/ficha/casa-en-venta-en-lar-de-boedo?btid=3419445',\n",
       " '/17515-remax-solutions/inmuebles/1798/ficha/casa-en-venta-en-tuyuti-2053?btid=3419445',\n",
       " '/17515-remax-solutions/inmuebles/1859/ficha/casa-en-venta-en-dorrego?btid=3419445',\n",
       " '/1626-remax-excelencia/inmuebles/9097/ficha/casa-en-venta-en-dr-schertacov-alto-mendoza?btid=3419445',\n",
       " '/1626-remax-excelencia/inmuebles/9098/ficha/casa-en-venta-en-dr-schertacov-alto-mendoza?btid=3419445',\n",
       " '/17515-remax-solutions/inmuebles/1336/ficha/casa-en-venta-en-b0-privado-milcayac?btid=3419445',\n",
       " '/1626-remax-excelencia/inmuebles/8761/ficha/casa-en-venta-en-elpidio-gonzalez-y-urquiza?btid=3419445',\n",
       " '/17515-remax-solutions/inmuebles/1471/ficha/casa-en-venta-en-almirante-brown?btid=3419445',\n",
       " '/17515-remax-solutions/inmuebles/1337/ficha/casa-en-venta-en-oportunidad-b0-milkayac?btid=3419445',\n",
       " '/17515-remax-solutions/inmuebles/1330/ficha/casa-en-venta-en-b0-privado-zettavi?btid=3419445',\n",
       " '/17515-remax-solutions/inmuebles/1308/ficha/casa-en-venta-en-rincon-de-drummond?btid=3419445',\n",
       " '/17515-remax-solutions/inmuebles/1372/ficha/casa-en-venta-en-lar-de-boedo?btid=3419445',\n",
       " '/17515-remax-solutions/inmuebles/1550/ficha/casa-en-venta-en-aires-de-malbec?btid=3419445',\n",
       " '/17515-remax-solutions/inmuebles/1531/ficha/casa-en-venta-en-9-de-julio-1276-guaymallen?btid=3419445',\n",
       " '/52708-remax-chacras/inmuebles/546/ficha/casa-en-venta-en-bo-jardines-santa-oliva-m-d-c-31?btid=3419445',\n",
       " '/17515-remax-solutions/inmuebles/1791/ficha/casa-en-venta-en-ruta-naciona-149-s-n-km-14?btid=3419445',\n",
       " '/52708-remax-chacras/inmuebles/552/ficha/casa-en-venta-en-vieytes-2626?btid=3419445',\n",
       " '/17515-remax-solutions/inmuebles/145/ficha/casa-en-venta-en-los-peralitos?btid=3419445',\n",
       " '/52708-remax-chacras/inmuebles/519/ficha/casa-en-venta-en-coquimbito-maipu?btid=3419445',\n",
       " '/1626-remax-excelencia/inmuebles/8413/ficha/casa-en-venta-en-barrio-valle-cordon-del-plata?btid=3419445',\n",
       " '/52708-remax-chacras/inmuebles/550/ficha/casa-en-venta-en-barrio-nuevas-quintas-el-challao?btid=3419445',\n",
       " '/52708-remax-chacras/inmuebles/617/ficha/casa-en-venta-en-viamonte-2901?btid=3419445',\n",
       " '/1626-remax-excelencia/inmuebles/8891/ficha/casa-en-venta-en-barrio-villa-atilia?btid=3419445',\n",
       " '/17515-remax-solutions/inmuebles/1909/ficha/casa-en-venta-en-laguna-de-guanacache-1326?btid=3419445',\n",
       " '/17515-remax-solutions/inmuebles/1910/ficha/casa-en-venta-en-corrientes-1180?btid=3419445',\n",
       " '/17515-remax-solutions/inmuebles/1822/ficha/casa-en-venta-en-rodriguez?btid=3419445',\n",
       " '/17515-remax-solutions/inmuebles/1721/ficha/casa-en-venta-en-rodriguez?btid=3419445',\n",
       " '/1626-remax-excelencia/inmuebles/8739/ficha/casa-en-venta-en-elpidio-gonzalez-y-curupayti-b0-privado-portal-de?btid=3419445',\n",
       " '/1626-remax-excelencia/inmuebles/8738/ficha/casa-en-venta-en-elpidio-gonzalez-y-curupayti?btid=3419445',\n",
       " '/1626-remax-excelencia/inmuebles/8873/ficha/casa-en-venta-en-elpidio-gonzalez-esquina-curupayti-b0-privado-por?btid=3419445',\n",
       " '/1626-remax-excelencia/inmuebles/8874/ficha/casa-en-venta-en-elpidio-gonzalez-esquina-curupayti-b0-privado-por?btid=3419445',\n",
       " '/17515-remax-solutions/inmuebles/1041/ficha/casa-en-venta-en-barrio-trapiche?btid=3419445',\n",
       " '/52708-remax-chacras/inmuebles/628/ficha/casa-en-venta-en-cochabamba?btid=3419445',\n",
       " '/17515-remax-solutions/inmuebles/1905/ficha/casa-en-venta-en-fray-justo-santa-maria-de-oro?btid=3419445',\n",
       " '/17515-remax-solutions/inmuebles/1904/ficha/casa-en-venta-en-barrio-vistandes?btid=3419445',\n",
       " '/17515-remax-solutions/inmuebles/1906/ficha/casa-en-venta-en-pasaje-romero?btid=3419445',\n",
       " '/17515-remax-solutions/inmuebles/1281/ficha/casa-en-venta-en-medrano-a-metros-de-viamonte?btid=3419445',\n",
       " '/1626-remax-excelencia/inmuebles/7457/ficha/casa-en-venta-en-barrio-palmares?btid=3419445',\n",
       " '/52708-remax-chacras/inmuebles/357/ficha/casa-en-venta-en-bo-rincon-de-araoz-casa-127-lujan-de-cuyo-mendo?btid=3419445',\n",
       " '/52708-remax-chacras/inmuebles/346/ficha/casa-en-venta-en-callejon-comunero-calle-longone?btid=3419445',\n",
       " '/1626-remax-excelencia/inmuebles/8498/ficha/casa-en-venta-en-elpidio-y-azcuenaga-b-privado-patagonia?btid=3419445',\n",
       " '/17515-remax-solutions/inmuebles/1403/ficha/casa-en-venta-en-barrio-dalvian?btid=3419445',\n",
       " '/17515-remax-solutions/inmuebles/1760/ficha/casa-en-venta-en-b0-jardin-godoy-cruz?btid=3419445',\n",
       " '/17515-remax-solutions/inmuebles/1538/ficha/casa-en-venta-en-natania-47-luzuriaga-maipu?btid=3419445',\n",
       " '/52708-remax-chacras/inmuebles/340/ficha/casa-en-venta-en-barrio-milcayac-1?btid=3419445',\n",
       " '/52708-remax-chacras/inmuebles/422/ficha/casa-en-venta-en-ozamis-sur-y-videla-castillo?btid=3419445',\n",
       " '/17515-remax-solutions/inmuebles/532/ficha/casa-en-venta-en-solares-de-don-americo?btid=3419445',\n",
       " '/1626-remax-excelencia/inmuebles/8885/ficha/casa-en-venta-en-casa-en-venta-barrio-privado-gardens?btid=3419445',\n",
       " '/1626-remax-excelencia/inmuebles/8946/ficha/casa-en-venta-en-zapiola-715-drummond-lujan-de-cuyo?btid=3419445',\n",
       " '/17515-remax-solutions/inmuebles/1919/ficha/casa-en-venta-en-b0-altos-de-carrodilla?btid=3419445',\n",
       " '/52708-remax-chacras/inmuebles/419/ficha/casa-en-venta-en-chacras-de-coria?btid=3419445',\n",
       " '/1626-remax-excelencia/inmuebles/8541/ficha/casa-en-venta-en-j-a-roca-casi-b-sur-mer?btid=3419445',\n",
       " '/17515-remax-solutions/inmuebles/1183/ficha/casa-en-venta-en-b0-vista-oliva?btid=3419445',\n",
       " '/17515-remax-solutions/inmuebles/1555/ficha/casa-en-venta-en-las-moreas-y-bombal?btid=3419445',\n",
       " '/1626-remax-excelencia/inmuebles/9128/ficha/casa-en-venta-en-barrio-dalvian?btid=3419445',\n",
       " '/17515-remax-solutions/inmuebles/1866/ficha/casa-en-venta-en-barrio-el-portillo-1?btid=3419445',\n",
       " '/1626-remax-excelencia/inmuebles/9101/ficha/casa-en-venta-en-la-barraca-country?btid=3419445',\n",
       " '/1626-remax-excelencia/inmuebles/9200/ficha/casa-en-venta-en-terrada-y-juan-jose-paso?btid=3419445',\n",
       " '/1626-remax-excelencia/inmuebles/8902/ficha/casa-en-venta-en-entre-emilio-civit-y-palma-maipu?btid=3419445',\n",
       " '/17515-remax-solutions/inmuebles/1838/ficha/casa-en-venta-en-green-garden?btid=3419445',\n",
       " '/1626-remax-excelencia/inmuebles/9092/ficha/casa-en-venta-en-barrio-bombal?btid=3419445',\n",
       " '/1626-remax-excelencia/inmuebles/7907/ficha/casa-en-venta-en-proximo-a-calle-san-martin?btid=3419445',\n",
       " '/1626-remax-excelencia/inmuebles/6617/ficha/casa-en-venta-en-rincon-de-drummon?btid=3419445',\n",
       " '/1626-remax-excelencia/inmuebles/9079/ficha/casa-en-venta-en-terrunos-de-araoz?btid=3419445',\n",
       " '/1626-remax-excelencia/inmuebles/7125/ficha/casa-en-venta-en-rincon-de-drummon?btid=3419445',\n",
       " '/1626-remax-excelencia/inmuebles/9078/ficha/casa-en-venta-en-barrio-terrunos-araoz-ii?btid=3419445',\n",
       " '/1626-remax-excelencia/inmuebles/8621/ficha/casa-en-venta-en-barrio-villa-catalina?btid=3419445',\n",
       " '/17515-remax-solutions/inmuebles/1147/ficha/casa-en-venta-en-chavarria?btid=3419445',\n",
       " '/1626-remax-excelencia/inmuebles/8304/ficha/casa-en-venta-en-derqui-barrio-bancario?btid=3419445',\n",
       " '/1626-remax-excelencia/inmuebles/9071/ficha/casa-en-venta-en-ferrari-y-buenos-vecinos?btid=3419445',\n",
       " '/1626-remax-excelencia/inmuebles/9062/ficha/casa-en-venta-en-calle-anzorena?btid=3419445',\n",
       " '/1626-remax-excelencia/inmuebles/9049/ficha/casa-en-venta-en-ferrari-962?btid=3419445',\n",
       " '/1626-remax-excelencia/inmuebles/8083/ficha/casa-en-venta-en-barrio-pircas-del-challao?btid=3419445',\n",
       " '/17515-remax-solutions/inmuebles/1419/ficha/casa-en-venta-en-barrio-trapiche?btid=3419445',\n",
       " '/1626-remax-excelencia/inmuebles/9045/ficha/casa-en-venta-en-manuel-a-saez-822?btid=3419445',\n",
       " '/1626-remax-excelencia/inmuebles/9042/ficha/casa-en-venta-en-barrio-privado-milcayac?btid=3419445',\n",
       " '/17515-remax-solutions/inmuebles/34/ficha/casa-en-venta-en-rincon-de-araoz?btid=3419445',\n",
       " '/52708-remax-chacras/inmuebles/605/ficha/casa-en-venta-en-barrio-puerta-del-sol?btid=3419445',\n",
       " '/17515-remax-solutions/inmuebles/1744/ficha/casa-en-venta-en-vistalba-lujan-de-cuyo?btid=3419445',\n",
       " '/1626-remax-excelencia/inmuebles/6908/ficha/casa-en-venta-en-calle-asia-y-salvador-arias?btid=3419445',\n",
       " '/1626-remax-excelencia/inmuebles/9123/ficha/casa-en-venta-en-ituzaingo-area-fundacional?btid=3419445',\n",
       " '/17515-remax-solutions/inmuebles/1871/ficha/casa-en-venta-en-pueyrredon-a-metros-de-san-martin-sur?btid=3419445',\n",
       " '/1626-remax-excelencia/inmuebles/9134/ficha/casa-en-venta-en-40-seccion-paraguay-2691-ciudad?btid=3419445',\n",
       " '/1626-remax-excelencia/inmuebles/9122/ficha/casa-en-venta-en-p-pascual-segura-las-heras?btid=3419445',\n",
       " '/1626-remax-excelencia/inmuebles/9130/ficha/casa-en-venta-en-b0-cerro-de-la-capilla?btid=3419445',\n",
       " '/1626-remax-excelencia/inmuebles/8907/ficha/casa-en-venta-en-hermosa-casa-en-la-sexta-seccion?btid=3419445',\n",
       " '/17515-remax-solutions/inmuebles/1921/ficha/casa-en-venta-en-barrio-jardin-los-castanos?btid=3419445',\n",
       " '/52708-remax-chacras/inmuebles/287/ficha/casa-en-venta-en-dr-j-gainza-8va-seccion?btid=3419445',\n",
       " '/52708-remax-chacras/inmuebles/603/ficha/casa-en-venta-en-saenz-pena-2756?btid=3419445',\n",
       " '/52708-remax-chacras/inmuebles/601/ficha/casa-en-venta-en-patricios-549?btid=3419445',\n",
       " '/17515-remax-solutions/inmuebles/1862/ficha/casa-en-venta-en-casi-paso-de-los-andes?btid=3419445',\n",
       " '/52708-remax-chacras/inmuebles/478/ficha/casa-en-venta-en-juan-b-justo?btid=3419445',\n",
       " '/1626-remax-excelencia/inmuebles/7804/ficha/casa-en-venta-en-marmol-1720-marmol-y-pellegrini?btid=3419445',\n",
       " '/17515-remax-solutions/inmuebles/1864/ficha/casa-en-venta-en-armani-y-renato-della-santa?btid=3419445',\n",
       " '/17515-remax-solutions/inmuebles/1758/ficha/casa-en-venta-en-barrio-rucalen-el-challao-mendoza?btid=3419445',\n",
       " '/17515-remax-solutions/inmuebles/1607/ficha/casa-en-venta-en-cerro-trapal-a-metros-de-sarmiento?btid=3419445',\n",
       " '/17515-remax-solutions/inmuebles/1865/ficha/casa-en-venta-en-los-corralitos?btid=3419445',\n",
       " '/17515-remax-solutions/inmuebles/1818/ficha/casa-en-venta-en-pedriel?btid=3419445',\n",
       " '/17515-remax-solutions/inmuebles/1425/ficha/casa-en-venta-en-avenida-del-sol?btid=3419445',\n",
       " '/17515-remax-solutions/inmuebles/1560/ficha/casa-en-venta-en-los-aromos-chacras-de-coria?btid=3419445',\n",
       " '/17515-remax-solutions/inmuebles/1719/ficha/casa-en-venta-en-guinazu?btid=3419445',\n",
       " '/1626-remax-excelencia/inmuebles/8103/ficha/casa-en-venta-en-roque-saenz-pena?btid=3419445',\n",
       " '/17515-remax-solutions/inmuebles/1088/ficha/casa-en-venta-en-b0-lomas-de-terrada?btid=3419445',\n",
       " '/1626-remax-excelencia/inmuebles/9003/ficha/casa-en-venta-en-pedro-del-castillo-y-fader?btid=3419445',\n",
       " '/1626-remax-excelencia/inmuebles/9226/ficha/casa-en-venta-en-necochea-3597?btid=3419445',\n",
       " '/52708-remax-chacras/inmuebles/199/ficha/casa-en-venta-en-callejon-comunero-salida-medrano-2938?btid=3419445',\n",
       " '/1626-remax-excelencia/inmuebles/9210/ficha/casa-en-venta-en-martinez-de-rosas-y-leonidas-aguirre?btid=3419445',\n",
       " '/17515-remax-solutions/inmuebles/1490/ficha/casa-en-venta-en-medrano-2500?btid=3419445',\n",
       " '/1626-remax-excelencia/inmuebles/8038/ficha/casa-en-venta-en-sexta-seccion?btid=3419445',\n",
       " '/1626-remax-excelencia/inmuebles/9141/ficha/casa-en-venta-en-pasaje-sauli?btid=3419445',\n",
       " '/17515-remax-solutions/inmuebles/1820/ficha/casa-en-venta-en-club-de-campo?btid=3419445',\n",
       " '/52708-remax-chacras/inmuebles/547/ficha/casa-en-venta-en-calle-cutralco-barrio-supe?btid=3419445',\n",
       " '/1626-remax-excelencia/inmuebles/9222/ficha/casa-en-venta-en-barrio-dalvian?btid=3419445',\n",
       " '/1626-remax-excelencia/inmuebles/9203/ficha/casa-en-venta-en-barrio-las-cortaderas-country?btid=3419445',\n",
       " '/1626-remax-excelencia/inmuebles/8985/ficha/casa-en-venta-en-barrio-nazar-ex-mutual-alimentacion-n?btid=3419445',\n",
       " '/1626-remax-excelencia/inmuebles/9036/ficha/casa-en-venta-en-b-lar-de-drummond?btid=3419445',\n",
       " '/17515-remax-solutions/inmuebles/1774/ficha/casa-en-venta-en-club-de-campo-mendoza?btid=3419445',\n",
       " '/17515-remax-solutions/inmuebles/1827/ficha/casa-en-venta-en-cercana-al-hospital-espanol?btid=3419445',\n",
       " '/17515-remax-solutions/inmuebles/1889/ficha/casa-en-venta-en-rawson?btid=3419445',\n",
       " '/17515-remax-solutions/inmuebles/1073/ficha/casa-en-venta-en-sexta-seccion?btid=3419445',\n",
       " '/1626-remax-excelencia/inmuebles/8631/ficha/casa-en-venta-en-carrodilla?btid=3419445',\n",
       " '/1626-remax-excelencia/inmuebles/9213/ficha/casa-en-venta-en-caleta-olivia?btid=3419445',\n",
       " '/1626-remax-excelencia/inmuebles/9211/ficha/casa-en-venta-en-las-heras-limite-con-capital?btid=3419445',\n",
       " '/1626-remax-excelencia/inmuebles/9190/ficha/casa-en-venta-en-zona-industrial-godoy-cruz-a-mts-acceso-sur-y-rodr?btid=3419445',\n",
       " '/1626-remax-excelencia/inmuebles/9191/ficha/casa-en-venta-en-espana-4969?btid=3419445',\n",
       " '/17515-remax-solutions/inmuebles/1902/ficha/casa-en-venta-en-perito-moreno?btid=3419445',\n",
       " '/1626-remax-excelencia/inmuebles/9206/ficha/casa-en-venta-en-pinar-de-furlotti?btid=3419445',\n",
       " '/52708-remax-chacras/inmuebles/513/ficha/casa-en-venta-en-godofredo-paladini-881-c6?btid=3419445',\n",
       " '/17515-remax-solutions/inmuebles/1335/ficha/casa-en-venta-en-preventa-b0-lar-de-vieytes?btid=3419445',\n",
       " '/1626-remax-excelencia/inmuebles/9131/ficha/casa-en-venta-en-25-de-mayo-1800?btid=3419445',\n",
       " '/1626-remax-excelencia/inmuebles/8540/ficha/casa-en-venta-en-semi-privado-carrodilla?btid=3419445',\n",
       " '/1626-remax-excelencia/inmuebles/8861/ficha/casa-en-venta-en-casa-en-venta-godoy-cruz?btid=3419445',\n",
       " '/52708-remax-chacras/inmuebles/342/ficha/casa-en-venta-en-el-marquesado?btid=3419445',\n",
       " '/52708-remax-chacras/inmuebles/493/ficha/casa-en-venta-en-vistalba-mendoza?btid=3419445',\n",
       " '/17515-remax-solutions/inmuebles/256/ficha/casa-en-venta-en-luis-pasteur-y-eheverria-bombal-sur?btid=3419445',\n",
       " '/52708-remax-chacras/inmuebles/485/ficha/casa-en-venta-en-videla-castillo-maipu?btid=3419445',\n",
       " '/17515-remax-solutions/inmuebles/1686/ficha/casa-en-venta-en-holmerg-2070?btid=3419445',\n",
       " '/17515-remax-solutions/inmuebles/587/ficha/casa-en-venta-en-barrio-las-catalpas?btid=3419445',\n",
       " '/17515-remax-solutions/inmuebles/1676/ficha/casa-en-venta-en-entre-juan-de-dios-videla-y-aristobulo-del-valle?btid=3419445',\n",
       " '/17515-remax-solutions/inmuebles/1766/ficha/casa-en-venta-en-rincon-de-drumond?btid=3419445',\n",
       " '/52708-remax-chacras/inmuebles/648/ficha/casa-en-venta-en-cordoba-959-barrio-jardin-trapiche?btid=3419445',\n",
       " '/52708-remax-chacras/inmuebles/594/ficha/casa-en-venta-en-b0-los-castanos-chacras-de-coria?btid=3419445',\n",
       " '/17515-remax-solutions/inmuebles/1930/ficha/casa-en-venta-en-vicente-lopez-565?btid=3419445',\n",
       " '/52708-remax-chacras/inmuebles/492/ficha/casa-en-venta-en-vistalba-mendoza?btid=3419445',\n",
       " '/1626-remax-excelencia/inmuebles/8677/ficha/casa-en-venta-en-vistalba?btid=3419445',\n",
       " '/17515-remax-solutions/inmuebles/1861/ficha/casa-en-venta-en-casa-a-restaurar-quinta-seccion?btid=3419445',\n",
       " '/17515-remax-solutions/inmuebles/1854/ficha/casa-en-venta-en-25-de-mayo-y-jose-marmol?btid=3419445',\n",
       " '/17515-remax-solutions/inmuebles/1848/ficha/casa-en-venta-en-rodriguez-y-san-francisco-del-monte?btid=3419445',\n",
       " '/17515-remax-solutions/inmuebles/1392/ficha/casa-en-venta-en-rincon-de-drummond?btid=3419445',\n",
       " '/17515-remax-solutions/inmuebles/1444/ficha/casa-en-venta-en-barrio-trapiche?btid=3419445',\n",
       " '/1626-remax-excelencia/inmuebles/8504/ficha/casa-en-venta-en-solares-de-gabrieli?btid=3419445',\n",
       " '/17515-remax-solutions/inmuebles/933/ficha/casa-en-venta-en-luzuriaga-casi-paso-de-los-andes?btid=3419445',\n",
       " '/52708-remax-chacras/inmuebles/18/ficha/casa-en-venta-en-bo-puerta-del-sol?btid=3419445',\n",
       " '/17515-remax-solutions/inmuebles/1801/ficha/casa-en-venta-en-juan-cornelio-moyano-las-heras?btid=3419445',\n",
       " '/52708-remax-chacras/inmuebles/362/ficha/casa-en-venta-en-25-de-mayo-y-ozamis?btid=3419445',\n",
       " '/52708-remax-chacras/inmuebles/363/ficha/casa-en-venta-en-25-de-mayo-y-ozamis?btid=3419445',\n",
       " '/17515-remax-solutions/inmuebles/1793/ficha/casa-en-venta-en-tropero-sosa-800-mh-c12?btid=3419445',\n",
       " '/17515-remax-solutions/inmuebles/1126/ficha/casa-en-venta-en-las-candelas?btid=3419445',\n",
       " '/1626-remax-excelencia/inmuebles/9177/ficha/casa-en-venta-en-barrio-unimev-manuel-molina-y-a-calle?btid=3419445',\n",
       " '/1626-remax-excelencia/inmuebles/8219/ficha/casa-en-venta-en-casa-en-venta-en-olivos-del-torreon?btid=3419445',\n",
       " '/52708-remax-chacras/inmuebles/142/ficha/casa-en-venta-en-lago-argentino-y-lago-correntoso?btid=3419445',\n",
       " '/1626-remax-excelencia/inmuebles/8218/ficha/casa-en-venta-en-casa-en-venta-en-olivos-del-torreon?btid=3419445',\n",
       " '/1626-remax-excelencia/inmuebles/9170/ficha/casa-en-venta-en-complejo-las-palmeras?btid=3419445',\n",
       " '/52708-remax-chacras/inmuebles/595/ficha/casa-en-venta-en-vistalba-lujan-de-cuyo?btid=3419445',\n",
       " '/1626-remax-excelencia/inmuebles/9140/ficha/casa-en-venta-en-cuarta-seccion?btid=3419445',\n",
       " '/52708-remax-chacras/inmuebles/612/ficha/casa-en-venta-en-ba-milcayac-i?btid=3419445',\n",
       " '/17515-remax-solutions/inmuebles/1544/ficha/casa-en-venta-en-barrio-lar-de-boedo?btid=3419445',\n",
       " '/17515-remax-solutions/inmuebles/1869/ficha/casa-en-venta-en-rodriguez-y-moldes?btid=3419445',\n",
       " '/1626-remax-excelencia/inmuebles/9040/ficha/casa-en-venta-en-las-cortaderas?btid=3419445',\n",
       " '/17515-remax-solutions/inmuebles/1432/ficha/casa-en-venta-en-godoy-cruz-frente-a-espacio-verde?btid=3419445',\n",
       " '/17515-remax-solutions/inmuebles/1928/ficha/casa-en-venta-en-agua-y-energia-plan-22?btid=3419445',\n",
       " '/1626-remax-excelencia/inmuebles/8898/ficha/casa-en-venta-en-remedios-de-escalada-2670?btid=3419445',\n",
       " '/1626-remax-excelencia/inmuebles/8930/ficha/casa-en-venta-en-lateral-paso-sur?btid=3419445',\n",
       " '/17515-remax-solutions/inmuebles/1525/ficha/casa-en-venta-en-barrio-jardin-miraflores?btid=3419445',\n",
       " '/52708-remax-chacras/inmuebles/460/ficha/casa-en-venta-en-barrio-cordon-del-plata?btid=3419445',\n",
       " '/52708-remax-chacras/inmuebles/461/ficha/casa-en-venta-en-barrio-cordon-del-plata?btid=3419445',\n",
       " '/17515-remax-solutions/inmuebles/499/ficha/casa-en-venta-en-casa-en-barrio-dalvian?btid=3419445',\n",
       " '/17515-remax-solutions/inmuebles/1659/ficha/casa-en-venta-en-caseros-1076?btid=3419445',\n",
       " '/17515-remax-solutions/inmuebles/1739/ficha/casa-en-venta-en-tabanera-y-maure?btid=3419445',\n",
       " '/17515-remax-solutions/inmuebles/1293/ficha/casa-en-venta-en-vistalba-country?btid=3419445',\n",
       " '/1626-remax-excelencia/inmuebles/7315/ficha/casa-en-venta-en-casa-en-venta?btid=3419445',\n",
       " '/1626-remax-excelencia/inmuebles/8921/ficha/casa-en-venta-en-casa-en-venta-en-barrio-privado?btid=3419445',\n",
       " '/52708-remax-chacras/inmuebles/225/ficha/casa-en-venta-en-lar-de-boedo?btid=3419445',\n",
       " '/17515-remax-solutions/inmuebles/1327/ficha/casa-en-venta-en-duplex-en-alto-dorrego?btid=3419445',\n",
       " '/52708-remax-chacras/inmuebles/466/ficha/casa-en-venta-en-videla-aranda-2720?btid=3419445',\n",
       " '/1626-remax-excelencia/inmuebles/8298/ficha/casa-en-venta-en-entre-j-a-calle-y-lugones?btid=3419445',\n",
       " '/17515-remax-solutions/inmuebles/1233/ficha/casa-en-venta-en-caseros-1600?btid=3419445',\n",
       " '/17515-remax-solutions/inmuebles/1724/ficha/casa-en-venta-en-batalla-del-pilar-mza-y?btid=3419445',\n",
       " '/52708-remax-chacras/inmuebles/645/ficha/casa-en-venta-en-callejon-villanueva-perdriel?btid=3419445',\n",
       " '/52708-remax-chacras/inmuebles/186/ficha/casa-en-venta-en-pincolini?btid=3419445',\n",
       " '/17515-remax-solutions/inmuebles/1626/ficha/casa-en-venta-en-viamonte-3889-chacras-de-coria?btid=3419445',\n",
       " '/1626-remax-excelencia/inmuebles/7589/ficha/casa-en-venta-en-lunlunta?btid=3419445',\n",
       " '/17515-remax-solutions/inmuebles/1672/ficha/departamento-en-venta-en-joaquin-v-gonzalez?btid=3419443',\n",
       " '/17515-remax-solutions/inmuebles/1481/ficha/departamento-en-venta-en-perito-moreno?btid=3419443',\n",
       " '/52708-remax-chacras/inmuebles/521/ficha/departamento-en-venta-en-moreno-890-lujan-de-cuyo?btid=3419443',\n",
       " '/17515-remax-solutions/inmuebles/1387/ficha/departamento-en-venta-en-las-canas-y-lamadrid?btid=3419443',\n",
       " '/1626-remax-excelencia/inmuebles/8601/ficha/departamento-en-venta-en-frente-al-notti?btid=3419443',\n",
       " '/1626-remax-excelencia/inmuebles/8645/ficha/departamento-en-venta-en-lamadrid-y-las-canas?btid=3419443',\n",
       " '/1626-remax-excelencia/inmuebles/8647/ficha/departamento-en-venta-en-jose-feliciani-2289?btid=3419443',\n",
       " '/1626-remax-excelencia/inmuebles/8649/ficha/departamento-en-venta-en-jose-feliciani-2289?btid=3419443',\n",
       " '/52708-remax-chacras/inmuebles/588/ficha/departamento-en-venta-en-lateral-acceso-este-y-estrada?btid=3419443',\n",
       " '/52708-remax-chacras/inmuebles/586/ficha/departamento-en-venta-en-dr-fasciolo?btid=3419443',\n",
       " '/17515-remax-solutions/inmuebles/1350/ficha/departamento-en-venta-en-paso-de-los-andes-casi-aristides?btid=3419443',\n",
       " '/17515-remax-solutions/inmuebles/1388/ficha/departamento-en-venta-en-lafinur?btid=3419443',\n",
       " '/52708-remax-chacras/inmuebles/650/ficha/departamento-en-venta-en-pizurno-164',\n",
       " '/17515-remax-solutions/inmuebles/1564/ficha/departamento-en-venta-en-necochea-y-gutierrez?btid=3419443',\n",
       " '/1626-remax-excelencia/inmuebles/8019/ficha/departamento-en-venta-en-torre-b1?btid=3419443',\n",
       " '/52708-remax-chacras/inmuebles/60/ficha/departamento-en-venta-en-silvano-rodriguez-2p-dpto-18?btid=3419443',\n",
       " '/1626-remax-excelencia/inmuebles/6530/ficha/departamento-en-venta-en-solis?btid=3419443',\n",
       " '/1626-remax-excelencia/inmuebles/8949/ficha/departamento-en-venta-en-departamento-2-dormtorios?btid=3419443',\n",
       " '/52708-remax-chacras/inmuebles/636/ficha/departamento-en-venta-en-garden-park?btid=3419443',\n",
       " '/52708-remax-chacras/inmuebles/637/ficha/departamento-en-venta-en-lateral-acceso-este-25-de-mayo-2723?btid=3419443',\n",
       " '/17515-remax-solutions/inmuebles/584/ficha/departamento-en-venta-en-plaza-godoy-cruz?btid=3419443',\n",
       " '/17515-remax-solutions/inmuebles/1882/ficha/departamento-en-venta-en-calle-libertad?btid=3419443',\n",
       " '/52708-remax-chacras/inmuebles/533/ficha/departamento-en-venta-en-pizurno-164?btid=3419443',\n",
       " '/52708-remax-chacras/inmuebles/609/ficha/departamento-en-venta-en-francia-640?btid=3419443',\n",
       " '/52708-remax-chacras/inmuebles/610/ficha/departamento-en-venta-en-francia-640?btid=3419443',\n",
       " '/17515-remax-solutions/inmuebles/1494/ficha/departamento-en-venta-en-santa-maria-de-oro?btid=3419443',\n",
       " '/52708-remax-chacras/inmuebles/651/ficha/departamento-en-venta-en-dr-fasciolo?btid=3419443',\n",
       " '/52708-remax-chacras/inmuebles/653/ficha/departamento-en-venta-en-pizurno-164?btid=3419443',\n",
       " '/52708-remax-chacras/inmuebles/652/ficha/departamento-en-venta-en-pizurno-164?btid=3419443',\n",
       " '/1626-remax-excelencia/inmuebles/9237/ficha/departamento-en-venta-en-pedreo-molina-351?btid=3419443',\n",
       " '/1626-remax-excelencia/inmuebles/9244/ficha/departamento-en-venta-en-barrio-inka-2?btid=3419443',\n",
       " '/17515-remax-solutions/inmuebles/1568/ficha/departamento-en-venta-en-san-martin?btid=3419443',\n",
       " '/17515-remax-solutions/inmuebles/1553/ficha/departamento-en-venta-en-boulogne-sur-mer-y-clark?btid=3419443',\n",
       " '/17515-remax-solutions/inmuebles/1500/ficha/departamento-en-venta-en-carrodilla?btid=3419443',\n",
       " '/1626-remax-excelencia/inmuebles/9142/ficha/departamento-en-venta-en-c-las-vegas-zona-las-tablitas?btid=3419443',\n",
       " '/52708-remax-chacras/inmuebles/580/ficha/departamento-en-venta-en-coop-enrique-mosconi?btid=3419443',\n",
       " '/1626-remax-excelencia/inmuebles/8157/ficha/departamento-en-venta-en-el-epidio-ytapon-moyano?btid=3419443',\n",
       " '/1626-remax-excelencia/inmuebles/7592/ficha/departamento-en-venta-en-pedro-del-castillo-y-brasil?btid=3419443',\n",
       " '/52708-remax-chacras/inmuebles/563/ficha/departamento-en-venta-en-dr-moreno-1787?btid=3419443',\n",
       " '/17515-remax-solutions/inmuebles/357/ficha/departamento-en-venta-en-calle-manuel-garcia-y-rivadavia?btid=3419443',\n",
       " '/52708-remax-chacras/inmuebles/415/ficha/departamento-en-venta-en-barcala-368?btid=3419443',\n",
       " '/1626-remax-excelencia/inmuebles/9109/ficha/departamento-en-venta-en?btid=3419443',\n",
       " '/17515-remax-solutions/inmuebles/1727/ficha/departamento-en-venta-en-palmares-valley?btid=3419443',\n",
       " '/17515-remax-solutions/inmuebles/817/ficha/departamento-en-venta-en-calle-urquiza-pasando-elpidio-gonzalez?btid=3419443',\n",
       " '/17515-remax-solutions/inmuebles/1535/ficha/departamento-en-venta-en-9-de-julio-849?btid=3419443',\n",
       " '/52708-remax-chacras/inmuebles/576/ficha/departamento-en-venta-en-pleno-centro?btid=3419443',\n",
       " '/52708-remax-chacras/inmuebles/483/ficha/departamento-en-venta-en-departamento?btid=3419443',\n",
       " '/1626-remax-excelencia/inmuebles/8847/ficha/departamento-en-venta-en-gral-paz-entre-mitre-y-chile?btid=3419443',\n",
       " '/17515-remax-solutions/inmuebles/1646/ficha/departamento-en-venta-en-azcuenaga-y-terrada?btid=3419443',\n",
       " '/1626-remax-excelencia/inmuebles/8629/ficha/departamento-en-venta-en-departamentos-en-venta-guaymallenn?btid=3419443',\n",
       " '/1626-remax-excelencia/inmuebles/8623/ficha/departamento-en-venta-en-departamentos-en-venta-guaymallenn?btid=3419443',\n",
       " '/17515-remax-solutions/inmuebles/965/ficha/departamento-en-venta-en-dolores?btid=3419443',\n",
       " '/1626-remax-excelencia/inmuebles/8399/ficha/departamento-en-venta-en-mitre-y-colon?btid=3419443',\n",
       " '/1626-remax-excelencia/inmuebles/8354/ficha/departamento-en-venta-en-paso-de-los-andes-y-aristides?btid=3419443',\n",
       " '/1626-remax-excelencia/inmuebles/9013/ficha/departamento-en-venta-en-boologne-surmer-55?btid=3419443',\n",
       " '/1626-remax-excelencia/inmuebles/9012/ficha/departamento-en-venta-en-panamericana-7100?btid=3419443',\n",
       " '/1626-remax-excelencia/inmuebles/8306/ficha/departamento-en-venta-en-bernardo-ortiz-1194?btid=3419443',\n",
       " '/1626-remax-excelencia/inmuebles/7941/ficha/departamento-en-venta-en-quinta-seccion?btid=3419443',\n",
       " '/1626-remax-excelencia/inmuebles/7861/ficha/departamento-en-venta-en-quinta-seccion?btid=3419443',\n",
       " '/1626-remax-excelencia/inmuebles/8975/ficha/departamento-en-venta-en-calle-buenos-aires-124-de-ciudad?btid=3419443',\n",
       " '/1626-remax-excelencia/inmuebles/8502/ficha/departamento-en-venta-en-torre-parque-central-peru-2553?btid=3419443',\n",
       " '/1626-remax-excelencia/inmuebles/8988/ficha/departamento-en-venta-en-tapon-moyano?btid=3419443',\n",
       " '/1626-remax-excelencia/inmuebles/8989/ficha/departamento-en-venta-en-tapon-moyano?btid=3419443',\n",
       " '/1626-remax-excelencia/inmuebles/8966/ficha/departamento-en-venta-en-chile-1671?btid=3419443',\n",
       " '/1626-remax-excelencia/inmuebles/8263/ficha/p-h-en-venta-en-maipu-calle-barcala?btid=3419443',\n",
       " '/1626-remax-excelencia/inmuebles/7765/ficha/departamento-en-venta-en-juan-jose-paso?btid=3419443',\n",
       " '/1626-remax-excelencia/inmuebles/7766/ficha/departamento-en-venta-en-juan-jose-paso?btid=3419443',\n",
       " '/1626-remax-excelencia/inmuebles/8943/ficha/departamento-en-venta-en-pasos-de-los-andes-casi-martin-zapata?btid=3419443',\n",
       " '/1626-remax-excelencia/inmuebles/8423/ficha/departamento-en-venta-en-charcas?btid=3419443',\n",
       " '/1626-remax-excelencia/inmuebles/8931/ficha/departamento-en-venta-en-montecaseros-421?btid=3419443',\n",
       " '/17515-remax-solutions/inmuebles/1893/ficha/departamento-en-venta-en-m-l-34?btid=3419443',\n",
       " '/17515-remax-solutions/inmuebles/1884/ficha/departamento-en-venta-en-tito-francia?btid=3419443',\n",
       " '/17515-remax-solutions/inmuebles/1880/ficha/departamento-en-venta-en-paso-de-los-andes-y-juan-b-justo?btid=3419443',\n",
       " '/52708-remax-chacras/inmuebles/632/ficha/departamento-en-venta-en-garden-park?btid=3419443',\n",
       " '/17515-remax-solutions/inmuebles/1230/ficha/departamento-en-venta-en-espana-y-peatonal?btid=3419443',\n",
       " '/52708-remax-chacras/inmuebles/629/ficha/departamento-en-venta-en-garden-park?btid=3419443',\n",
       " '/17515-remax-solutions/inmuebles/1551/ficha/departamento-en-venta-en-emilio-coni-1700-barrio-trapiche?btid=3419443',\n",
       " '/52708-remax-chacras/inmuebles/630/ficha/departamento-en-venta-en-25-de-mayo-2723-lateral-acceso-este?btid=3419443',\n",
       " '/1626-remax-excelencia/inmuebles/8980/ficha/departamento-en-venta-en?btid=3419443',\n",
       " '/1626-remax-excelencia/inmuebles/8978/ficha/departamento-en-venta-en?btid=3419443',\n",
       " '/1626-remax-excelencia/inmuebles/8979/ficha/departamento-en-venta-en?btid=3419443',\n",
       " '/1626-remax-excelencia/inmuebles/8976/ficha/departamento-en-venta-en?btid=3419443',\n",
       " '/1626-remax-excelencia/inmuebles/9132/ficha/departamento-en-venta-en-bahia-blanca-3271-6ta-secc-ciudad-mendoza?btid=3419443',\n",
       " '/1626-remax-excelencia/inmuebles/9125/ficha/departamento-en-venta-en-san-martin?btid=3419443',\n",
       " '/17515-remax-solutions/inmuebles/1792/ficha/departamento-en-venta-en-urquiza-y-rio-atuel?btid=3419443',\n",
       " '/17515-remax-solutions/inmuebles/1825/ficha/departamento-en-venta-en-complejo-bosques-de-maipu?btid=3419443',\n",
       " '/17515-remax-solutions/inmuebles/1879/ficha/departamento-en-venta-en-lencina-y-o-brien?btid=3419443',\n",
       " '/1626-remax-excelencia/inmuebles/8867/ficha/departamento-en-venta-en-peru?btid=3419443',\n",
       " '/17515-remax-solutions/inmuebles/1935/ficha/departamento-en-venta-en-edificio-athenea-park-tower?btid=3419443',\n",
       " '/1626-remax-excelencia/inmuebles/9163/ficha/departamento-en-venta-en-cangallo-y-estrada?btid=3419443',\n",
       " '/1626-remax-excelencia/inmuebles/9197/ficha/departamento-en-venta-en-barrio-inka-2?btid=3419443',\n",
       " '/1626-remax-excelencia/inmuebles/9198/ficha/departamento-en-venta-en-barrio-inka-2?btid=3419443',\n",
       " '/1626-remax-excelencia/inmuebles/9196/ficha/departamento-en-venta-en-barrio-inka-2?btid=3419443',\n",
       " '/1626-remax-excelencia/inmuebles/8674/ficha/p-h-en-venta-en-buenos-aires-y-rioja?btid=3419443',\n",
       " '/1626-remax-excelencia/inmuebles/8682/ficha/p-h-en-venta-en-buenos-aires-y-rioja?btid=3419443',\n",
       " '/52708-remax-chacras/inmuebles/643/ficha/departamento-en-venta-en-figueroa-alcorta-535?btid=3419443',\n",
       " '/52708-remax-chacras/inmuebles/644/ficha/departamento-en-venta-en-figueroa-alcorta-535?btid=3419443',\n",
       " '/17515-remax-solutions/inmuebles/957/ficha/departamento-en-venta-en-belgrano-casi-rivadavia?btid=3419443',\n",
       " '/52708-remax-chacras/inmuebles/619/ficha/departamento-en-venta-en-media-cuadra-de-godoy-cruz?btid=3419443',\n",
       " '/52708-remax-chacras/inmuebles/360/ficha/departamento-en-venta-en-pedro-vargas-y-estrada?btid=3419443',\n",
       " '/1626-remax-excelencia/inmuebles/9183/ficha/departamento-en-venta-en-barrio-chillcani?btid=3419443',\n",
       " '/1626-remax-excelencia/inmuebles/9182/ficha/departamento-en-venta-en-barrio-chillcani?btid=3419443',\n",
       " '/17515-remax-solutions/inmuebles/1895/ficha/departamento-en-venta-en-chillcani?btid=3419443',\n",
       " '/17515-remax-solutions/inmuebles/1894/ficha/departamento-en-venta-en-sargento-cabral-y-virrey-vertiz?btid=3419443',\n",
       " '/52708-remax-chacras/inmuebles/311/ficha/departamento-en-venta-en-vizcaya?btid=3419443',\n",
       " '/17515-remax-solutions/inmuebles/1349/ficha/departamento-en-venta-en-castro-y-urquiza?btid=3419443',\n",
       " '/1626-remax-excelencia/inmuebles/8721/ficha/departamento-en-venta-en-quinta-seccion?btid=3419443',\n",
       " '/17515-remax-solutions/inmuebles/1850/ficha/departamento-en-venta-en-villa-roble?btid=3419443',\n",
       " '/1626-remax-excelencia/inmuebles/9214/ficha/departamento-en-venta-en-villa-palmares?btid=3419443',\n",
       " '/1626-remax-excelencia/inmuebles/9223/ficha/departamento-en-venta-en-casi-esquina-rivadavia?btid=3419443',\n",
       " '/17515-remax-solutions/inmuebles/1915/ficha/departamento-en-venta-en-godoy-cruz?btid=3419443',\n",
       " '/17515-remax-solutions/inmuebles/1916/ficha/departamento-en-venta-en-godoy-cruz?btid=3419443',\n",
       " '/17515-remax-solutions/inmuebles/1640/ficha/departamento-en-venta-en-lugones-2840?btid=3419443',\n",
       " '/17515-remax-solutions/inmuebles/1934/ficha/departamento-en-venta-en-edificio-athenea?btid=3419443',\n",
       " '/17515-remax-solutions/inmuebles/1641/ficha/departamento-en-venta-en-necochea-2133-godoy-cruz?btid=3419443',\n",
       " '/1626-remax-excelencia/inmuebles/9189/ficha/departamento-en-venta-en-senderos-de-cochabamba?btid=3419443',\n",
       " '/17515-remax-solutions/inmuebles/1765/ficha/departamento-en-venta-en-barrio-inka-1?btid=3419443',\n",
       " '/17515-remax-solutions/inmuebles/355/ficha/departamento-en-venta-en-departamento-a-5-cuadras-plaza-godoy-cruz?btid=3419443',\n",
       " '/1626-remax-excelencia/inmuebles/8726/ficha/departamento-en-venta-en-departamento-2-dormitorios-en-venta-en-5ta-seccion?btid=3419443',\n",
       " '/1626-remax-excelencia/inmuebles/8727/ficha/departamento-en-venta-en-departamento-en-venta-en-5ta-seccion?btid=3419443',\n",
       " '/1626-remax-excelencia/inmuebles/8728/ficha/departamento-en-venta-en-deparamento-2-dormitorios-en-venta-en-5ta-seccion?btid=3419443',\n",
       " '/1626-remax-excelencia/inmuebles/8917/ficha/departamento-en-venta-en-azcuenaga-1969?btid=3419443',\n",
       " '/1626-remax-excelencia/inmuebles/8916/ficha/departamento-en-venta-en-barrio-inka-1?btid=3419443',\n",
       " '/1626-remax-excelencia/inmuebles/8827/ficha/departamento-en-venta-en-paraguay-casi-marmol?btid=3419443',\n",
       " '/1626-remax-excelencia/inmuebles/8839/ficha/departamento-en-venta-en-venta-dpto-maipu-centro?btid=3419443',\n",
       " '/1626-remax-excelencia/inmuebles/8840/ficha/departamento-en-venta-en-venta-dpto-maipu-centro?btid=3419443',\n",
       " '/1626-remax-excelencia/inmuebles/6365/ficha/departamento-en-venta-en-esquina-boulogne-sur-mer?btid=3419443',\n",
       " '/1626-remax-excelencia/inmuebles/7466/ficha/departamento-en-venta-en-pedro-goyena?btid=3419443',\n",
       " '/17515-remax-solutions/inmuebles/1119/ficha/departamento-en-venta-en-beltran-casi-arizu?btid=3419443',\n",
       " '/17515-remax-solutions/inmuebles/1118/ficha/departamento-en-venta-en-beltran-y-arizu?btid=3419443',\n",
       " '/1626-remax-excelencia/inmuebles/7942/ficha/departamento-en-venta-en-villa-mediterranea?btid=3419443',\n",
       " '/1626-remax-excelencia/inmuebles/7948/ficha/departamento-en-venta-en-dorrego-934?btid=3419443',\n",
       " '/1626-remax-excelencia/inmuebles/8742/ficha/departamento-en-venta-en-emilio-civit-514-ciudad?btid=3419443',\n",
       " '/17515-remax-solutions/inmuebles/1241/ficha/departamento-en-venta-en-luzuriaga?btid=3419443',\n",
       " '/1626-remax-excelencia/inmuebles/8734/ficha/departamento-en-venta-en-lote-229-mzna-n?btid=3419443',\n",
       " '/1626-remax-excelencia/inmuebles/7332/ficha/departamento-en-venta-en-oportunidad-departamento-en-venta?btid=3419443',\n",
       " '/1626-remax-excelencia/inmuebles/8708/ficha/departamento-en-venta-en-palmares-lomas?btid=3419443',\n",
       " '/1626-remax-excelencia/inmuebles/8192/ficha/departamento-en-venta-en-palmares-lomas?btid=3419443',\n",
       " '/17515-remax-solutions/inmuebles/749/ficha/departamento-en-venta-en-adolfo-calle?btid=3419443',\n",
       " '/1626-remax-excelencia/inmuebles/8688/ficha/departamento-en-venta-en-departamento-en-pozo-torres-alejandri?btid=3419443',\n",
       " '/1626-remax-excelencia/inmuebles/8001/ficha/departamento-en-venta-en-l-170-m-m?btid=3419443',\n",
       " '/1626-remax-excelencia/inmuebles/8908/ficha/departamento-en-venta-en-chilcani?btid=3419443',\n",
       " '/1626-remax-excelencia/inmuebles/6370/ficha/departamento-en-venta-en-esquina-boulogne-sur-mer?btid=3419443',\n",
       " '/1626-remax-excelencia/inmuebles/8583/ficha/departamento-en-venta-en-urquiza-y-elpidio-gonzalez?btid=3419443',\n",
       " '/1626-remax-excelencia/inmuebles/6446/ficha/departamento-en-venta-en-cerro-colorado?btid=3419443',\n",
       " '/1626-remax-excelencia/inmuebles/8585/ficha/departamento-en-venta-en-urquiza-y-elpidio-gonzalez?btid=3419443',\n",
       " '/1626-remax-excelencia/inmuebles/8573/ficha/departamento-en-venta-en-cipolletti-esq-las-moras?btid=3419443',\n",
       " '/1626-remax-excelencia/inmuebles/8116/ficha/departamento-en-venta-en-echeverria-bombal?btid=3419443',\n",
       " '/1626-remax-excelencia/inmuebles/8505/ficha/departamento-en-venta-en-gutierrez-s-n?btid=3419443',\n",
       " '/1626-remax-excelencia/inmuebles/8506/ficha/departamento-en-venta-en-gutierrez-s-n?btid=3419443',\n",
       " '/1626-remax-excelencia/inmuebles/8411/ficha/departamento-en-venta-en-urquiza-y-elpidio-gonzalez?btid=3419443',\n",
       " '/52708-remax-chacras/inmuebles/523/ficha/departamento-en-venta-en-moreno-y-guevara?btid=3419443',\n",
       " '/52708-remax-chacras/inmuebles/524/ficha/departamento-en-venta-en-moreno-y-guevara?btid=3419443',\n",
       " '/52708-remax-chacras/inmuebles/456/ficha/departamento-en-venta-en-moreno-890-lujan-de-cuyo?btid=3419443',\n",
       " '/17515-remax-solutions/inmuebles/751/ficha/departamento-en-venta-en-adolfo-calle?btid=3419443',\n",
       " '/1626-remax-excelencia/inmuebles/8215/ficha/departamento-en-venta-en-departamento-en-edificio-milenium?btid=3419443',\n",
       " '/17515-remax-solutions/inmuebles/1669/ficha/departamento-en-venta-en-sobremonte-464?btid=3419443',\n",
       " '/17515-remax-solutions/inmuebles/1723/ficha/departamento-en-venta-en-espana-y-espejo?btid=3419443',\n",
       " '/1626-remax-excelencia/inmuebles/8845/ficha/departamento-en-venta-en-godoy-cruz-y-25-de-mayo?btid=3419443',\n",
       " '/1626-remax-excelencia/inmuebles/7866/ficha/departamento-en-venta-en-quinta-seccion?btid=3419443',\n",
       " '/17515-remax-solutions/inmuebles/1924/ficha/departamento-en-venta-en-ernesto-sabato?btid=3419443',\n",
       " '/52708-remax-chacras/inmuebles/640/ficha/departamento-en-venta-en-barrio-cano?btid=3419443',\n",
       " '/52708-remax-chacras/inmuebles/641/ficha/departamento-en-venta-en-barrio-cano?btid=3419443',\n",
       " '/52708-remax-chacras/inmuebles/559/ficha/departamento-en-venta-en-belgrano-2840?btid=3419443',\n",
       " '/17515-remax-solutions/inmuebles/1505/ficha/departamento-en-venta-en-patricias-mendocinas-1039-microcentro-de-mendoza?btid=3419443',\n",
       " '/1626-remax-excelencia/inmuebles/7886/ficha/departamento-en-venta-en-dorrego-934?btid=3419443',\n",
       " '/1626-remax-excelencia/inmuebles/7708/ficha/departamento-en-venta-en-duplex-en-chacras-de-coria?btid=3419443',\n",
       " '/17515-remax-solutions/inmuebles/1660/ficha/departamento-en-venta-en-a-metros-del-shopping-edificio-11?btid=3419443',\n",
       " '/52708-remax-chacras/inmuebles/582/ficha/departamento-en-venta-en-bo-villa-azcuenaga-norte-manzana-c-lote-17-vill?btid=3419443',\n",
       " '/17515-remax-solutions/inmuebles/1143/ficha/departamento-en-venta-en-bo-solares-de-urquiza?btid=3419443',\n",
       " '/1626-remax-excelencia/inmuebles/8811/ficha/departamento-en-venta-en-gorriti?btid=3419443',\n",
       " '/1626-remax-excelencia/inmuebles/8018/ficha/departamento-en-venta-en-patricias-mendocinas-ciudad-de-mendoza?btid=3419443',\n",
       " '/17515-remax-solutions/inmuebles/987/ficha/departamento-en-venta-en-quinta-seccion?btid=3419443',\n",
       " '/52708-remax-chacras/inmuebles/154/ficha/departamento-en-venta-en-gutierrez?btid=3419443',\n",
       " '/17515-remax-solutions/inmuebles/1780/ficha/departamento-en-venta-en-renato-zanzin-y-25-de-mayo?btid=3419443',\n",
       " '/1626-remax-excelencia/inmuebles/8906/ficha/departamento-en-venta-en-edificio-alto-unimev?btid=3419443',\n",
       " '/1626-remax-excelencia/inmuebles/9201/ficha/departamento-en-venta-en-barrio-chillcani?btid=3419443',\n",
       " '/17515-remax-solutions/inmuebles/930/ficha/departamento-en-venta-en-barrio-el-alto-calle-belgrano?btid=3419443',\n",
       " '/17515-remax-solutions/inmuebles/932/ficha/departamento-en-venta-en-barrio-el-alto-calle-belgrano?btid=3419443',\n",
       " '/17515-remax-solutions/inmuebles/934/ficha/departamento-en-venta-en-barrio-el-alto-calle-belgrano?btid=3419443',\n",
       " '/17515-remax-solutions/inmuebles/1920/ficha/departamento-en-venta-en-san-martin-sur-torres-de-san-vicente?btid=3419443',\n",
       " '/1626-remax-excelencia/inmuebles/9188/ficha/departamento-en-venta-en-senderos-de-cochabamba?btid=3419443',\n",
       " '/1626-remax-excelencia/inmuebles/9186/ficha/departamento-en-venta-en-rioja?btid=3419443',\n",
       " '/1626-remax-excelencia/inmuebles/8165/ficha/departamento-en-venta-en-edificio-da-vinci?btid=3419443',\n",
       " '/1626-remax-excelencia/inmuebles/5836/ficha/departamento-en-venta-en-huarpes-2096?btid=3419443',\n",
       " '/1626-remax-excelencia/inmuebles/7313/ficha/departamento-en-venta-en-av-espana?btid=3419443',\n",
       " '/17515-remax-solutions/inmuebles/1881/ficha/departamento-en-venta-en-san-juan-y-republica-de-siria?btid=3419443',\n",
       " '/1626-remax-excelencia/inmuebles/9208/ficha/departamento-en-venta-en-carril-urquiza-2000?btid=3419443',\n",
       " '/1626-remax-excelencia/inmuebles/9148/ficha/departamento-en-venta-en-departamento-en-venta-en-5ta-seccion?btid=3419443',\n",
       " '/1626-remax-excelencia/inmuebles/9149/ficha/departamento-en-venta-en-departamento-en-venta-en-ciudad-de-mendoza?btid=3419443',\n",
       " '/17515-remax-solutions/inmuebles/1863/ficha/departamento-en-venta-en-mendoza?btid=3419443',\n",
       " '/1626-remax-excelencia/inmuebles/9199/ficha/departamento-en-venta-en-ortiz-16-y-san-martin?btid=3419443',\n",
       " '/1626-remax-excelencia/inmuebles/7969/ficha/departamento-en-venta-en-curupaiti-y-castro-barrio-mupim?btid=3419443',\n",
       " '/1626-remax-excelencia/inmuebles/9076/ficha/departamento-en-venta-en-buenos-aires-126-ciudad?btid=3419443',\n",
       " '/1626-remax-excelencia/inmuebles/8206/ficha/departamento-en-venta-en-irigoyen-alto-bombal?btid=3419443',\n",
       " '/17515-remax-solutions/inmuebles/1352/ficha/departamento-en-venta-en-urquiza-y-catro?btid=3419443',\n",
       " '/1626-remax-excelencia/inmuebles/9088/ficha/departamento-en-venta-en-molinero-tejeda-3095?btid=3419443',\n",
       " '/1626-remax-excelencia/inmuebles/9087/ficha/departamento-en-venta-en-molinero-tejeda-3095?btid=3419443',\n",
       " '/1626-remax-excelencia/inmuebles/9085/ficha/departamento-en-venta-en-molinero-tejeda-3095?btid=3419443',\n",
       " '/1626-remax-excelencia/inmuebles/9086/ficha/departamento-en-venta-en-molinero-tejeda-3095?btid=3419443',\n",
       " '/1626-remax-excelencia/inmuebles/8753/ficha/departamento-en-venta-en-martinez-de-rosas-889?btid=3419443',\n",
       " '/1626-remax-excelencia/inmuebles/7939/ficha/departamento-en-venta-en-centro?btid=3419443',\n",
       " '/17515-remax-solutions/inmuebles/1001/ficha/departamento-en-venta-en-quinta-seccion?btid=3419443',\n",
       " '/1626-remax-excelencia/inmuebles/8234/ficha/departamento-en-venta-en-dr-favaloro-frente-dalvian?btid=3419443',\n",
       " '/1626-remax-excelencia/inmuebles/6649/ficha/departamento-en-venta-en-dr-metraux?btid=3419443',\n",
       " '/1626-remax-excelencia/inmuebles/4822/ficha/departamento-en-venta-en-boulogne-sur-mer?btid=3419443',\n",
       " '/1626-remax-excelencia/inmuebles/5824/ficha/departamento-en-venta-en-boulogne-sur-mer?btid=3419443',\n",
       " '/1626-remax-excelencia/inmuebles/9056/ficha/departamento-en-venta-en-departamentos-en-guaymallen?btid=3419443',\n",
       " '/1626-remax-excelencia/inmuebles/9053/ficha/departamento-en-venta-en-departamentos-en-guaymallen?btid=3419443',\n",
       " '/1626-remax-excelencia/inmuebles/9054/ficha/departamento-en-venta-en-departamentos-en-guaymallen?btid=3419443',\n",
       " '/1626-remax-excelencia/inmuebles/9055/ficha/departamento-en-venta-en-departamentos-en-guaymallen?btid=3419443',\n",
       " '/17515-remax-solutions/inmuebles/961/ficha/departamento-en-venta-en-rioja-casi-moron?btid=3419443',\n",
       " '/1626-remax-excelencia/inmuebles/8926/ficha/lote-en-venta-en-5000-m2-la-crucesita-excelente-oportunidad?btid=3419444',\n",
       " '/1626-remax-excelencia/inmuebles/8928/ficha/lote-en-venta-en-7000-m2-la-crucesita-excelente-oportunidad?btid=3419444',\n",
       " '/1626-remax-excelencia/inmuebles/9004/ficha/lote-en-venta-en-barrio-terrunos-de-araoz-3?btid=3419444',\n",
       " '/17515-remax-solutions/inmuebles/1804/ficha/lote-en-venta-en-uspallata?btid=3419444',\n",
       " '/17515-remax-solutions/inmuebles/1806/ficha/lote-en-venta-en-brasil-y-tomas-godoy-cruz?btid=3419444',\n",
       " '/1626-remax-excelencia/inmuebles/8947/ficha/lote-en-venta-en-espejo-1913?btid=3419444',\n",
       " '/1626-remax-excelencia/inmuebles/7706/ficha/lote-en-venta-en-ruta-internacional-no7?btid=3419444',\n",
       " '/1626-remax-excelencia/inmuebles/8934/ficha/lote-en-venta-en-barrio-vinas-del-sol?btid=3419444',\n",
       " '/1626-remax-excelencia/inmuebles/9228/ficha/lote-en-venta-en-terreno-300-m2-ampros-viii-maipu?btid=3419444',\n",
       " '/1626-remax-excelencia/inmuebles/9225/ficha/lote-en-venta-en-roma-s-n?btid=3419444',\n",
       " '/52708-remax-chacras/inmuebles/36/ficha/lote-en-venta-en-perdriel-lujan-de-cuyo?btid=3419444',\n",
       " '/52708-remax-chacras/inmuebles/37/ficha/lote-en-venta-en-perdriel-lujan-de-cuyo?btid=3419444',\n",
       " '/52708-remax-chacras/inmuebles/38/ficha/lote-en-venta-en-perdriel-lujan-de-cuyo?btid=3419444',\n",
       " '/17515-remax-solutions/inmuebles/1817/ficha/lote-en-venta-en-estancia-frank-romero-day?btid=3419444',\n",
       " '/17515-remax-solutions/inmuebles/1320/ficha/lote-en-venta-en-araoz-y-vieytes?btid=3419444',\n",
       " '/1626-remax-excelencia/inmuebles/9245/ficha/lote-en-venta-en-san-juan-10515-a-metros-de-calle-milagros',\n",
       " '/1626-remax-excelencia/inmuebles/9240/ficha/lote-en-venta-en-ruta-40',\n",
       " '/1626-remax-excelencia/inmuebles/8816/ficha/lote-en-venta-en-las-cortaderas?btid=3419444',\n",
       " '/1626-remax-excelencia/inmuebles/8984/ficha/lote-en-venta-en-san-martin-2517?btid=3419444',\n",
       " '/1626-remax-excelencia/inmuebles/9215/ficha/lote-en-venta-en-terrada-y-boedo?btid=3419444',\n",
       " '/1626-remax-excelencia/inmuebles/9233/ficha/lote-en-venta-en-b0-alta-mendoza-lda?btid=3419444',\n",
       " '/52708-remax-chacras/inmuebles/382/ficha/lote-en-venta-en-cervantes-2113?btid=3419444',\n",
       " '/1626-remax-excelencia/inmuebles/9234/ficha/lote-en-venta-en-b0-alta-mendoza-lda?btid=3419444',\n",
       " '/1626-remax-excelencia/inmuebles/9232/ficha/lote-en-venta-en-almirante-brown?btid=3419444',\n",
       " '/1626-remax-excelencia/inmuebles/9063/ficha/lote-en-venta-en-calle-boedo?btid=3419444',\n",
       " '/1626-remax-excelencia/inmuebles/9229/ficha/lote-en-venta-en-mendoza-norte-country-club?btid=3419444',\n",
       " '/1626-remax-excelencia/inmuebles/8796/ficha/lote-en-venta-en-privado-ampros-palmas?btid=3419444',\n",
       " '/1626-remax-excelencia/inmuebles/4124/ficha/lote-en-venta-en-a-200-m-de-la-estacion-de-policia-de-blanco-encala?btid=3419444',\n",
       " '/1626-remax-excelencia/inmuebles/7043/ficha/lote-en-venta-en-barrio-privado-alma-gardenia?btid=3419444',\n",
       " '/52708-remax-chacras/inmuebles/647/ficha/lote-en-venta-en-ozamis-sur-s-n-esquina-videla-aranda?btid=3419444',\n",
       " '/52708-remax-chacras/inmuebles/624/ficha/lote-en-venta-en-julio-a-roca-coquimbito-finca-la-olivia?btid=3419444',\n",
       " '/17515-remax-solutions/inmuebles/1794/ficha/lote-en-venta-en-rnacional-149-km-14?btid=3419444',\n",
       " '/1626-remax-excelencia/inmuebles/9153/ficha/lote-en-venta-en-severo-del-castillo-s-n?btid=3419444',\n",
       " '/1626-remax-excelencia/inmuebles/9154/ficha/lote-en-venta-en-severo-del-castillo-s-n?btid=3419444',\n",
       " '/1626-remax-excelencia/inmuebles/9155/ficha/lote-en-venta-en-severo-del-castillo-s-n?btid=3419444',\n",
       " '/1626-remax-excelencia/inmuebles/9136/ficha/lote-en-venta-en-club-de-campo-maipu?btid=3419444',\n",
       " '/1626-remax-excelencia/inmuebles/9120/ficha/lote-en-venta-en-buena-nueva?btid=3419444',\n",
       " '/1626-remax-excelencia/inmuebles/9121/ficha/lote-en-venta-en-buena-nueva?btid=3419444',\n",
       " '/1626-remax-excelencia/inmuebles/8803/ficha/lote-en-venta-en-la-quebrada?btid=3419444',\n",
       " '/1626-remax-excelencia/inmuebles/9241/ficha/lote-en-venta-en-ferrari?btid=3419444',\n",
       " '/17515-remax-solutions/inmuebles/1937/ficha/lote-en-venta-en-alta-italia-y-variante-hipolito-yrigoyen?btid=3419444',\n",
       " '/1626-remax-excelencia/inmuebles/9243/ficha/lote-en-venta-en-rivadavia?btid=3419444',\n",
       " '/1626-remax-excelencia/inmuebles/9242/ficha/lote-en-venta-en-rivadavia?btid=3419444',\n",
       " '/1626-remax-excelencia/inmuebles/9069/ficha/lote-en-venta-en-profesor-mathus-s-n?btid=3419444',\n",
       " '/17515-remax-solutions/inmuebles/1598/ficha/lote-en-venta-en-darragueira-park?btid=3419444',\n",
       " '/17515-remax-solutions/inmuebles/1674/ficha/lote-en-venta-en-ozamis-sur?btid=3419444',\n",
       " '/1626-remax-excelencia/inmuebles/9052/ficha/lote-en-venta-en-palma?btid=3419444',\n",
       " '/1626-remax-excelencia/inmuebles/9048/ficha/lote-en-venta-en-barrio-privado-el-bosque?btid=3419444',\n",
       " '/17515-remax-solutions/inmuebles/1829/ficha/lote-en-venta-en-aristobulo-del-valle-el-algarrobal?btid=3419444',\n",
       " '/17515-remax-solutions/inmuebles/1799/ficha/lote-en-venta-en-ruta-60-a-metros-de-terrada?btid=3419444',\n",
       " '/17515-remax-solutions/inmuebles/558/ficha/lote-en-venta-en-videla-aranda?btid=3419444',\n",
       " '/1626-remax-excelencia/inmuebles/9039/ficha/lote-en-venta-en-las-retamas?btid=3419444',\n",
       " '/52708-remax-chacras/inmuebles/575/ficha/lote-en-venta-en-terrada-y-azcuenaga?btid=3419444',\n",
       " '/1626-remax-excelencia/inmuebles/9032/ficha/lote-en-venta-en-buenos-vecinos?btid=3419444',\n",
       " '/1626-remax-excelencia/inmuebles/9031/ficha/lote-en-venta-en-buenos-vecino?btid=3419444',\n",
       " '/52708-remax-chacras/inmuebles/565/ficha/lote-en-venta-en-esquina-boulevard-guevara?btid=3419444',\n",
       " '/1626-remax-excelencia/inmuebles/8997/ficha/lote-en-venta-en-barrio-magdalena-olivar-iii?btid=3419444',\n",
       " '/1626-remax-excelencia/inmuebles/8974/ficha/lote-en-venta-en-a-300-mtrs-de-carril-godoy-cruz?btid=3419444',\n",
       " '/1626-remax-excelencia/inmuebles/5541/ficha/lote-en-venta-en-callejon-mariani-s-n?btid=3419444',\n",
       " '/17515-remax-solutions/inmuebles/1777/ficha/lote-en-venta-en-ciudad?btid=3419444',\n",
       " '/17515-remax-solutions/inmuebles/1761/ficha/lote-en-venta-en-lago-del-torreon?btid=3419444',\n",
       " '/1626-remax-excelencia/inmuebles/5563/ficha/lote-en-venta-en-mariani-s-n?btid=3419444',\n",
       " '/17515-remax-solutions/inmuebles/1214/ficha/lote-en-venta-en-vieytes?btid=3419444',\n",
       " '/1626-remax-excelencia/inmuebles/8948/ficha/lote-en-venta-en-buena-nueva-calle-roca?btid=3419444',\n",
       " '/17515-remax-solutions/inmuebles/1636/ficha/lote-en-venta-en-araoz-s-n-rn60?btid=3419444',\n",
       " '/52708-remax-chacras/inmuebles/383/ficha/lote-en-venta-en-buenos-aires-170?btid=3419444',\n",
       " '/17515-remax-solutions/inmuebles/1625/ficha/lote-en-venta-en-barrio-las-pircas-ii?btid=3419444',\n",
       " '/1626-remax-excelencia/inmuebles/8890/ficha/lote-en-venta-en-sanchez-3449?btid=3419444',\n",
       " '/17515-remax-solutions/inmuebles/1532/ficha/lote-en-venta-en-tabanera-o-los-pescadores-8992-colonia-segovia-gll?btid=3419444',\n",
       " '/17515-remax-solutions/inmuebles/1886/ficha/lote-en-venta-en-rivadavia-y-gargantini?btid=3419444',\n",
       " '/52708-remax-chacras/inmuebles/642/ficha/lote-en-venta-en-roque-saenz-pena-5601-vistalba?btid=3419444',\n",
       " '/52708-remax-chacras/inmuebles/584/ficha/lote-en-venta-en-challao?btid=3419444',\n",
       " '/52708-remax-chacras/inmuebles/585/ficha/lote-en-venta-en-challao?btid=3419444',\n",
       " '/52708-remax-chacras/inmuebles/622/ficha/lote-en-venta-en-terrada-y-azcuenaga?btid=3419444',\n",
       " '/52708-remax-chacras/inmuebles/573/ficha/lote-en-venta-en-b0-lugar-escondido?btid=3419444',\n",
       " '/1626-remax-excelencia/inmuebles/9070/ficha/lote-en-venta-en-ferrari-y-buenos-vecinos?btid=3419444',\n",
       " '/52708-remax-chacras/inmuebles/592/ficha/lote-en-venta-en-barrio-agua-y-energia-28?btid=3419444',\n",
       " '/52708-remax-chacras/inmuebles/590/ficha/lote-en-venta-en-barrio-portal-vistalba?btid=3419444',\n",
       " '/52708-remax-chacras/inmuebles/591/ficha/lote-en-venta-en-barrio-portal-vistalba?btid=3419444',\n",
       " '/52708-remax-chacras/inmuebles/579/ficha/lote-en-venta-en-barrio-la-arbequina?btid=3419444',\n",
       " '/52708-remax-chacras/inmuebles/581/ficha/lote-en-venta-en-barrio-la-arbequina?btid=3419444',\n",
       " '/17515-remax-solutions/inmuebles/1146/ficha/lote-en-venta-en-lote-calle-chile-y-videla-correa?btid=3419444',\n",
       " '/17515-remax-solutions/inmuebles/1703/ficha/lote-en-venta-en-calle-bruno-moron-coquimbito?btid=3419444',\n",
       " '/1626-remax-excelencia/inmuebles/8223/ficha/lote-en-venta-en-altos-de-la-crucesita?btid=3419444',\n",
       " '/52708-remax-chacras/inmuebles/583/ficha/lote-en-venta-en-mariani-10770?btid=3419444',\n",
       " '/1626-remax-excelencia/inmuebles/9022/ficha/lote-en-venta-en-montecaseros-s-n?btid=3419444',\n",
       " '/1626-remax-excelencia/inmuebles/8575/ficha/lote-en-venta-en-complejo-adorable-puente-km48?btid=3419444',\n",
       " '/52708-remax-chacras/inmuebles/506/ficha/lote-en-venta-en-terrada-entre-azcuenaga-y-anchorena?btid=3419444',\n",
       " '/52708-remax-chacras/inmuebles/627/ficha/lote-en-venta-en-ruta-7-y-carril-ponce-guaymallen?btid=3419444',\n",
       " '/1626-remax-excelencia/inmuebles/9219/ficha/lote-en-venta-en-lemos-12710?btid=3419444',\n",
       " '/1626-remax-excelencia/inmuebles/8584/ficha/lote-en-venta-en-a-metros-de-almirante-brown?btid=3419444',\n",
       " '/1626-remax-excelencia/inmuebles/8849/ficha/lote-en-venta-en-acceso-este?btid=3419444',\n",
       " '/1626-remax-excelencia/inmuebles/9113/ficha/lote-en-venta-en-terreno-en-venta-en-godoy-cruz?btid=3419444',\n",
       " '/1626-remax-excelencia/inmuebles/8666/ficha/lote-en-venta-en-costa-norte?btid=3419444',\n",
       " '/1626-remax-excelencia/inmuebles/7856/ficha/lote-en-venta-en-palma?btid=3419444',\n",
       " '/1626-remax-excelencia/inmuebles/9172/ficha/lote-en-venta-en-terrazas-park?btid=3419444',\n",
       " '/17515-remax-solutions/inmuebles/906/ficha/lote-en-venta-en-cobos-y-laprida?btid=3419444',\n",
       " '/1626-remax-excelencia/inmuebles/9168/ficha/lote-en-venta-en-challao?btid=3419444',\n",
       " '/1626-remax-excelencia/inmuebles/9169/ficha/lote-en-venta-en-challao?btid=3419444',\n",
       " '/1626-remax-excelencia/inmuebles/8511/ficha/lote-en-venta-en-pincolini-s-n?btid=3419444',\n",
       " '/1626-remax-excelencia/inmuebles/8508/ficha/lote-en-venta-en-pincolini-s-n?btid=3419444',\n",
       " '/1626-remax-excelencia/inmuebles/9150/ficha/lote-en-venta-en-boedo-village?btid=3419444',\n",
       " '/17515-remax-solutions/inmuebles/1620/ficha/lote-en-venta-en-palmares-valley?btid=3419444',\n",
       " '/17515-remax-solutions/inmuebles/1622/ficha/lote-en-venta-en-palmares-valley?btid=3419444',\n",
       " '/17515-remax-solutions/inmuebles/1542/ficha/lote-en-venta-en-viamonte-chacras-de-coria?btid=3419444',\n",
       " '/52708-remax-chacras/inmuebles/387/ficha/lote-en-venta-en-plaza-de-mulas-sn?btid=3419444',\n",
       " '/17515-remax-solutions/inmuebles/44/ficha/lote-en-venta-en-mendoza-norte?btid=3419444',\n",
       " '/52708-remax-chacras/inmuebles/553/ficha/lote-en-venta-en-perdriel-lujan?btid=3419444',\n",
       " '/52708-remax-chacras/inmuebles/556/ficha/lote-en-venta-en-perdriel-lujan?btid=3419444',\n",
       " '/52708-remax-chacras/inmuebles/557/ficha/lote-en-venta-en-perdriel-lujan?btid=3419444',\n",
       " '/17515-remax-solutions/inmuebles/518/ficha/lote-en-venta-en-barrio-bohemia?btid=3419444',\n",
       " '/17515-remax-solutions/inmuebles/781/ficha/lote-en-venta-en-los-alamos?btid=3419444',\n",
       " '/17515-remax-solutions/inmuebles/1648/ficha/lote-en-venta-en-la-crucecita?btid=3419444',\n",
       " '/17515-remax-solutions/inmuebles/9/ficha/lote-en-venta-en-calle-paso-hondo?btid=3419444',\n",
       " '/17515-remax-solutions/inmuebles/1580/ficha/lote-en-venta-en-roque-saenz-pena?btid=3419444',\n",
       " '/17515-remax-solutions/inmuebles/346/ficha/lote-en-venta-en-ruta-149?btid=3419444',\n",
       " '/1626-remax-excelencia/inmuebles/8777/ficha/lote-en-venta-en-rincon-de-viamonte?btid=3419444',\n",
       " '/17515-remax-solutions/inmuebles/971/ficha/lote-en-venta-en-vista-pueblo?btid=3419444',\n",
       " '/17515-remax-solutions/inmuebles/250/ficha/lote-en-venta-en-la-delia?btid=3419444',\n",
       " '/17515-remax-solutions/inmuebles/941/ficha/lote-en-venta-en-republica-de-siria?btid=3419444',\n",
       " '/17515-remax-solutions/inmuebles/493/ficha/lote-en-venta-en-julio-a-roca-5500?btid=3419444',\n",
       " '/52708-remax-chacras/inmuebles/494/ficha/lote-en-venta-en-perdriel-lujan?btid=3419444',\n",
       " '/52708-remax-chacras/inmuebles/600/ficha/lote-en-venta-en-entre-azcuenaga-y-anchorena?btid=3419444',\n",
       " '/1626-remax-excelencia/inmuebles/9110/ficha/lote-en-venta-en-barrio-del-mendoza-rugby-club-bermejo?btid=3419444',\n",
       " '/52708-remax-chacras/inmuebles/442/ficha/lote-en-venta-en-alte-brown-s-n?btid=3419444',\n",
       " '/17515-remax-solutions/inmuebles/1849/ficha/lote-en-venta-en-rodriguez-y-san-francisco-del-monte?btid=3419444',\n",
       " '/1626-remax-excelencia/inmuebles/9100/ficha/lote-en-venta-en-barrio-coviarq?btid=3419444',\n",
       " '/52708-remax-chacras/inmuebles/599/ficha/lote-en-venta-en-terrada-y-azcuenaga?btid=3419444',\n",
       " '/1626-remax-excelencia/inmuebles/9093/ficha/lote-en-venta-en-barrio-coviarq?btid=3419444',\n",
       " '/52708-remax-chacras/inmuebles/597/ficha/lote-en-venta-en-las-retamas-barrio-privado?btid=3419444',\n",
       " '/52708-remax-chacras/inmuebles/598/ficha/lote-en-venta-en-las-retamas-barrio-privado?btid=3419444',\n",
       " '/52708-remax-chacras/inmuebles/558/ficha/lote-en-venta-en-sol-andino-i?btid=3419444',\n",
       " '/17515-remax-solutions/inmuebles/1835/ficha/lote-en-venta-en-san-martin-2299-y-zapiola?btid=3419444',\n",
       " '/52708-remax-chacras/inmuebles/535/ficha/lote-en-venta-en-azcuenaga-lunlunta-maipu?btid=3419444',\n",
       " '/52708-remax-chacras/inmuebles/536/ficha/lote-en-venta-en-azcuenaga-lunlunta-maipu?btid=3419444',\n",
       " '/52708-remax-chacras/inmuebles/511/ficha/lote-en-venta-en-ozamis-y-ruta-60?btid=3419444',\n",
       " '/17515-remax-solutions/inmuebles/45/ficha/lote-en-venta-en-calle-paso-hondo?btid=3419444',\n",
       " '/17515-remax-solutions/inmuebles/1606/ficha/lote-en-venta-en-av-champagnat?btid=3419444',\n",
       " '/52708-remax-chacras/inmuebles/385/ficha/lote-en-venta-en-godofredo-paladini-1840?btid=3419444',\n",
       " '/52708-remax-chacras/inmuebles/399/ficha/lote-en-venta-en-callejon-molina-sn-5ta-fraccion?btid=3419444',\n",
       " '/52708-remax-chacras/inmuebles/388/ficha/lote-en-venta-en-godofredo-paladini-1840?btid=3419444',\n",
       " '/52708-remax-chacras/inmuebles/389/ficha/lote-en-venta-en-godofredo-paladini-1840?btid=3419444',\n",
       " '/52708-remax-chacras/inmuebles/384/ficha/lote-en-venta-en-godofredo-paladini-1840?btid=3419444',\n",
       " '/52708-remax-chacras/inmuebles/284/ficha/lote-en-venta-en-bomirador-sur-calle-manque-sno-manzana-c-lote-4?btid=3419444',\n",
       " '/17515-remax-solutions/inmuebles/1722/ficha/lote-en-venta-en-callejon-de-la-virgen-a-mts-de-roque-saenz-pena?btid=3419444',\n",
       " '/17515-remax-solutions/inmuebles/1244/ficha/lote-en-venta-en-roque-saenz-pena?btid=3419444',\n",
       " '/1626-remax-excelencia/inmuebles/8823/ficha/lote-en-venta-en-calle-el-sol-a-metros-del-walmart-de-las-heras?btid=3419444',\n",
       " '/17515-remax-solutions/inmuebles/1701/ficha/lote-en-venta-en-congreso-y-chacabuco?btid=3419444',\n",
       " '/17515-remax-solutions/inmuebles/1690/ficha/lote-en-venta-en-congreso-y-chacabuco?btid=3419444',\n",
       " '/1626-remax-excelencia/inmuebles/8735/ficha/lote-en-venta-en-benavente?btid=3419444',\n",
       " '/1626-remax-excelencia/inmuebles/8243/ficha/lote-en-venta-en-ruta-panamericana?btid=3419444',\n",
       " '/52708-remax-chacras/inmuebles/467/ficha/lote-en-venta-en-almirante-brown-y-viamonte?btid=3419444',\n",
       " '/1626-remax-excelencia/inmuebles/7423/ficha/lote-en-venta-en-barrio-la-magdalena-olivar?btid=3419444',\n",
       " '/17515-remax-solutions/inmuebles/572/ficha/lote-en-venta-en-liniers-s-n-a-metros-de-bruno-moron?btid=3419444',\n",
       " '/1626-remax-excelencia/inmuebles/7530/ficha/lote-en-venta-en-mariani-casi-milagros?btid=3419444',\n",
       " '/52708-remax-chacras/inmuebles/394/ficha/lote-en-venta-en-barrio-terruno-de-araoz-3?btid=3419444',\n",
       " '/52708-remax-chacras/inmuebles/537/ficha/lote-en-venta-en-cruz-videla-s-n?btid=3419444',\n",
       " '/1626-remax-excelencia/inmuebles/8929/ficha/lote-en-venta-en-barrio-privado-vieytes?btid=3419444',\n",
       " '/52708-remax-chacras/inmuebles/390/ficha/lote-en-venta-en-plaza-de-mulas-sn?btid=3419444',\n",
       " '/17515-remax-solutions/inmuebles/1401/ficha/lote-en-venta-en-zona-vip?btid=3419444',\n",
       " '/17515-remax-solutions/inmuebles/1753/ficha/lote-en-venta-en-darragueira-406?btid=3419444',\n",
       " '/52708-remax-chacras/inmuebles/534/ficha/lote-en-venta-en-el-carrizal?btid=3419444',\n",
       " '/17515-remax-solutions/inmuebles/1755/ficha/lote-en-venta-en-calle-las-margaritas-maipu?btid=3419444',\n",
       " '/52708-remax-chacras/inmuebles/348/ficha/lote-en-venta-en-antartida-argentina-s-n?btid=3419444',\n",
       " '/1626-remax-excelencia/inmuebles/8940/ficha/lote-en-venta-en-corralitos?btid=3419444',\n",
       " '/1626-remax-excelencia/inmuebles/8927/ficha/lote-en-venta-en-12000-m2-la-crucesita-excelente-oportunidad?btid=3419444',\n",
       " '/17515-remax-solutions/inmuebles/1907/ficha/lote-en-venta-en-chacras-de-coria?btid=3419444',\n",
       " '/1626-remax-excelencia/inmuebles/9041/ficha/lote-en-venta-en-boedo-y-vieytes-maipu?btid=3419444',\n",
       " '/52708-remax-chacras/inmuebles/318/ficha/lote-en-venta-en-ruta-provincial-89-las-vegas-potrerillos-mendoz?btid=3419444',\n",
       " '/17515-remax-solutions/inmuebles/1437/ficha/lote-en-venta-en-manzana-c?btid=3419444',\n",
       " '/17515-remax-solutions/inmuebles/986/ficha/lote-en-venta-en-olivar?btid=3419444',\n",
       " '/17515-remax-solutions/inmuebles/1226/ficha/lote-en-venta-en-ruta-60-araoz?btid=3419444',\n",
       " '/1626-remax-excelencia/inmuebles/9043/ficha/lote-en-venta-en-barrio-privado-las-retamas?btid=3419444',\n",
       " '/52708-remax-chacras/inmuebles/502/ficha/lote-en-venta-en-terrada-entre-azcuenaga-y-anchorena?btid=3419444',\n",
       " '/17515-remax-solutions/inmuebles/1650/ficha/lote-en-venta-en-barrio-privado-las-margaritas?btid=3419444',\n",
       " '/1626-remax-excelencia/inmuebles/9034/ficha/lote-en-venta-en-buenos-vecinos-y-godoy-cruz?btid=3419444',\n",
       " '/1626-remax-excelencia/inmuebles/9033/ficha/lote-en-venta-en-buenos-vecinos-y-godoy-cruz?btid=3419444',\n",
       " '/17515-remax-solutions/inmuebles/1428/ficha/lote-en-venta-en-tabanera-a-metros-de-ferrari?btid=3419444',\n",
       " '/17515-remax-solutions/inmuebles/1772/ficha/lote-en-venta-en-viamonte?btid=3419444',\n",
       " '/1626-remax-excelencia/inmuebles/8291/ficha/lote-en-venta-en-venta-lotes-en-maipu?btid=3419444',\n",
       " '/17515-remax-solutions/inmuebles/1816/ficha/lote-en-venta-en-estancia-frank-romero-day?btid=3419444',\n",
       " '/52708-remax-chacras/inmuebles/445/ficha/lote-en-venta-en-pueyrredon-2159?btid=3419444',\n",
       " '/1626-remax-excelencia/inmuebles/8524/ficha/lote-en-venta-en-b0-alta-mendoza-lda?btid=3419444',\n",
       " '/1626-remax-excelencia/inmuebles/8869/ficha/lote-en-venta-en-calle-rivadavia-de-godoy-cruz-entre-las-heras-y-s?btid=3419444',\n",
       " '/1626-remax-excelencia/inmuebles/8055/ficha/lote-en-venta-en-barrio-privado-las-candelas?btid=3419444',\n",
       " '/1626-remax-excelencia/inmuebles/8775/ficha/lote-en-venta-en-san-martin-2299-mayor-drummond-lujan-de-cuyo?btid=3419444',\n",
       " '/1626-remax-excelencia/inmuebles/6260/ficha/lote-en-venta-en-magnifico-terreno-en-las-canas?btid=3419444',\n",
       " '/1626-remax-excelencia/inmuebles/8683/ficha/lote-en-venta-en-magnifico-terreno-en-venta?btid=3419444',\n",
       " '/1626-remax-excelencia/inmuebles/8635/ficha/lote-en-venta-en-callejon-aristoteles?btid=3419444',\n",
       " '/1626-remax-excelencia/inmuebles/8528/ficha/lote-en-venta-en-proximo-a-ruta-n07-km-1080?btid=3419444',\n",
       " '/17515-remax-solutions/inmuebles/1515/ficha/lote-en-venta-en-rincon-de-viamonte?btid=3419444',\n",
       " '/17515-remax-solutions/inmuebles/1427/ficha/lote-en-venta-en-franco-s-n?btid=3419444',\n",
       " '/17515-remax-solutions/inmuebles/553/ficha/lote-en-venta-en-b-milcayac-i?btid=3419444',\n",
       " '/17515-remax-solutions/inmuebles/159/ficha/lote-en-venta-en-el-nevado?btid=3419444',\n",
       " '/52708-remax-chacras/inmuebles/495/ficha/lote-en-venta-en-brandsen-perdriel?btid=3419444',\n",
       " '/52708-remax-chacras/inmuebles/548/ficha/lote-en-venta-en-cruz-videla-entre-vieytes-y-maza-maipu?btid=3419444',\n",
       " '/52708-remax-chacras/inmuebles/633/ficha/lote-en-venta-en-monteagudo-y-urquiza?btid=3419444',\n",
       " '/1626-remax-excelencia/inmuebles/9220/ficha/lote-en-venta-en-barrio-balcon-de-la-sierra-e13?btid=3419444',\n",
       " '/17515-remax-solutions/inmuebles/1913/ficha/lote-en-venta-en?btid=3419444',\n",
       " '/17515-remax-solutions/inmuebles/1914/ficha/lote-en-venta-en?btid=3419444',\n",
       " '/17515-remax-solutions/inmuebles/1856/ficha/lote-en-venta-en-avenida-champagnat?btid=3419444',\n",
       " '/17515-remax-solutions/inmuebles/1743/ficha/lote-en-venta-en-liceo-rugby?btid=3419444',\n",
       " '/17515-remax-solutions/inmuebles/1578/ficha/lote-en-venta-en-ruta-nacional?btid=3419444',\n",
       " '/52708-remax-chacras/inmuebles/634/ficha/lote-en-venta-en-milcayac-1?btid=3419444',\n",
       " '/52708-remax-chacras/inmuebles/631/ficha/lote-en-venta-en-barrio-los-balcones-del-cerro-arco?btid=3419444',\n",
       " '/17515-remax-solutions/inmuebles/1643/ficha/lote-en-venta-en-b0-terruno-de-araoz-iii?btid=3419444',\n",
       " '/17515-remax-solutions/inmuebles/1479/ficha/lote-en-venta-en-elpidio-gonzalez?btid=3419444',\n",
       " '/52708-remax-chacras/inmuebles/349/ficha/lote-en-venta-en-barrio-rincon-de-drummond?btid=3419444',\n",
       " '/17515-remax-solutions/inmuebles/1933/ficha/lote-en-venta-en-bulnes-y-acceso-sur?btid=3419444',\n",
       " '/52708-remax-chacras/inmuebles/620/ficha/lote-en-venta-en-estancia-bulnes?btid=3419444',\n",
       " '/17515-remax-solutions/inmuebles/1813/ficha/lote-en-venta-en-altos-de-la-crucesita?btid=3419444',\n",
       " '/17515-remax-solutions/inmuebles/1824/ficha/lote-en-venta-en-videla-aranda?btid=3419444',\n",
       " '/17515-remax-solutions/inmuebles/1885/ficha/lote-en-venta-en-b0-natania-47?btid=3419444',\n",
       " '/17515-remax-solutions/inmuebles/1811/ficha/lote-en-venta-en-vieytes-y-boedo?btid=3419444',\n",
       " '/17515-remax-solutions/inmuebles/1456/ficha/lote-en-venta-en-lavalle?btid=3419444',\n",
       " '/17515-remax-solutions/inmuebles/1720/ficha/lote-en-venta-en-maza-y-cruz-videla?btid=3419444',\n",
       " '/17515-remax-solutions/inmuebles/1533/ficha/lote-en-venta-en-patricias-mendocinas-1445-guaymallen?btid=3419444',\n",
       " '/52708-remax-chacras/inmuebles/602/ficha/lote-en-venta-en-terrada-s-n?btid=3419444',\n",
       " '/52708-remax-chacras/inmuebles/616/ficha/lote-en-venta-en-terrada-a-800-mts-de-azcuenga?btid=3419444',\n",
       " '/1626-remax-excelencia/inmuebles/8028/ficha/lote-en-venta-en-palma?btid=3419444',\n",
       " '/1626-remax-excelencia/inmuebles/9175/ficha/lote-en-venta-en-acc-sur-y-zapiola?btid=3419444',\n",
       " '/1626-remax-excelencia/inmuebles/9176/ficha/lote-en-venta-en-acc-sur-y-zapiola?btid=3419444',\n",
       " '/17515-remax-solutions/inmuebles/1536/ficha/lote-en-venta-en-los-zorzales-potrerillos?btid=3419444',\n",
       " '/17515-remax-solutions/inmuebles/1764/ficha/lote-en-venta-en-viamonte?btid=3419444',\n",
       " '/52708-remax-chacras/inmuebles/614/ficha/lote-en-venta-en-barrio-portal-vistalba?btid=3419444',\n",
       " '/1626-remax-excelencia/inmuebles/9167/ficha/lote-en-venta-en-mathus-hoyos-6681?btid=3419444',\n",
       " '/1626-remax-excelencia/inmuebles/8622/ficha/lote-en-venta-en-barrio-mendoza-rugby-club?btid=3419444',\n",
       " '/1626-remax-excelencia/inmuebles/5981/ficha/lote-en-venta-en-san-juan-10515-a-metros-de-calle-milagros?btid=3419444',\n",
       " '/17515-remax-solutions/inmuebles/1878/ficha/lote-en-venta-en-vieytes-terrunos-de-araoz-iii?btid=3419444',\n",
       " '/52708-remax-chacras/inmuebles/607/ficha/lote-en-venta-en-calle-sanchez-1670?btid=3419444',\n",
       " '/52708-remax-chacras/inmuebles/163/ficha/lote-en-venta-en-terrada-entre-azcuenaga-y-anchorena?btid=3419444',\n",
       " '/52708-remax-chacras/inmuebles/330/ficha/lote-en-venta-en-barrio-pueblo-malbec?btid=3419444',\n",
       " '/52708-remax-chacras/inmuebles/392/ficha/lote-en-venta-en-piedras-blancas?btid=3419444',\n",
       " '/52708-remax-chacras/inmuebles/195/ficha/lote-en-venta-en-viamonte-al-3000?btid=3419444',\n",
       " '/1626-remax-excelencia/inmuebles/9080/ficha/lote-en-venta-en-ruta-52?btid=3419444',\n",
       " '/1626-remax-excelencia/inmuebles/9081/ficha/lote-en-venta-en-ruta-52?btid=3419444',\n",
       " '/1626-remax-excelencia/inmuebles/9082/ficha/lote-en-venta-en-ruta-52?btid=3419444',\n",
       " '/1626-remax-excelencia/inmuebles/9171/ficha/lote-en-venta-en-agustin-alvarez-entre-granaderos-y-martinez-de-ros?btid=3419444',\n",
       " '/52708-remax-chacras/inmuebles/625/ficha/lote-en-venta-en-acceso-este-y-carril-ponce?btid=3419444',\n",
       " '/17515-remax-solutions/inmuebles/1903/ficha/lote-en-venta-en-b0-privado-pinar-vistalba?btid=3419444',\n",
       " '/17515-remax-solutions/inmuebles/1900/ficha/lote-en-venta-en-ruta-panamericana?btid=3419444',\n",
       " '/17515-remax-solutions/inmuebles/1901/ficha/lote-en-venta-en-b0-dalvian?btid=3419444',\n",
       " '/17515-remax-solutions/inmuebles/1746/ficha/lote-en-venta-en-mariano-boedo?btid=3419444',\n",
       " '/1626-remax-excelencia/inmuebles/9179/ficha/lote-en-venta-en-ruta-60-2399?btid=3419444',\n",
       " '/17515-remax-solutions/inmuebles/1888/ficha/lote-en-venta-en-pedro-vargas-y-pizarro?btid=3419444',\n",
       " '/52708-remax-chacras/inmuebles/613/ficha/lote-en-venta-en-terrada-a-mts-de-ruta-60?btid=3419444',\n",
       " '/52708-remax-chacras/inmuebles/491/ficha/lote-en-venta-en-saenz-pena?btid=3419444',\n",
       " '/52708-remax-chacras/inmuebles/615/ficha/lote-en-venta-en-acceso-sur-lateral-oeste?btid=3419444',\n",
       " '/52708-remax-chacras/inmuebles/488/ficha/lote-en-venta-en-av-san-martin-2892?btid=3419444',\n",
       " '/1626-remax-excelencia/inmuebles/9158/ficha/lote-en-venta-en-barrio-natania-23-gllen?btid=3419444',\n",
       " '/1626-remax-excelencia/inmuebles/9144/ficha/lote-en-venta-en-sebero-del-castillo-3800?btid=3419444',\n",
       " '/1626-remax-excelencia/inmuebles/9143/ficha/lote-en-venta-en-sebero-del-castillo-3800?btid=3419444',\n",
       " '/17515-remax-solutions/inmuebles/1872/ficha/lote-en-venta-en-olascoaga-y-dorrego-el-resguardo?btid=3419444',\n",
       " '/1626-remax-excelencia/inmuebles/9126/ficha/lote-en-venta-en-barrio-privado-tierras-altas?btid=3419444',\n",
       " '/1626-remax-excelencia/inmuebles/9114/ficha/lote-en-venta-en-barrio-santa-mara?btid=3419444',\n",
       " '/17515-remax-solutions/inmuebles/1852/ficha/lote-en-venta-en-talcahuano?btid=3419444',\n",
       " '/1626-remax-excelencia/inmuebles/9044/ficha/lote-en-venta-en-las-palmas?btid=3419444',\n",
       " '/17515-remax-solutions/inmuebles/1870/ficha/lote-en-venta-en-barrio-vinas-de-malbec?btid=3419444',\n",
       " '/52708-remax-chacras/inmuebles/621/ficha/lote-en-venta-en-lulunta-maipu?btid=3419444',\n",
       " '/17515-remax-solutions/inmuebles/1896/ficha/lote-en-venta-en-etapa-3?btid=3419444',\n",
       " '/1626-remax-excelencia/inmuebles/9178/ficha/lote-en-venta-en-buenos-vecinos-y-godoy-cruz?btid=3419444',\n",
       " '/17515-remax-solutions/inmuebles/1891/ficha/lote-en-venta-en-bandera-de-los-andes?btid=3419444',\n",
       " '/52708-remax-chacras/inmuebles/262/ficha/lote-en-venta-en-publica-n0-v?btid=3419444',\n",
       " '/52708-remax-chacras/inmuebles/561/ficha/lote-en-venta-en-barrio-privado-rosa-mozqueta?btid=3419444',\n",
       " '/52708-remax-chacras/inmuebles/211/ficha/lote-en-venta-en-ruta-provincial-60-2165?btid=3419444',\n",
       " '/17515-remax-solutions/inmuebles/639/ficha/lote-en-venta-en-lujan?btid=3419444',\n",
       " '/1626-remax-excelencia/inmuebles/9117/ficha/lote-en-venta-en-mendoza-plaza-shopping?btid=3419444',\n",
       " '/1626-remax-excelencia/inmuebles/9118/ficha/lote-en-venta-en-sol-andino-ii?btid=3419444',\n",
       " '/1626-remax-excelencia/inmuebles/9095/ficha/lote-en-venta-en-las-cortaderas-country-1?btid=3419444',\n",
       " '/1626-remax-excelencia/inmuebles/8859/ficha/lote-en-venta-en-ferrari-264?btid=3419444',\n",
       " '/1626-remax-excelencia/inmuebles/8618/ficha/lote-en-venta-en-lar-de-vieytes-2?btid=3419444',\n",
       " '/1626-remax-excelencia/inmuebles/9067/ficha/lote-en-venta-en-martinez-de-rozas?btid=3419444',\n",
       " '/1626-remax-excelencia/inmuebles/8598/ficha/lote-en-venta-en-bo-rincon-del-cerro?btid=3419444',\n",
       " '/52708-remax-chacras/inmuebles/501/ficha/lote-en-venta-en-chacras-de-coria?btid=3419444',\n",
       " '/1626-remax-excelencia/inmuebles/9020/ficha/lote-en-venta-en-frente-control-linea-80?btid=3419444',\n",
       " '/17515-remax-solutions/inmuebles/1663/ficha/lote-en-venta-en-b0-natania-23?btid=3419444',\n",
       " '/17515-remax-solutions/inmuebles/1677/ficha/lote-en-venta-en-terrada?btid=3419444',\n",
       " '/1626-remax-excelencia/inmuebles/9018/ficha/lote-en-venta-en-elpidio-gonzalez-y-las-canas?btid=3419444',\n",
       " '/1626-remax-excelencia/inmuebles/8687/ficha/lote-en-venta-en-panamerican-chacras-de-coria?btid=3419444',\n",
       " '/1626-remax-excelencia/inmuebles/9037/ficha/lote-en-venta-en-ruta-60-s-n?btid=3419444',\n",
       " '/52708-remax-chacras/inmuebles/316/ficha/lote-en-venta-en-terrada-3625?btid=3419444',\n",
       " '/1626-remax-excelencia/inmuebles/8990/ficha/lote-en-venta-en-agrupacion-gaucha-los-andes?btid=3419444',\n",
       " '/1626-remax-excelencia/inmuebles/8664/ficha/lote-en-venta-en-el-carrizal?btid=3419444',\n",
       " '/1626-remax-excelencia/inmuebles/8560/ficha/lote-en-venta-en-rincon-de-terrada?btid=3419444',\n",
       " '/1626-remax-excelencia/inmuebles/8237/ficha/lote-en-venta-en-casciola-s-n?btid=3419444',\n",
       " '/17515-remax-solutions/inmuebles/1227/ficha/lote-en-venta-en-ruta-a-vallecitos?btid=3419444',\n",
       " '/1626-remax-excelencia/inmuebles/8615/ficha/lote-en-venta-en-ruta-60?btid=3419444',\n",
       " '/17515-remax-solutions/inmuebles/91/ficha/lote-en-venta-en-ruta-52?btid=3419444',\n",
       " '/1626-remax-excelencia/inmuebles/8900/ficha/lote-en-venta-en-lateral-sur-acceso-este?btid=3419444',\n",
       " '/1626-remax-excelencia/inmuebles/8872/ficha/lote-en-venta-en-b0-praderas-de-vistalba?btid=3419444',\n",
       " '/1626-remax-excelencia/inmuebles/9227/ficha/lote-en-venta-en-lateral-sur-acceso-este?btid=3419444',\n",
       " '/1626-remax-excelencia/inmuebles/9187/ficha/lote-en-venta-en-barrio-vieytes?btid=3419444',\n",
       " '/17515-remax-solutions/inmuebles/1912/ficha/lote-en-venta-en-boedo-y-barcala?btid=3419444',\n",
       " '/17515-remax-solutions/inmuebles/1911/ficha/lote-en-venta-en-boedo-y-barcala?btid=3419444',\n",
       " '/1626-remax-excelencia/inmuebles/9207/ficha/lote-en-venta-en-las-retamas?btid=3419444',\n",
       " '/1626-remax-excelencia/inmuebles/9025/ficha/lote-en-venta-en-rivadavia?btid=3419444',\n",
       " '/1626-remax-excelencia/inmuebles/9217/ficha/lote-en-venta-en-rivadavia?btid=3419444',\n",
       " '/1626-remax-excelencia/inmuebles/9216/ficha/lote-en-venta-en-rivadavia?btid=3419444',\n",
       " '/17515-remax-solutions/inmuebles/1858/ficha/lote-en-venta-en-dorrego?btid=3419444',\n",
       " '/1626-remax-excelencia/inmuebles/9161/ficha/lote-en-venta-en-acceso-sur?btid=3419444',\n",
       " '/52708-remax-chacras/inmuebles/372/ficha/lote-en-venta-en-viamonte-y-peralitos?btid=3419444',\n",
       " '/1626-remax-excelencia/inmuebles/9112/ficha/lote-en-venta-en-vieytes-y-san-martin?btid=3419444',\n",
       " '/17515-remax-solutions/inmuebles/1006/ficha/lote-en-venta-en-gran-boedo?btid=3419444',\n",
       " '/1626-remax-excelencia/inmuebles/8993/ficha/lote-en-venta-en-joaquin-v-gonzales-barrio-trapiche?btid=3419444',\n",
       " '/17515-remax-solutions/inmuebles/1334/ficha/lote-en-venta-en-b0-coviarq-4?btid=3419444',\n",
       " '/17515-remax-solutions/inmuebles/1215/ficha/lote-en-venta-en-las-cortaderas-3?btid=3419444',\n",
       " '/17515-remax-solutions/inmuebles/1217/ficha/lote-en-venta-en-las-cortaderas-3?btid=3419444']"
      ]
     },
     "execution_count": 20,
     "metadata": {},
     "output_type": "execute_result"
    }
   ],
   "source": [
    "list(df.url.values)"
   ]
  },
  {
   "cell_type": "code",
   "execution_count": 19,
   "metadata": {},
   "outputs": [
    {
     "data": {
      "text/plain": [
       "array(['disable', nan], dtype=object)"
      ]
     },
     "execution_count": 19,
     "metadata": {},
     "output_type": "execute_result"
    }
   ],
   "source": [
    "df.floorArea.unique()"
   ]
  },
  {
   "cell_type": "markdown",
   "metadata": {},
   "source": [
    "### Creating totalArea ranges"
   ]
  },
  {
   "cell_type": "code",
   "execution_count": 17,
   "metadata": {},
   "outputs": [
    {
     "data": {
      "text/plain": [
       "11.05105105105105"
      ]
     },
     "execution_count": 17,
     "metadata": {},
     "output_type": "execute_result"
    }
   ],
   "source": [
    "# Percent of disables\n",
    "100.0 * len(df[df['totalArea']=='disable'])/len(df)"
   ]
  },
  {
   "cell_type": "code",
   "execution_count": 18,
   "metadata": {},
   "outputs": [
    {
     "name": "stdout",
     "output_type": "stream",
     "text": [
      "     totalArea_fixed totalArea\n",
      "0                400       400\n",
      "1                220       220\n",
      "2                475       475\n",
      "3                802       802\n",
      "4                500       500\n",
      "...              ...       ...\n",
      "3451             752       752\n",
      "3452             423       423\n",
      "3453             840       840\n",
      "3454             280       280\n",
      "3455             540       540\n",
      "\n",
      "[2962 rows x 2 columns]\n"
     ]
    }
   ],
   "source": [
    "# Fixing types\n",
    "# Removing disables\n",
    "df = df[df['totalArea']!='disable']\n",
    "# Removing string chars in totalArea\n",
    "df['totalArea_fixed'] = df.totalArea.str.replace('mts2','').str.replace('m2','').str.replace('m','')\n",
    "df.totalArea_fixed = df.totalArea_fixed.str.strip()\n",
    "def cast_to_comma(value):\n",
    "    if len(value)>= 3 and value[-3]==\".\":\n",
    "        return value.replace(\".\",',')\n",
    "    else:\n",
    "        return value\n",
    "df.totalArea_fixed = df.totalArea_fixed.apply(lambda x: cast_to_comma(x))\n",
    "print(df[['totalArea_fixed','totalArea']])\n",
    "df.totalArea_fixed = df.totalArea_fixed.str.replace('.', '')\n",
    "df.totalArea_fixed = df.totalArea_fixed.str.replace(',', '.')\n",
    "df.totalArea_fixed = pd.to_numeric(df.totalArea_fixed, errors='coerce')"
   ]
  },
  {
   "cell_type": "code",
   "execution_count": 19,
   "metadata": {},
   "outputs": [
    {
     "data": {
      "text/plain": [
       "0.0337609723160027"
      ]
     },
     "execution_count": 19,
     "metadata": {},
     "output_type": "execute_result"
    }
   ],
   "source": [
    "# Percent of floorArea in disable\n",
    "100.0 * len(df[df['floorArea']=='disable'])/len(df)"
   ]
  },
  {
   "cell_type": "code",
   "execution_count": 20,
   "metadata": {},
   "outputs": [
    {
     "data": {
      "text/plain": [
       "0.0006752194463200541"
      ]
     },
     "execution_count": 20,
     "metadata": {},
     "output_type": "execute_result"
    }
   ],
   "source": [
    "len(df[df['url'].str.contains(\"depart\")])/len(df)"
   ]
  },
  {
   "cell_type": "code",
   "execution_count": 22,
   "metadata": {},
   "outputs": [
    {
     "name": "stdout",
     "output_type": "stream",
     "text": [
      "     floorArea_fixed floorArea\n",
      "0                268       268\n",
      "1                190       190\n",
      "2                200       200\n",
      "3                244       244\n",
      "4                310       310\n",
      "...              ...       ...\n",
      "3451             313       313\n",
      "3452             225       225\n",
      "3453             350       350\n",
      "3454              95        95\n",
      "3455             300       300\n",
      "\n",
      "[2956 rows x 2 columns]\n"
     ]
    }
   ],
   "source": [
    "# Removing disables\n",
    "df = df[df['floorArea']!='disable']\n",
    "df['floorArea_fixed'] = df.floorArea.str.replace('mts2','').str.replace('m2','').str.replace('m','')\n",
    "df.floorArea_fixed = df.floorArea_fixed.str.strip()\n",
    "def cast_to_comma(value):\n",
    "    if isinstance(value,str) and len(value)>= 3 and value[-3]==\".\":\n",
    "        return value.replace(\".\",',')\n",
    "    else:\n",
    "        return value\n",
    "df.floorArea_fixed = df.floorArea_fixed.apply(lambda x: cast_to_comma(x))\n",
    "print(df[['floorArea_fixed','floorArea']])\n",
    "df.floorArea_fixed = df.floorArea_fixed.str.replace('.', '')\n",
    "df.floorArea_fixed = df.floorArea_fixed.str.replace(',', '.')\n",
    "df.floorArea_fixed = pd.to_numeric(df.floorArea_fixed, errors='coerce')\n",
    "# Avoid apartments with less of 10 square meters\n",
    "df = df[df.floorArea_fixed >= 10]"
   ]
  },
  {
   "cell_type": "code",
   "execution_count": 37,
   "metadata": {},
   "outputs": [],
   "source": [
    "def bucketizer(df, bucket_limits, field, new_field):\n",
    "    prev_limit = None\n",
    "    ranges = []\n",
    "    for i,limit in enumerate(bucket_limits):\n",
    "        if i==0:\n",
    "            df.loc[df[field] <= limit, new_field] = 0\n",
    "            ranges = [\"0..\"+str(limit)]\n",
    "        elif i==len(bucket_limits)-1:\n",
    "            df.loc[np.logical_and(df[field] > prev_limit,df[field] <= limit), new_field] = prev_limit\n",
    "            ranges.append(str(prev_limit)+\"..\"+str(limit))\n",
    "            \n",
    "            df.loc[df[field] > limit, new_field] = limit\n",
    "            ranges.append(str(limit)+\"..\")\n",
    "        else:\n",
    "            df.loc[np.logical_and(df[field] > prev_limit,df[field] <= limit), new_field] = prev_limit\n",
    "            ranges.append(str(prev_limit)+\"..\"+str(limit))\n",
    "        prev_limit = limit\n",
    "    return ranges"
   ]
  },
  {
   "cell_type": "code",
   "execution_count": 42,
   "metadata": {},
   "outputs": [
    {
     "data": {
      "text/plain": [
       "['0..90', '90..120', '120..240', '240..']"
      ]
     },
     "execution_count": 42,
     "metadata": {},
     "output_type": "execute_result"
    }
   ],
   "source": [
    "\"\"\"\n",
    "Casas - Superficie cubierta m2:\n",
    "    - 90..120\n",
    "    - 120..240\n",
    "    - 240..\n",
    "\"\"\"\n",
    "bucket_separators = [90,120,240]\n",
    "#field = \"totalArea_fixed\"\n",
    "field = \"floorArea_fixed\"\n",
    "new_field=\"house_range\"\n",
    "ranges = bucketizer(df, bucket_separators, field, new_field)\n",
    "ranges"
   ]
  },
  {
   "cell_type": "code",
   "execution_count": 45,
   "metadata": {},
   "outputs": [
    {
     "data": {
      "image/png": "[encoded data removed]",
      "text/plain": [
       "<Figure size 432x288 with 1 Axes>"
      ]
     },
     "metadata": {
      "needs_background": "light"
     },
     "output_type": "display_data"
    }
   ],
   "source": [
    "house_range = df.groupby('house_range').count().ref_id#.sort_values(ascending=False)\n",
    "share = round(house_range/house_range.sum()*100,1)\n",
    "g = sns.barplot(x=ranges, y=house_range.values)\n",
    "\n",
    "for i,row in enumerate(house_range.iteritems()):\n",
    "    bar_text = f'{row[1]} ({share.iloc[i]}%)'\n",
    "    g.text(i, row[1], bar_text, color='black', ha=\"center\",va='bottom',rotation=0)\n",
    "g.set_title('Composicion por Rangos de Casas')\n",
    "plt.show()"
   ]
  },
  {
   "cell_type": "code",
   "execution_count": 46,
   "metadata": {},
   "outputs": [],
   "source": [
    "df[\"squared_meter_amount\"] = df.amount/df.floorArea_fixed"
   ]
  },
  {
   "cell_type": "code",
   "execution_count": 47,
   "metadata": {},
   "outputs": [
    {
     "data": {
      "text/html": [
       "<style  type=\"text/css\" >\n",
       "</style><table id=\"T_096940ac_cb84_11ea_bdbd_c809a8598abc\" ><thead>    <tr>        <th class=\"blank level0\" ></th>        <th class=\"col_heading level0 col0\" colspan=4>ref_id</th>        <th class=\"col_heading level0 col4\" colspan=4>squared_meter_amount</th>    </tr>    <tr>        <th class=\"index_name level1\" >depto_range</th>        <th class=\"col_heading level1 col0\" >0.0</th>        <th class=\"col_heading level1 col1\" >100.0</th>        <th class=\"col_heading level1 col2\" >120.0</th>        <th class=\"col_heading level1 col3\" >240.0</th>        <th class=\"col_heading level1 col4\" >0.0</th>        <th class=\"col_heading level1 col5\" >100.0</th>        <th class=\"col_heading level1 col6\" >120.0</th>        <th class=\"col_heading level1 col7\" >240.0</th>    </tr>    <tr>        <th class=\"index_name level0\" >district</th>        <th class=\"blank\" ></th>        <th class=\"blank\" ></th>        <th class=\"blank\" ></th>        <th class=\"blank\" ></th>        <th class=\"blank\" ></th>        <th class=\"blank\" ></th>        <th class=\"blank\" ></th>        <th class=\"blank\" ></th>    </tr></thead><tbody>\n",
       "                <tr>\n",
       "                        <th id=\"T_096940ac_cb84_11ea_bdbd_c809a8598abclevel0_row0\" class=\"row_heading level0 row0\" >Capital</th>\n",
       "                        <td id=\"T_096940ac_cb84_11ea_bdbd_c809a8598abcrow0_col0\" class=\"data row0 col0\" >16.0</td>\n",
       "                        <td id=\"T_096940ac_cb84_11ea_bdbd_c809a8598abcrow0_col1\" class=\"data row0 col1\" >19.0</td>\n",
       "                        <td id=\"T_096940ac_cb84_11ea_bdbd_c809a8598abcrow0_col2\" class=\"data row0 col2\" >23.0</td>\n",
       "                        <td id=\"T_096940ac_cb84_11ea_bdbd_c809a8598abcrow0_col3\" class=\"data row0 col3\" >418.0</td>\n",
       "                        <td id=\"T_096940ac_cb84_11ea_bdbd_c809a8598abcrow0_col4\" class=\"data row0 col4\" >1071.9</td>\n",
       "                        <td id=\"T_096940ac_cb84_11ea_bdbd_c809a8598abcrow0_col5\" class=\"data row0 col5\" >1050.0</td>\n",
       "                        <td id=\"T_096940ac_cb84_11ea_bdbd_c809a8598abcrow0_col6\" class=\"data row0 col6\" >853.9</td>\n",
       "                        <td id=\"T_096940ac_cb84_11ea_bdbd_c809a8598abcrow0_col7\" class=\"data row0 col7\" >1036.3</td>\n",
       "            </tr>\n",
       "            <tr>\n",
       "                        <th id=\"T_096940ac_cb84_11ea_bdbd_c809a8598abclevel0_row1\" class=\"row_heading level0 row1\" >Carrodilla</th>\n",
       "                        <td id=\"T_096940ac_cb84_11ea_bdbd_c809a8598abcrow1_col0\" class=\"data row1 col0\" >8.0</td>\n",
       "                        <td id=\"T_096940ac_cb84_11ea_bdbd_c809a8598abcrow1_col1\" class=\"data row1 col1\" >4.0</td>\n",
       "                        <td id=\"T_096940ac_cb84_11ea_bdbd_c809a8598abcrow1_col2\" class=\"data row1 col2\" >2.0</td>\n",
       "                        <td id=\"T_096940ac_cb84_11ea_bdbd_c809a8598abcrow1_col3\" class=\"data row1 col3\" >43.0</td>\n",
       "                        <td id=\"T_096940ac_cb84_11ea_bdbd_c809a8598abcrow1_col4\" class=\"data row1 col4\" >7095.3</td>\n",
       "                        <td id=\"T_096940ac_cb84_11ea_bdbd_c809a8598abcrow1_col5\" class=\"data row1 col5\" >924.0</td>\n",
       "                        <td id=\"T_096940ac_cb84_11ea_bdbd_c809a8598abcrow1_col6\" class=\"data row1 col6\" >917.0</td>\n",
       "                        <td id=\"T_096940ac_cb84_11ea_bdbd_c809a8598abcrow1_col7\" class=\"data row1 col7\" >921.5</td>\n",
       "            </tr>\n",
       "            <tr>\n",
       "                        <th id=\"T_096940ac_cb84_11ea_bdbd_c809a8598abclevel0_row2\" class=\"row_heading level0 row2\" >Chacras de Coria</th>\n",
       "                        <td id=\"T_096940ac_cb84_11ea_bdbd_c809a8598abcrow2_col0\" class=\"data row2 col0\" >2.0</td>\n",
       "                        <td id=\"T_096940ac_cb84_11ea_bdbd_c809a8598abcrow2_col1\" class=\"data row2 col1\" >10.0</td>\n",
       "                        <td id=\"T_096940ac_cb84_11ea_bdbd_c809a8598abcrow2_col2\" class=\"data row2 col2\" >3.0</td>\n",
       "                        <td id=\"T_096940ac_cb84_11ea_bdbd_c809a8598abcrow2_col3\" class=\"data row2 col3\" >225.0</td>\n",
       "                        <td id=\"T_096940ac_cb84_11ea_bdbd_c809a8598abcrow2_col4\" class=\"data row2 col4\" >1369.3</td>\n",
       "                        <td id=\"T_096940ac_cb84_11ea_bdbd_c809a8598abcrow2_col5\" class=\"data row2 col5\" >1170.4</td>\n",
       "                        <td id=\"T_096940ac_cb84_11ea_bdbd_c809a8598abcrow2_col6\" class=\"data row2 col6\" >1206.7</td>\n",
       "                        <td id=\"T_096940ac_cb84_11ea_bdbd_c809a8598abcrow2_col7\" class=\"data row2 col7\" >1010.0</td>\n",
       "            </tr>\n",
       "            <tr>\n",
       "                        <th id=\"T_096940ac_cb84_11ea_bdbd_c809a8598abclevel0_row3\" class=\"row_heading level0 row3\" >Godoy Cruz</th>\n",
       "                        <td id=\"T_096940ac_cb84_11ea_bdbd_c809a8598abcrow3_col0\" class=\"data row3 col0\" >18.0</td>\n",
       "                        <td id=\"T_096940ac_cb84_11ea_bdbd_c809a8598abcrow3_col1\" class=\"data row3 col1\" >11.0</td>\n",
       "                        <td id=\"T_096940ac_cb84_11ea_bdbd_c809a8598abcrow3_col2\" class=\"data row3 col2\" >25.0</td>\n",
       "                        <td id=\"T_096940ac_cb84_11ea_bdbd_c809a8598abcrow3_col3\" class=\"data row3 col3\" >289.0</td>\n",
       "                        <td id=\"T_096940ac_cb84_11ea_bdbd_c809a8598abcrow3_col4\" class=\"data row3 col4\" >670.8</td>\n",
       "                        <td id=\"T_096940ac_cb84_11ea_bdbd_c809a8598abcrow3_col5\" class=\"data row3 col5\" >778.0</td>\n",
       "                        <td id=\"T_096940ac_cb84_11ea_bdbd_c809a8598abcrow3_col6\" class=\"data row3 col6\" >653.5</td>\n",
       "                        <td id=\"T_096940ac_cb84_11ea_bdbd_c809a8598abcrow3_col7\" class=\"data row3 col7\" >814.8</td>\n",
       "            </tr>\n",
       "            <tr>\n",
       "                        <th id=\"T_096940ac_cb84_11ea_bdbd_c809a8598abclevel0_row4\" class=\"row_heading level0 row4\" >Guaymallen</th>\n",
       "                        <td id=\"T_096940ac_cb84_11ea_bdbd_c809a8598abcrow4_col0\" class=\"data row4 col0\" >19.0</td>\n",
       "                        <td id=\"T_096940ac_cb84_11ea_bdbd_c809a8598abcrow4_col1\" class=\"data row4 col1\" >14.0</td>\n",
       "                        <td id=\"T_096940ac_cb84_11ea_bdbd_c809a8598abcrow4_col2\" class=\"data row4 col2\" >41.0</td>\n",
       "                        <td id=\"T_096940ac_cb84_11ea_bdbd_c809a8598abcrow4_col3\" class=\"data row4 col3\" >322.0</td>\n",
       "                        <td id=\"T_096940ac_cb84_11ea_bdbd_c809a8598abcrow4_col4\" class=\"data row4 col4\" >679.2</td>\n",
       "                        <td id=\"T_096940ac_cb84_11ea_bdbd_c809a8598abcrow4_col5\" class=\"data row4 col5\" >735.1</td>\n",
       "                        <td id=\"T_096940ac_cb84_11ea_bdbd_c809a8598abcrow4_col6\" class=\"data row4 col6\" >794.4</td>\n",
       "                        <td id=\"T_096940ac_cb84_11ea_bdbd_c809a8598abcrow4_col7\" class=\"data row4 col7\" >820.5</td>\n",
       "            </tr>\n",
       "            <tr>\n",
       "                        <th id=\"T_096940ac_cb84_11ea_bdbd_c809a8598abclevel0_row5\" class=\"row_heading level0 row5\" >La Puntilla</th>\n",
       "                        <td id=\"T_096940ac_cb84_11ea_bdbd_c809a8598abcrow5_col0\" class=\"data row5 col0\" >nan</td>\n",
       "                        <td id=\"T_096940ac_cb84_11ea_bdbd_c809a8598abcrow5_col1\" class=\"data row5 col1\" >2.0</td>\n",
       "                        <td id=\"T_096940ac_cb84_11ea_bdbd_c809a8598abcrow5_col2\" class=\"data row5 col2\" >nan</td>\n",
       "                        <td id=\"T_096940ac_cb84_11ea_bdbd_c809a8598abcrow5_col3\" class=\"data row5 col3\" >11.0</td>\n",
       "                        <td id=\"T_096940ac_cb84_11ea_bdbd_c809a8598abcrow5_col4\" class=\"data row5 col4\" >nan</td>\n",
       "                        <td id=\"T_096940ac_cb84_11ea_bdbd_c809a8598abcrow5_col5\" class=\"data row5 col5\" >812.5</td>\n",
       "                        <td id=\"T_096940ac_cb84_11ea_bdbd_c809a8598abcrow5_col6\" class=\"data row5 col6\" >nan</td>\n",
       "                        <td id=\"T_096940ac_cb84_11ea_bdbd_c809a8598abcrow5_col7\" class=\"data row5 col7\" >1044.5</td>\n",
       "            </tr>\n",
       "            <tr>\n",
       "                        <th id=\"T_096940ac_cb84_11ea_bdbd_c809a8598abclevel0_row6\" class=\"row_heading level0 row6\" >Las Heras</th>\n",
       "                        <td id=\"T_096940ac_cb84_11ea_bdbd_c809a8598abcrow6_col0\" class=\"data row6 col0\" >7.0</td>\n",
       "                        <td id=\"T_096940ac_cb84_11ea_bdbd_c809a8598abcrow6_col1\" class=\"data row6 col1\" >4.0</td>\n",
       "                        <td id=\"T_096940ac_cb84_11ea_bdbd_c809a8598abcrow6_col2\" class=\"data row6 col2\" >13.0</td>\n",
       "                        <td id=\"T_096940ac_cb84_11ea_bdbd_c809a8598abcrow6_col3\" class=\"data row6 col3\" >98.0</td>\n",
       "                        <td id=\"T_096940ac_cb84_11ea_bdbd_c809a8598abcrow6_col4\" class=\"data row6 col4\" >709.5</td>\n",
       "                        <td id=\"T_096940ac_cb84_11ea_bdbd_c809a8598abcrow6_col5\" class=\"data row6 col5\" >1010.4</td>\n",
       "                        <td id=\"T_096940ac_cb84_11ea_bdbd_c809a8598abcrow6_col6\" class=\"data row6 col6\" >590.5</td>\n",
       "                        <td id=\"T_096940ac_cb84_11ea_bdbd_c809a8598abcrow6_col7\" class=\"data row6 col7\" >771.0</td>\n",
       "            </tr>\n",
       "            <tr>\n",
       "                        <th id=\"T_096940ac_cb84_11ea_bdbd_c809a8598abclevel0_row7\" class=\"row_heading level0 row7\" >Lujan de Cuyo</th>\n",
       "                        <td id=\"T_096940ac_cb84_11ea_bdbd_c809a8598abcrow7_col0\" class=\"data row7 col0\" >25.0</td>\n",
       "                        <td id=\"T_096940ac_cb84_11ea_bdbd_c809a8598abcrow7_col1\" class=\"data row7 col1\" >22.0</td>\n",
       "                        <td id=\"T_096940ac_cb84_11ea_bdbd_c809a8598abcrow7_col2\" class=\"data row7 col2\" >26.0</td>\n",
       "                        <td id=\"T_096940ac_cb84_11ea_bdbd_c809a8598abcrow7_col3\" class=\"data row7 col3\" >291.0</td>\n",
       "                        <td id=\"T_096940ac_cb84_11ea_bdbd_c809a8598abcrow7_col4\" class=\"data row7 col4\" >898.1</td>\n",
       "                        <td id=\"T_096940ac_cb84_11ea_bdbd_c809a8598abcrow7_col5\" class=\"data row7 col5\" >987.5</td>\n",
       "                        <td id=\"T_096940ac_cb84_11ea_bdbd_c809a8598abcrow7_col6\" class=\"data row7 col6\" >946.8</td>\n",
       "                        <td id=\"T_096940ac_cb84_11ea_bdbd_c809a8598abcrow7_col7\" class=\"data row7 col7\" >959.2</td>\n",
       "            </tr>\n",
       "            <tr>\n",
       "                        <th id=\"T_096940ac_cb84_11ea_bdbd_c809a8598abclevel0_row8\" class=\"row_heading level0 row8\" >Maipu</th>\n",
       "                        <td id=\"T_096940ac_cb84_11ea_bdbd_c809a8598abcrow8_col0\" class=\"data row8 col0\" >28.0</td>\n",
       "                        <td id=\"T_096940ac_cb84_11ea_bdbd_c809a8598abcrow8_col1\" class=\"data row8 col1\" >14.0</td>\n",
       "                        <td id=\"T_096940ac_cb84_11ea_bdbd_c809a8598abcrow8_col2\" class=\"data row8 col2\" >11.0</td>\n",
       "                        <td id=\"T_096940ac_cb84_11ea_bdbd_c809a8598abcrow8_col3\" class=\"data row8 col3\" >200.0</td>\n",
       "                        <td id=\"T_096940ac_cb84_11ea_bdbd_c809a8598abcrow8_col4\" class=\"data row8 col4\" >932.2</td>\n",
       "                        <td id=\"T_096940ac_cb84_11ea_bdbd_c809a8598abcrow8_col5\" class=\"data row8 col5\" >1046.7</td>\n",
       "                        <td id=\"T_096940ac_cb84_11ea_bdbd_c809a8598abcrow8_col6\" class=\"data row8 col6\" >950.1</td>\n",
       "                        <td id=\"T_096940ac_cb84_11ea_bdbd_c809a8598abcrow8_col7\" class=\"data row8 col7\" >875.8</td>\n",
       "            </tr>\n",
       "            <tr>\n",
       "                        <th id=\"T_096940ac_cb84_11ea_bdbd_c809a8598abclevel0_row9\" class=\"row_heading level0 row9\" >Mayor Drummond</th>\n",
       "                        <td id=\"T_096940ac_cb84_11ea_bdbd_c809a8598abcrow9_col0\" class=\"data row9 col0\" >1.0</td>\n",
       "                        <td id=\"T_096940ac_cb84_11ea_bdbd_c809a8598abcrow9_col1\" class=\"data row9 col1\" >1.0</td>\n",
       "                        <td id=\"T_096940ac_cb84_11ea_bdbd_c809a8598abcrow9_col2\" class=\"data row9 col2\" >4.0</td>\n",
       "                        <td id=\"T_096940ac_cb84_11ea_bdbd_c809a8598abcrow9_col3\" class=\"data row9 col3\" >39.0</td>\n",
       "                        <td id=\"T_096940ac_cb84_11ea_bdbd_c809a8598abcrow9_col4\" class=\"data row9 col4\" >1117.6</td>\n",
       "                        <td id=\"T_096940ac_cb84_11ea_bdbd_c809a8598abcrow9_col5\" class=\"data row9 col5\" >833.3</td>\n",
       "                        <td id=\"T_096940ac_cb84_11ea_bdbd_c809a8598abcrow9_col6\" class=\"data row9 col6\" >1266.3</td>\n",
       "                        <td id=\"T_096940ac_cb84_11ea_bdbd_c809a8598abcrow9_col7\" class=\"data row9 col7\" >1018.5</td>\n",
       "            </tr>\n",
       "            <tr>\n",
       "                        <th id=\"T_096940ac_cb84_11ea_bdbd_c809a8598abclevel0_row10\" class=\"row_heading level0 row10\" >Perdriel</th>\n",
       "                        <td id=\"T_096940ac_cb84_11ea_bdbd_c809a8598abcrow10_col0\" class=\"data row10 col0\" >1.0</td>\n",
       "                        <td id=\"T_096940ac_cb84_11ea_bdbd_c809a8598abcrow10_col1\" class=\"data row10 col1\" >nan</td>\n",
       "                        <td id=\"T_096940ac_cb84_11ea_bdbd_c809a8598abcrow10_col2\" class=\"data row10 col2\" >nan</td>\n",
       "                        <td id=\"T_096940ac_cb84_11ea_bdbd_c809a8598abcrow10_col3\" class=\"data row10 col3\" >1.0</td>\n",
       "                        <td id=\"T_096940ac_cb84_11ea_bdbd_c809a8598abcrow10_col4\" class=\"data row10 col4\" >1071.4</td>\n",
       "                        <td id=\"T_096940ac_cb84_11ea_bdbd_c809a8598abcrow10_col5\" class=\"data row10 col5\" >nan</td>\n",
       "                        <td id=\"T_096940ac_cb84_11ea_bdbd_c809a8598abcrow10_col6\" class=\"data row10 col6\" >nan</td>\n",
       "                        <td id=\"T_096940ac_cb84_11ea_bdbd_c809a8598abcrow10_col7\" class=\"data row10 col7\" >526.3</td>\n",
       "            </tr>\n",
       "            <tr>\n",
       "                        <th id=\"T_096940ac_cb84_11ea_bdbd_c809a8598abclevel0_row11\" class=\"row_heading level0 row11\" >Vistalba</th>\n",
       "                        <td id=\"T_096940ac_cb84_11ea_bdbd_c809a8598abcrow11_col0\" class=\"data row11 col0\" >3.0</td>\n",
       "                        <td id=\"T_096940ac_cb84_11ea_bdbd_c809a8598abcrow11_col1\" class=\"data row11 col1\" >3.0</td>\n",
       "                        <td id=\"T_096940ac_cb84_11ea_bdbd_c809a8598abcrow11_col2\" class=\"data row11 col2\" >1.0</td>\n",
       "                        <td id=\"T_096940ac_cb84_11ea_bdbd_c809a8598abcrow11_col3\" class=\"data row11 col3\" >29.0</td>\n",
       "                        <td id=\"T_096940ac_cb84_11ea_bdbd_c809a8598abcrow11_col4\" class=\"data row11 col4\" >693.4</td>\n",
       "                        <td id=\"T_096940ac_cb84_11ea_bdbd_c809a8598abcrow11_col5\" class=\"data row11 col5\" >795.8</td>\n",
       "                        <td id=\"T_096940ac_cb84_11ea_bdbd_c809a8598abcrow11_col6\" class=\"data row11 col6\" >1272.7</td>\n",
       "                        <td id=\"T_096940ac_cb84_11ea_bdbd_c809a8598abcrow11_col7\" class=\"data row11 col7\" >872.0</td>\n",
       "            </tr>\n",
       "    </tbody></table>"
      ],
      "text/plain": [
       "<pandas.io.formats.style.Styler at 0x7fe6335dbf98>"
      ]
     },
     "execution_count": 47,
     "metadata": {},
     "output_type": "execute_result"
    }
   ],
   "source": [
    "#district_landr = (df[df['currency']=='US$'].groupby([\"district\",\"land_range\"])\n",
    "#.agg({'squared_meter_amount':['mean'],'ref_id':['count']}))\n",
    "pd.pivot_table(df[df['currency']=='US$'],\n",
    "               values=['squared_meter_amount','ref_id'],\n",
    "               index='district',\n",
    "               columns='depto_range',\n",
    "               aggfunc={'squared_meter_amount':'mean',\n",
    "                        'ref_id':'count'}).style.format(\"{:.1f}\")"
   ]
  },
  {
   "cell_type": "markdown",
   "metadata": {},
   "source": [
    "### Removing outliers"
   ]
  },
  {
   "cell_type": "code",
   "execution_count": 54,
   "metadata": {},
   "outputs": [
    {
     "name": "stdout",
     "output_type": "stream",
     "text": [
      "dolarized with outliers 2347\n",
      "dolarized without outliers 2324\n"
     ]
    }
   ],
   "source": [
    "from scipy import stats\n",
    "dolarized = df[df['currency']=='US$']\n",
    "print(f\"dolarized with outliers {len(dolarized)}\")\n",
    "z_scores = stats.zscore(dolarized.amount)\n",
    "abs_z_scores = np.abs(z_scores)\n",
    "dolarized = dolarized[(abs_z_scores < 3)]\n",
    "\n",
    "z_scores = stats.zscore(dolarized.floorArea_fixed)\n",
    "abs_z_scores = np.abs(z_scores)\n",
    "dolarized = dolarized[(abs_z_scores < 3)]\n",
    "print(f\"dolarized without outliers {len(dolarized)}\")"
   ]
  },
  {
   "cell_type": "code",
   "execution_count": 55,
   "metadata": {},
   "outputs": [
    {
     "data": {
      "text/html": [
       "<style  type=\"text/css\" >\n",
       "</style><table id=\"T_45857b7a_cb8c_11ea_bdbd_c809a8598abc\" ><thead>    <tr>        <th class=\"blank level0\" ></th>        <th class=\"col_heading level0 col0\" colspan=4>ref_id</th>        <th class=\"col_heading level0 col4\" colspan=4>squared_meter_amount</th>    </tr>    <tr>        <th class=\"index_name level1\" >depto_range</th>        <th class=\"col_heading level1 col0\" >0.0</th>        <th class=\"col_heading level1 col1\" >100.0</th>        <th class=\"col_heading level1 col2\" >120.0</th>        <th class=\"col_heading level1 col3\" >240.0</th>        <th class=\"col_heading level1 col4\" >0.0</th>        <th class=\"col_heading level1 col5\" >100.0</th>        <th class=\"col_heading level1 col6\" >120.0</th>        <th class=\"col_heading level1 col7\" >240.0</th>    </tr>    <tr>        <th class=\"index_name level0\" >district</th>        <th class=\"blank\" ></th>        <th class=\"blank\" ></th>        <th class=\"blank\" ></th>        <th class=\"blank\" ></th>        <th class=\"blank\" ></th>        <th class=\"blank\" ></th>        <th class=\"blank\" ></th>        <th class=\"blank\" ></th>    </tr></thead><tbody>\n",
       "                <tr>\n",
       "                        <th id=\"T_45857b7a_cb8c_11ea_bdbd_c809a8598abclevel0_row0\" class=\"row_heading level0 row0\" >Capital</th>\n",
       "                        <td id=\"T_45857b7a_cb8c_11ea_bdbd_c809a8598abcrow0_col0\" class=\"data row0 col0\" >16.0</td>\n",
       "                        <td id=\"T_45857b7a_cb8c_11ea_bdbd_c809a8598abcrow0_col1\" class=\"data row0 col1\" >19.0</td>\n",
       "                        <td id=\"T_45857b7a_cb8c_11ea_bdbd_c809a8598abcrow0_col2\" class=\"data row0 col2\" >23.0</td>\n",
       "                        <td id=\"T_45857b7a_cb8c_11ea_bdbd_c809a8598abcrow0_col3\" class=\"data row0 col3\" >409.0</td>\n",
       "                        <td id=\"T_45857b7a_cb8c_11ea_bdbd_c809a8598abcrow0_col4\" class=\"data row0 col4\" >1071.9</td>\n",
       "                        <td id=\"T_45857b7a_cb8c_11ea_bdbd_c809a8598abcrow0_col5\" class=\"data row0 col5\" >1050.0</td>\n",
       "                        <td id=\"T_45857b7a_cb8c_11ea_bdbd_c809a8598abcrow0_col6\" class=\"data row0 col6\" >853.9</td>\n",
       "                        <td id=\"T_45857b7a_cb8c_11ea_bdbd_c809a8598abcrow0_col7\" class=\"data row0 col7\" >1021.4</td>\n",
       "            </tr>\n",
       "            <tr>\n",
       "                        <th id=\"T_45857b7a_cb8c_11ea_bdbd_c809a8598abclevel0_row1\" class=\"row_heading level0 row1\" >Carrodilla</th>\n",
       "                        <td id=\"T_45857b7a_cb8c_11ea_bdbd_c809a8598abcrow1_col0\" class=\"data row1 col0\" >7.0</td>\n",
       "                        <td id=\"T_45857b7a_cb8c_11ea_bdbd_c809a8598abcrow1_col1\" class=\"data row1 col1\" >4.0</td>\n",
       "                        <td id=\"T_45857b7a_cb8c_11ea_bdbd_c809a8598abcrow1_col2\" class=\"data row1 col2\" >2.0</td>\n",
       "                        <td id=\"T_45857b7a_cb8c_11ea_bdbd_c809a8598abcrow1_col3\" class=\"data row1 col3\" >43.0</td>\n",
       "                        <td id=\"T_45857b7a_cb8c_11ea_bdbd_c809a8598abcrow1_col4\" class=\"data row1 col4\" >966.0</td>\n",
       "                        <td id=\"T_45857b7a_cb8c_11ea_bdbd_c809a8598abcrow1_col5\" class=\"data row1 col5\" >924.0</td>\n",
       "                        <td id=\"T_45857b7a_cb8c_11ea_bdbd_c809a8598abcrow1_col6\" class=\"data row1 col6\" >917.0</td>\n",
       "                        <td id=\"T_45857b7a_cb8c_11ea_bdbd_c809a8598abcrow1_col7\" class=\"data row1 col7\" >921.5</td>\n",
       "            </tr>\n",
       "            <tr>\n",
       "                        <th id=\"T_45857b7a_cb8c_11ea_bdbd_c809a8598abclevel0_row2\" class=\"row_heading level0 row2\" >Chacras de Coria</th>\n",
       "                        <td id=\"T_45857b7a_cb8c_11ea_bdbd_c809a8598abcrow2_col0\" class=\"data row2 col0\" >2.0</td>\n",
       "                        <td id=\"T_45857b7a_cb8c_11ea_bdbd_c809a8598abcrow2_col1\" class=\"data row2 col1\" >10.0</td>\n",
       "                        <td id=\"T_45857b7a_cb8c_11ea_bdbd_c809a8598abcrow2_col2\" class=\"data row2 col2\" >3.0</td>\n",
       "                        <td id=\"T_45857b7a_cb8c_11ea_bdbd_c809a8598abcrow2_col3\" class=\"data row2 col3\" >217.0</td>\n",
       "                        <td id=\"T_45857b7a_cb8c_11ea_bdbd_c809a8598abcrow2_col4\" class=\"data row2 col4\" >1369.3</td>\n",
       "                        <td id=\"T_45857b7a_cb8c_11ea_bdbd_c809a8598abcrow2_col5\" class=\"data row2 col5\" >1170.4</td>\n",
       "                        <td id=\"T_45857b7a_cb8c_11ea_bdbd_c809a8598abcrow2_col6\" class=\"data row2 col6\" >1206.7</td>\n",
       "                        <td id=\"T_45857b7a_cb8c_11ea_bdbd_c809a8598abcrow2_col7\" class=\"data row2 col7\" >994.3</td>\n",
       "            </tr>\n",
       "            <tr>\n",
       "                        <th id=\"T_45857b7a_cb8c_11ea_bdbd_c809a8598abclevel0_row3\" class=\"row_heading level0 row3\" >Godoy Cruz</th>\n",
       "                        <td id=\"T_45857b7a_cb8c_11ea_bdbd_c809a8598abcrow3_col0\" class=\"data row3 col0\" >18.0</td>\n",
       "                        <td id=\"T_45857b7a_cb8c_11ea_bdbd_c809a8598abcrow3_col1\" class=\"data row3 col1\" >11.0</td>\n",
       "                        <td id=\"T_45857b7a_cb8c_11ea_bdbd_c809a8598abcrow3_col2\" class=\"data row3 col2\" >25.0</td>\n",
       "                        <td id=\"T_45857b7a_cb8c_11ea_bdbd_c809a8598abcrow3_col3\" class=\"data row3 col3\" >288.0</td>\n",
       "                        <td id=\"T_45857b7a_cb8c_11ea_bdbd_c809a8598abcrow3_col4\" class=\"data row3 col4\" >670.8</td>\n",
       "                        <td id=\"T_45857b7a_cb8c_11ea_bdbd_c809a8598abcrow3_col5\" class=\"data row3 col5\" >778.0</td>\n",
       "                        <td id=\"T_45857b7a_cb8c_11ea_bdbd_c809a8598abcrow3_col6\" class=\"data row3 col6\" >653.5</td>\n",
       "                        <td id=\"T_45857b7a_cb8c_11ea_bdbd_c809a8598abcrow3_col7\" class=\"data row3 col7\" >810.7</td>\n",
       "            </tr>\n",
       "            <tr>\n",
       "                        <th id=\"T_45857b7a_cb8c_11ea_bdbd_c809a8598abclevel0_row4\" class=\"row_heading level0 row4\" >Guaymallen</th>\n",
       "                        <td id=\"T_45857b7a_cb8c_11ea_bdbd_c809a8598abcrow4_col0\" class=\"data row4 col0\" >19.0</td>\n",
       "                        <td id=\"T_45857b7a_cb8c_11ea_bdbd_c809a8598abcrow4_col1\" class=\"data row4 col1\" >14.0</td>\n",
       "                        <td id=\"T_45857b7a_cb8c_11ea_bdbd_c809a8598abcrow4_col2\" class=\"data row4 col2\" >41.0</td>\n",
       "                        <td id=\"T_45857b7a_cb8c_11ea_bdbd_c809a8598abcrow4_col3\" class=\"data row4 col3\" >322.0</td>\n",
       "                        <td id=\"T_45857b7a_cb8c_11ea_bdbd_c809a8598abcrow4_col4\" class=\"data row4 col4\" >679.2</td>\n",
       "                        <td id=\"T_45857b7a_cb8c_11ea_bdbd_c809a8598abcrow4_col5\" class=\"data row4 col5\" >735.1</td>\n",
       "                        <td id=\"T_45857b7a_cb8c_11ea_bdbd_c809a8598abcrow4_col6\" class=\"data row4 col6\" >794.4</td>\n",
       "                        <td id=\"T_45857b7a_cb8c_11ea_bdbd_c809a8598abcrow4_col7\" class=\"data row4 col7\" >820.5</td>\n",
       "            </tr>\n",
       "            <tr>\n",
       "                        <th id=\"T_45857b7a_cb8c_11ea_bdbd_c809a8598abclevel0_row5\" class=\"row_heading level0 row5\" >La Puntilla</th>\n",
       "                        <td id=\"T_45857b7a_cb8c_11ea_bdbd_c809a8598abcrow5_col0\" class=\"data row5 col0\" >nan</td>\n",
       "                        <td id=\"T_45857b7a_cb8c_11ea_bdbd_c809a8598abcrow5_col1\" class=\"data row5 col1\" >2.0</td>\n",
       "                        <td id=\"T_45857b7a_cb8c_11ea_bdbd_c809a8598abcrow5_col2\" class=\"data row5 col2\" >nan</td>\n",
       "                        <td id=\"T_45857b7a_cb8c_11ea_bdbd_c809a8598abcrow5_col3\" class=\"data row5 col3\" >11.0</td>\n",
       "                        <td id=\"T_45857b7a_cb8c_11ea_bdbd_c809a8598abcrow5_col4\" class=\"data row5 col4\" >nan</td>\n",
       "                        <td id=\"T_45857b7a_cb8c_11ea_bdbd_c809a8598abcrow5_col5\" class=\"data row5 col5\" >812.5</td>\n",
       "                        <td id=\"T_45857b7a_cb8c_11ea_bdbd_c809a8598abcrow5_col6\" class=\"data row5 col6\" >nan</td>\n",
       "                        <td id=\"T_45857b7a_cb8c_11ea_bdbd_c809a8598abcrow5_col7\" class=\"data row5 col7\" >1044.5</td>\n",
       "            </tr>\n",
       "            <tr>\n",
       "                        <th id=\"T_45857b7a_cb8c_11ea_bdbd_c809a8598abclevel0_row6\" class=\"row_heading level0 row6\" >Las Heras</th>\n",
       "                        <td id=\"T_45857b7a_cb8c_11ea_bdbd_c809a8598abcrow6_col0\" class=\"data row6 col0\" >7.0</td>\n",
       "                        <td id=\"T_45857b7a_cb8c_11ea_bdbd_c809a8598abcrow6_col1\" class=\"data row6 col1\" >4.0</td>\n",
       "                        <td id=\"T_45857b7a_cb8c_11ea_bdbd_c809a8598abcrow6_col2\" class=\"data row6 col2\" >13.0</td>\n",
       "                        <td id=\"T_45857b7a_cb8c_11ea_bdbd_c809a8598abcrow6_col3\" class=\"data row6 col3\" >98.0</td>\n",
       "                        <td id=\"T_45857b7a_cb8c_11ea_bdbd_c809a8598abcrow6_col4\" class=\"data row6 col4\" >709.5</td>\n",
       "                        <td id=\"T_45857b7a_cb8c_11ea_bdbd_c809a8598abcrow6_col5\" class=\"data row6 col5\" >1010.4</td>\n",
       "                        <td id=\"T_45857b7a_cb8c_11ea_bdbd_c809a8598abcrow6_col6\" class=\"data row6 col6\" >590.5</td>\n",
       "                        <td id=\"T_45857b7a_cb8c_11ea_bdbd_c809a8598abcrow6_col7\" class=\"data row6 col7\" >771.0</td>\n",
       "            </tr>\n",
       "            <tr>\n",
       "                        <th id=\"T_45857b7a_cb8c_11ea_bdbd_c809a8598abclevel0_row7\" class=\"row_heading level0 row7\" >Lujan de Cuyo</th>\n",
       "                        <td id=\"T_45857b7a_cb8c_11ea_bdbd_c809a8598abcrow7_col0\" class=\"data row7 col0\" >25.0</td>\n",
       "                        <td id=\"T_45857b7a_cb8c_11ea_bdbd_c809a8598abcrow7_col1\" class=\"data row7 col1\" >22.0</td>\n",
       "                        <td id=\"T_45857b7a_cb8c_11ea_bdbd_c809a8598abcrow7_col2\" class=\"data row7 col2\" >26.0</td>\n",
       "                        <td id=\"T_45857b7a_cb8c_11ea_bdbd_c809a8598abcrow7_col3\" class=\"data row7 col3\" >287.0</td>\n",
       "                        <td id=\"T_45857b7a_cb8c_11ea_bdbd_c809a8598abcrow7_col4\" class=\"data row7 col4\" >898.1</td>\n",
       "                        <td id=\"T_45857b7a_cb8c_11ea_bdbd_c809a8598abcrow7_col5\" class=\"data row7 col5\" >987.5</td>\n",
       "                        <td id=\"T_45857b7a_cb8c_11ea_bdbd_c809a8598abcrow7_col6\" class=\"data row7 col6\" >946.8</td>\n",
       "                        <td id=\"T_45857b7a_cb8c_11ea_bdbd_c809a8598abcrow7_col7\" class=\"data row7 col7\" >959.0</td>\n",
       "            </tr>\n",
       "            <tr>\n",
       "                        <th id=\"T_45857b7a_cb8c_11ea_bdbd_c809a8598abclevel0_row8\" class=\"row_heading level0 row8\" >Maipu</th>\n",
       "                        <td id=\"T_45857b7a_cb8c_11ea_bdbd_c809a8598abcrow8_col0\" class=\"data row8 col0\" >28.0</td>\n",
       "                        <td id=\"T_45857b7a_cb8c_11ea_bdbd_c809a8598abcrow8_col1\" class=\"data row8 col1\" >14.0</td>\n",
       "                        <td id=\"T_45857b7a_cb8c_11ea_bdbd_c809a8598abcrow8_col2\" class=\"data row8 col2\" >11.0</td>\n",
       "                        <td id=\"T_45857b7a_cb8c_11ea_bdbd_c809a8598abcrow8_col3\" class=\"data row8 col3\" >200.0</td>\n",
       "                        <td id=\"T_45857b7a_cb8c_11ea_bdbd_c809a8598abcrow8_col4\" class=\"data row8 col4\" >932.2</td>\n",
       "                        <td id=\"T_45857b7a_cb8c_11ea_bdbd_c809a8598abcrow8_col5\" class=\"data row8 col5\" >1046.7</td>\n",
       "                        <td id=\"T_45857b7a_cb8c_11ea_bdbd_c809a8598abcrow8_col6\" class=\"data row8 col6\" >950.1</td>\n",
       "                        <td id=\"T_45857b7a_cb8c_11ea_bdbd_c809a8598abcrow8_col7\" class=\"data row8 col7\" >875.8</td>\n",
       "            </tr>\n",
       "            <tr>\n",
       "                        <th id=\"T_45857b7a_cb8c_11ea_bdbd_c809a8598abclevel0_row9\" class=\"row_heading level0 row9\" >Mayor Drummond</th>\n",
       "                        <td id=\"T_45857b7a_cb8c_11ea_bdbd_c809a8598abcrow9_col0\" class=\"data row9 col0\" >1.0</td>\n",
       "                        <td id=\"T_45857b7a_cb8c_11ea_bdbd_c809a8598abcrow9_col1\" class=\"data row9 col1\" >1.0</td>\n",
       "                        <td id=\"T_45857b7a_cb8c_11ea_bdbd_c809a8598abcrow9_col2\" class=\"data row9 col2\" >4.0</td>\n",
       "                        <td id=\"T_45857b7a_cb8c_11ea_bdbd_c809a8598abcrow9_col3\" class=\"data row9 col3\" >39.0</td>\n",
       "                        <td id=\"T_45857b7a_cb8c_11ea_bdbd_c809a8598abcrow9_col4\" class=\"data row9 col4\" >1117.6</td>\n",
       "                        <td id=\"T_45857b7a_cb8c_11ea_bdbd_c809a8598abcrow9_col5\" class=\"data row9 col5\" >833.3</td>\n",
       "                        <td id=\"T_45857b7a_cb8c_11ea_bdbd_c809a8598abcrow9_col6\" class=\"data row9 col6\" >1266.3</td>\n",
       "                        <td id=\"T_45857b7a_cb8c_11ea_bdbd_c809a8598abcrow9_col7\" class=\"data row9 col7\" >1018.5</td>\n",
       "            </tr>\n",
       "            <tr>\n",
       "                        <th id=\"T_45857b7a_cb8c_11ea_bdbd_c809a8598abclevel0_row10\" class=\"row_heading level0 row10\" >Perdriel</th>\n",
       "                        <td id=\"T_45857b7a_cb8c_11ea_bdbd_c809a8598abcrow10_col0\" class=\"data row10 col0\" >1.0</td>\n",
       "                        <td id=\"T_45857b7a_cb8c_11ea_bdbd_c809a8598abcrow10_col1\" class=\"data row10 col1\" >nan</td>\n",
       "                        <td id=\"T_45857b7a_cb8c_11ea_bdbd_c809a8598abcrow10_col2\" class=\"data row10 col2\" >nan</td>\n",
       "                        <td id=\"T_45857b7a_cb8c_11ea_bdbd_c809a8598abcrow10_col3\" class=\"data row10 col3\" >1.0</td>\n",
       "                        <td id=\"T_45857b7a_cb8c_11ea_bdbd_c809a8598abcrow10_col4\" class=\"data row10 col4\" >1071.4</td>\n",
       "                        <td id=\"T_45857b7a_cb8c_11ea_bdbd_c809a8598abcrow10_col5\" class=\"data row10 col5\" >nan</td>\n",
       "                        <td id=\"T_45857b7a_cb8c_11ea_bdbd_c809a8598abcrow10_col6\" class=\"data row10 col6\" >nan</td>\n",
       "                        <td id=\"T_45857b7a_cb8c_11ea_bdbd_c809a8598abcrow10_col7\" class=\"data row10 col7\" >526.3</td>\n",
       "            </tr>\n",
       "            <tr>\n",
       "                        <th id=\"T_45857b7a_cb8c_11ea_bdbd_c809a8598abclevel0_row11\" class=\"row_heading level0 row11\" >Vistalba</th>\n",
       "                        <td id=\"T_45857b7a_cb8c_11ea_bdbd_c809a8598abcrow11_col0\" class=\"data row11 col0\" >3.0</td>\n",
       "                        <td id=\"T_45857b7a_cb8c_11ea_bdbd_c809a8598abcrow11_col1\" class=\"data row11 col1\" >3.0</td>\n",
       "                        <td id=\"T_45857b7a_cb8c_11ea_bdbd_c809a8598abcrow11_col2\" class=\"data row11 col2\" >1.0</td>\n",
       "                        <td id=\"T_45857b7a_cb8c_11ea_bdbd_c809a8598abcrow11_col3\" class=\"data row11 col3\" >29.0</td>\n",
       "                        <td id=\"T_45857b7a_cb8c_11ea_bdbd_c809a8598abcrow11_col4\" class=\"data row11 col4\" >693.4</td>\n",
       "                        <td id=\"T_45857b7a_cb8c_11ea_bdbd_c809a8598abcrow11_col5\" class=\"data row11 col5\" >795.8</td>\n",
       "                        <td id=\"T_45857b7a_cb8c_11ea_bdbd_c809a8598abcrow11_col6\" class=\"data row11 col6\" >1272.7</td>\n",
       "                        <td id=\"T_45857b7a_cb8c_11ea_bdbd_c809a8598abcrow11_col7\" class=\"data row11 col7\" >872.0</td>\n",
       "            </tr>\n",
       "    </tbody></table>"
      ],
      "text/plain": [
       "<pandas.io.formats.style.Styler at 0x7fe63355b6d8>"
      ]
     },
     "execution_count": 55,
     "metadata": {},
     "output_type": "execute_result"
    }
   ],
   "source": [
    "pd.pivot_table(dolarized,\n",
    "               values=['squared_meter_amount','ref_id'],\n",
    "               index='district',\n",
    "               columns='depto_range',\n",
    "               aggfunc={'squared_meter_amount':'mean',\n",
    "                        'ref_id':'count'}).style.format(\"{:.1f}\")"
   ]
  },
  {
   "cell_type": "code",
   "execution_count": 72,
   "metadata": {},
   "outputs": [
    {
     "data": {
      "text/plain": [
       "array(['/11248-openhouse-negocios-inmobiliarios/inmuebles/2136/ficha/departamento-en-venta-en-panamericana-chacras-de-coria-complejo-del-oeste?btid=3419443',\n",
       "       '/46192-wonder/inmuebles/827/ficha/departamento-en-venta-en-cercanias-jumbo-chacras?btid=3419443'],\n",
       "      dtype=object)"
      ]
     },
     "execution_count": 72,
     "metadata": {},
     "output_type": "execute_result"
    }
   ],
   "source": [
    "df[np.logical_and(df.district=='Chacras de Coria',df.depto_range==0.0)].url.values"
   ]
  },
  {
   "cell_type": "code",
   "execution_count": 27,
   "metadata": {},
   "outputs": [
    {
     "ename": "AttributeError",
     "evalue": "'DataFrame' object has no attribute 'land_range'",
     "output_type": "error",
     "traceback": [
      "\u001b[0;31m---------------------------------------------------------------------------\u001b[0m",
      "\u001b[0;31mAttributeError\u001b[0m                            Traceback (most recent call last)",
      "\u001b[0;32m<ipython-input-27-8bcb04db050a>\u001b[0m in \u001b[0;36m<module>\u001b[0;34m\u001b[0m\n\u001b[1;32m      1\u001b[0m \u001b[0mlujan\u001b[0m \u001b[0;34m=\u001b[0m \u001b[0mdf\u001b[0m\u001b[0;34m[\u001b[0m\u001b[0mdf\u001b[0m\u001b[0;34m[\u001b[0m\u001b[0;34m'currency'\u001b[0m\u001b[0;34m]\u001b[0m\u001b[0;34m==\u001b[0m\u001b[0;34m'US$'\u001b[0m\u001b[0;34m]\u001b[0m\u001b[0;34m\u001b[0m\u001b[0;34m\u001b[0m\u001b[0m\n\u001b[0;32m----> 2\u001b[0;31m \u001b[0mlujan\u001b[0m \u001b[0;34m=\u001b[0m \u001b[0mlujan\u001b[0m\u001b[0;34m[\u001b[0m\u001b[0mlujan\u001b[0m\u001b[0;34m.\u001b[0m\u001b[0mland_range\u001b[0m\u001b[0;34m==\u001b[0m\u001b[0;36m1000\u001b[0m\u001b[0;34m]\u001b[0m\u001b[0;34m\u001b[0m\u001b[0;34m\u001b[0m\u001b[0m\n\u001b[0m\u001b[1;32m      3\u001b[0m \u001b[0mlujan\u001b[0m \u001b[0;34m=\u001b[0m \u001b[0mlujan\u001b[0m\u001b[0;34m[\u001b[0m\u001b[0mlujan\u001b[0m\u001b[0;34m[\u001b[0m\u001b[0;34m'district'\u001b[0m\u001b[0;34m]\u001b[0m\u001b[0;34m==\u001b[0m \u001b[0;34m'Chacras de Coria'\u001b[0m\u001b[0;34m]\u001b[0m\u001b[0;34m\u001b[0m\u001b[0;34m\u001b[0m\u001b[0m\n\u001b[1;32m      4\u001b[0m \u001b[0mlujan\u001b[0m\u001b[0;34m[\u001b[0m\u001b[0;34m[\u001b[0m\u001b[0;34m'price'\u001b[0m\u001b[0;34m,\u001b[0m\u001b[0;34m'amount'\u001b[0m\u001b[0;34m,\u001b[0m\u001b[0;34m'totalArea'\u001b[0m\u001b[0;34m,\u001b[0m\u001b[0;34m'totalArea_fixed'\u001b[0m\u001b[0;34m]\u001b[0m\u001b[0;34m]\u001b[0m\u001b[0;34m.\u001b[0m\u001b[0mhead\u001b[0m\u001b[0;34m(\u001b[0m\u001b[0;36m30\u001b[0m\u001b[0;34m)\u001b[0m\u001b[0;34m\u001b[0m\u001b[0;34m\u001b[0m\u001b[0m\n\u001b[1;32m      5\u001b[0m \u001b[0;31m#df[df.index==791].url.values\u001b[0m\u001b[0;34m\u001b[0m\u001b[0;34m\u001b[0m\u001b[0;34m\u001b[0m\u001b[0m\n",
      "\u001b[0;32m~/developments/amz-scrapper/venv/lib/python3.6/site-packages/pandas/core/generic.py\u001b[0m in \u001b[0;36m__getattr__\u001b[0;34m(self, name)\u001b[0m\n\u001b[1;32m   5272\u001b[0m             \u001b[0;32mif\u001b[0m \u001b[0mself\u001b[0m\u001b[0;34m.\u001b[0m\u001b[0m_info_axis\u001b[0m\u001b[0;34m.\u001b[0m\u001b[0m_can_hold_identifiers_and_holds_name\u001b[0m\u001b[0;34m(\u001b[0m\u001b[0mname\u001b[0m\u001b[0;34m)\u001b[0m\u001b[0;34m:\u001b[0m\u001b[0;34m\u001b[0m\u001b[0;34m\u001b[0m\u001b[0m\n\u001b[1;32m   5273\u001b[0m                 \u001b[0;32mreturn\u001b[0m \u001b[0mself\u001b[0m\u001b[0;34m[\u001b[0m\u001b[0mname\u001b[0m\u001b[0;34m]\u001b[0m\u001b[0;34m\u001b[0m\u001b[0;34m\u001b[0m\u001b[0m\n\u001b[0;32m-> 5274\u001b[0;31m             \u001b[0;32mreturn\u001b[0m \u001b[0mobject\u001b[0m\u001b[0;34m.\u001b[0m\u001b[0m__getattribute__\u001b[0m\u001b[0;34m(\u001b[0m\u001b[0mself\u001b[0m\u001b[0;34m,\u001b[0m \u001b[0mname\u001b[0m\u001b[0;34m)\u001b[0m\u001b[0;34m\u001b[0m\u001b[0;34m\u001b[0m\u001b[0m\n\u001b[0m\u001b[1;32m   5275\u001b[0m \u001b[0;34m\u001b[0m\u001b[0m\n\u001b[1;32m   5276\u001b[0m     \u001b[0;32mdef\u001b[0m \u001b[0m__setattr__\u001b[0m\u001b[0;34m(\u001b[0m\u001b[0mself\u001b[0m\u001b[0;34m,\u001b[0m \u001b[0mname\u001b[0m\u001b[0;34m:\u001b[0m \u001b[0mstr\u001b[0m\u001b[0;34m,\u001b[0m \u001b[0mvalue\u001b[0m\u001b[0;34m)\u001b[0m \u001b[0;34m->\u001b[0m \u001b[0;32mNone\u001b[0m\u001b[0;34m:\u001b[0m\u001b[0;34m\u001b[0m\u001b[0;34m\u001b[0m\u001b[0m\n",
      "\u001b[0;31mAttributeError\u001b[0m: 'DataFrame' object has no attribute 'land_range'"
     ]
    }
   ],
   "source": [
    "lujan = df[df['currency']=='US$']\n",
    "lujan = lujan[lujan.land_range==1000]\n",
    "lujan = lujan[lujan['district']== 'Chacras de Coria']\n",
    "lujan[['price','amount','totalArea','totalArea_fixed']].head(30)\n",
    "#df[df.index==791].url.values"
   ]
  },
  {
   "cell_type": "markdown",
   "metadata": {},
   "source": [
    "### Abierto por departamentos"
   ]
  },
  {
   "cell_type": "code",
   "execution_count": 40,
   "metadata": {},
   "outputs": [
    {
     "data": {
      "image/png": "[encoded data removed]",
      "text/plain": [
       "<Figure size 1080x576 with 1 Axes>"
      ]
     },
     "metadata": {
      "needs_background": "light"
     },
     "output_type": "display_data"
    }
   ],
   "source": [
    "plt.figure(figsize=(15,8))\n",
    "g = sns.boxplot(x=dolarized[dolarized.currency=='US$']['district'], y=df['amount'])\n",
    "g.set_xticklabels(g.get_xticklabels(),rotation=70)\n",
    "plt.show()"
   ]
  },
  {
   "cell_type": "code",
   "execution_count": 77,
   "metadata": {},
   "outputs": [
    {
     "data": {
      "text/plain": [
       "<matplotlib.axes._subplots.AxesSubplot at 0x7fd638a42ac8>"
      ]
     },
     "execution_count": 77,
     "metadata": {},
     "output_type": "execute_result"
    },
    {
     "data": {
      "image/png": "[encoded data removed]",
      "text/plain": [
       "<Figure size 432x288 with 1 Axes>"
      ]
     },
     "metadata": {
      "needs_background": "light"
     },
     "output_type": "display_data"
    }
   ],
   "source": [
    "df[df.currency=='US$'].amount.hist(bins=100)"
   ]
  },
  {
   "cell_type": "code",
   "execution_count": 78,
   "metadata": {},
   "outputs": [
    {
     "data": {
      "text/plain": [
       "13      Gold Group Argentina® Vende!!\\nMagníficos lote...\n",
       "16      Gold Group Argentina® Vende!\\nExcelentes lotes...\n",
       "59      GOLD GROUP !!! VENDE !!! \\nHermoso lote comple...\n",
       "60      GOLD GROUP ARGENTINA® VENDE!!\\nFantásticos y e...\n",
       "61      GOLD GROUP ARGENTINA® VENDE!!\\n\\nLotes desde 4...\n",
       "                              ...                        \n",
       "1847    GOLD GROUP VENDE! LOTE EN \"LOTEO AMPA\" \\nEL MI...\n",
       "1898    EXCELENTE TERRENO EN GODOY CRUZ IDEAL PARA DES...\n",
       "1899    GOLD GROUP ARGENTINA® VENDE!\\nCalle Colombia y...\n",
       "1948    LOTE EN BARRIO PRIVADO PALMARES VALLEY\\nLAS JA...\n",
       "2030    GOLD GROUP vende 8 selectos lotes en este excl...\n",
       "Name: description, Length: 81, dtype: object"
      ]
     },
     "execution_count": 78,
     "metadata": {},
     "output_type": "execute_result"
    }
   ],
   "source": [
    "import numpy as np\n",
    "#df[np.logical_and(df['amount']<30000,df['amount']>0)].sort_values(by='amount')\n",
    "df[df.description.str.contains(\"2018\")].description"
   ]
  },
  {
   "cell_type": "code",
   "execution_count": 79,
   "metadata": {},
   "outputs": [
    {
     "data": {
      "text/plain": [
       "'[]'"
      ]
     },
     "execution_count": 79,
     "metadata": {},
     "output_type": "execute_result"
    }
   ],
   "source": [
    "str(df[df.index==3175].url.values)"
   ]
  },
  {
   "cell_type": "code",
   "execution_count": 41,
   "metadata": {},
   "outputs": [
    {
     "data": {
      "text/plain": [
       "<matplotlib.axes._subplots.AxesSubplot at 0x7f33b55b3828>"
      ]
     },
     "execution_count": 41,
     "metadata": {},
     "output_type": "execute_result"
    },
    {
     "data": {
      "image/png": "[encoded data removed]",
      "text/plain": [
       "<Figure size 1080x360 with 1 Axes>"
      ]
     },
     "metadata": {
      "needs_background": "light"
     },
     "output_type": "display_data"
    }
   ],
   "source": [
    "dolarized.groupby('district').count().plot.bar(y='ref_id',figsize=(15,5))"
   ]
  },
  {
   "cell_type": "code",
   "execution_count": null,
   "metadata": {},
   "outputs": [],
   "source": []
  },
  {
   "cell_type": "code",
   "execution_count": null,
   "metadata": {},
   "outputs": [],
   "source": []
  },
  {
   "cell_type": "code",
   "execution_count": 33,
   "metadata": {},
   "outputs": [],
   "source": [
    "dfdol = df[df.currency=='US$'].reset_index(drop=True)\n",
    "dfdol['r_10'] = round(dfdol.recent_id/100)\n",
    "h = dfdol.groupby('r_10').mean()\n",
    "#pd.pivot_table(h,values,index='r_10',columns,aggfunc)"
   ]
  },
  {
   "cell_type": "code",
   "execution_count": 34,
   "metadata": {},
   "outputs": [
    {
     "data": {
      "text/plain": [
       "<matplotlib.axes._subplots.AxesSubplot at 0x7f9b21008160>"
      ]
     },
     "execution_count": 34,
     "metadata": {},
     "output_type": "execute_result"
    },
    {
     "data": {
      "image/png": "[encoded data removed]",
      "text/plain": [
       "<Figure size 1440x576 with 1 Axes>"
      ]
     },
     "metadata": {
      "needs_background": "light"
     },
     "output_type": "display_data"
    }
   ],
   "source": [
    "plt.figure(figsize=(20,8))\n",
    "h.index = h.index.astype(int)\n",
    "h['amount'].plot.bar()"
   ]
  },
  {
   "cell_type": "code",
   "execution_count": 42,
   "metadata": {},
   "outputs": [
    {
     "data": {
      "text/plain": [
       "<matplotlib.axes._subplots.AxesSubplot at 0x7f9b208d7b70>"
      ]
     },
     "execution_count": 42,
     "metadata": {},
     "output_type": "execute_result"
    },
    {
     "data": {
      "image/png": "[encoded data removed]",
      "text/plain": [
       "<Figure size 432x288 with 1 Axes>"
      ]
     },
     "metadata": {
      "needs_background": "light"
     },
     "output_type": "display_data"
    }
   ],
   "source": [
    "dfdol.plot.scatter(x='district',y='r_10',rot=90)"
   ]
  },
  {
   "cell_type": "code",
   "execution_count": 46,
   "metadata": {},
   "outputs": [
    {
     "data": {
      "text/plain": [
       "<matplotlib.axes._subplots.AxesSubplot at 0x7f9b206bce48>"
      ]
     },
     "execution_count": 46,
     "metadata": {},
     "output_type": "execute_result"
    },
    {
     "data": {
      "image/png": "[encoded data removed]",
      "text/plain": [
       "<Figure size 432x288 with 1 Axes>"
      ]
     },
     "metadata": {
      "needs_background": "light"
     },
     "output_type": "display_data"
    }
   ],
   "source": [
    "dfdol[dfdol.district=='Lujan de Cuyo'].plot.scatter(x='r_10',y='amount',rot=90)"
   ]
  },
  {
   "cell_type": "code",
   "execution_count": 68,
   "metadata": {},
   "outputs": [
    {
     "data": {
      "text/plain": [
       "['https://www.inmoclick.com.ar/71779-greenwood/inmuebles/82/ficha/casa-en-venta-en-acceso-este-y-arturo-gonzalez?btid=2465480',\n",
       " 'https://www.inmoclick.com.ar/71779-greenwood/inmuebles/84/ficha/casa-en-venta-en-juan-agustin-maza-y-azcuenaga?btid=2465480',\n",
       " 'https://www.inmoclick.com.ar/17636-gold-group-argentina/inmuebles/1479/ficha/casa-en-venta-en-b0-privado-bucci-bandera-de-los-andes-y-rosario?btid=2465480',\n",
       " 'https://www.inmoclick.com.ar/17636-gold-group-argentina/inmuebles/1500/ficha/casa-en-venta-en-laguna-horcones-1054-barrio-fuchs?btid=2465480',\n",
       " 'https://www.inmoclick.com.ar/17636-gold-group-argentina/inmuebles/1508/ficha/casa-en-venta-en-vicente-gil-539?btid=2465480',\n",
       " 'https://www.inmoclick.com.ar/17636-gold-group-argentina/inmuebles/1515/ficha/casa-en-venta-en-rufino-ortega-y-martinez-de-rozas?btid=2465480',\n",
       " 'https://www.inmoclick.com.ar/17636-gold-group-argentina/inmuebles/1518/ficha/casa-en-venta-en-p-benegas-691?btid=2465480',\n",
       " 'https://www.inmoclick.com.ar/17636-gold-group-argentina/inmuebles/1535/ficha/casa-en-venta-en-25-de-mayo-1668?btid=2465480',\n",
       " 'https://www.inmoclick.com.ar/17636-gold-group-argentina/inmuebles/1548/ficha/casa-en-venta-en-santo-tomas-2244?btid=2465480',\n",
       " 'https://www.inmoclick.com.ar/17636-gold-group-argentina/inmuebles/1550/ficha/casa-en-venta-en-tierra-del-fuego-8321-b0-epa?btid=2465480',\n",
       " 'https://www.inmoclick.com.ar/17636-gold-group-argentina/inmuebles/1565/ficha/casa-en-venta-en-rincon-de-drummond-av-san-martin-2299-lujan-de-cuyo?btid=2465480',\n",
       " 'https://www.inmoclick.com.ar/17636-gold-group-argentina/inmuebles/1574/ficha/casa-en-venta-en-b0-parque-santa-elena-c0-aconcagua-2602?btid=2465480',\n",
       " 'https://www.inmoclick.com.ar/17636-gold-group-argentina/inmuebles/1581/ficha/casa-en-venta-en-callejon-gutierrez-chacras?btid=2465480',\n",
       " 'https://www.inmoclick.com.ar/17636-gold-group-argentina/inmuebles/1588/ficha/casa-en-venta-en-pio-ara-831-villa-25-de-mayo?btid=2465480',\n",
       " 'https://www.inmoclick.com.ar/17636-gold-group-argentina/inmuebles/1604/ficha/casa-en-venta-en-coronel-moldes-y-francisco-alvarez?btid=2465480',\n",
       " 'https://www.inmoclick.com.ar/17636-gold-group-argentina/inmuebles/1622/ficha/casa-en-venta-en-calle-provincia-de-misiones-sexta-seccion?btid=2465480',\n",
       " 'https://www.inmoclick.com.ar/17636-gold-group-argentina/inmuebles/1627/ficha/casa-en-venta-en-los-carolinos-malabia-y-san-martin?btid=2465480',\n",
       " 'https://www.inmoclick.com.ar/17636-gold-group-argentina/inmuebles/1628/ficha/casa-en-venta-en-las-moreras-y-bombal-barrio-cementista-residencial?btid=2465480',\n",
       " 'https://www.inmoclick.com.ar/17636-gold-group-argentina/inmuebles/1630/ficha/casa-en-venta-en-predio-privado-balbino-barrio-de-campo?btid=2465480']"
      ]
     },
     "execution_count": 68,
     "metadata": {},
     "output_type": "execute_result"
    }
   ],
   "source": [
    "import numpy as np\n",
    "pd.set_option('display.max_columns', 30)\n",
    "list(dfdol[dfdol['r_20']==3].url)"
   ]
  },
  {
   "cell_type": "code",
   "execution_count": 175,
   "metadata": {},
   "outputs": [],
   "source": [
    "df2 = df[df['totalArea']!='disable']\n",
    "df2.totalArea = df2.totalArea.str.replace('mts2','').str.replace('m2','').str.replace('m','')\n",
    "df2.totalArea = df2.totalArea.str.strip()\n",
    "df2 = df2[~df2['totalArea'].str.contains('2.852.61')]\n",
    "df2.totalArea = df2['totalArea'].str.replace(',','.')"
   ]
  },
  {
   "cell_type": "code",
   "execution_count": 176,
   "metadata": {},
   "outputs": [],
   "source": [
    "df2.totalArea = df2.totalArea.astype(float)"
   ]
  },
  {
   "cell_type": "code",
   "execution_count": 177,
   "metadata": {},
   "outputs": [
    {
     "data": {
      "text/plain": [
       "295     301,24m2\n",
       "1142     57,78m2\n",
       "1144     80,00m2\n",
       "1204    411,00m2\n",
       "1427    69,10 m2\n",
       "1475    65,83 m2\n",
       "1484       334,3\n",
       "1675       97,15\n",
       "1759    453,85m2\n",
       "1760    258,32m2\n",
       "1800      135,53\n",
       "2006      170,47\n",
       "2083    221,50m2\n",
       "3038       483,6\n",
       "3074      299,35\n",
       "3089    313,58m2\n",
       "Name: floorArea, dtype: object"
      ]
     },
     "execution_count": 177,
     "metadata": {},
     "output_type": "execute_result"
    }
   ],
   "source": [
    "df2.floorArea[df2.floorArea.str.contains('\\,')]"
   ]
  },
  {
   "cell_type": "code",
   "execution_count": 178,
   "metadata": {},
   "outputs": [],
   "source": [
    "df2 = df2[df2['floorArea']!='disable']\n",
    "df2 = df2[df2['floorArea']!='140/60']\n",
    "df2.floorArea = (df2.floorArea.str.replace('mts2','')\n",
    "                             .str.replace('m2','')\n",
    "                             .str.replace('m','')\n",
    "                             .str.replace('aprox.con cocher','')\n",
    "                             .str.replace('aprox.','')\n",
    "                             .str.replace(',',''))\n",
    "df2.floorArea = df2.floorArea.astype(float)"
   ]
  },
  {
   "cell_type": "code",
   "execution_count": 179,
   "metadata": {},
   "outputs": [],
   "source": [
    "df2.loc[df2['totalArea'] >= 4000,'totalArea']=4000"
   ]
  },
  {
   "cell_type": "code",
   "execution_count": 205,
   "metadata": {},
   "outputs": [],
   "source": [
    "chacras = df2[np.logical_and(df2['district']=='Chacras de Coria',df2.currency=='US$')]"
   ]
  },
  {
   "cell_type": "code",
   "execution_count": null,
   "metadata": {},
   "outputs": [],
   "source": []
  },
  {
   "cell_type": "code",
   "execution_count": 232,
   "metadata": {},
   "outputs": [
    {
     "data": {
      "image/png": "[encoded data removed]",
      "text/plain": [
       "<Figure size 432x288 with 1 Axes>"
      ]
     },
     "metadata": {
      "needs_background": "light"
     },
     "output_type": "display_data"
    }
   ],
   "source": [
    "import seaborn as sns\n",
    "g = sns.distplot(chacras.totalArea,bins=20,kde=False)\n",
    "g.grid()"
   ]
  },
  {
   "cell_type": "code",
   "execution_count": 208,
   "metadata": {},
   "outputs": [
    {
     "data": {
      "text/plain": [
       "<matplotlib.axes._subplots.AxesSubplot at 0x7f9b1bb683c8>"
      ]
     },
     "execution_count": 208,
     "metadata": {},
     "output_type": "execute_result"
    },
    {
     "data": {
      "image/png": "[encoded data removed]",
      "text/plain": [
       "<Figure size 432x288 with 1 Axes>"
      ]
     },
     "metadata": {
      "needs_background": "light"
     },
     "output_type": "display_data"
    }
   ],
   "source": [
    "sns.scatterplot(x=\"totalArea\", y=\"amount\", data=chacras)"
   ]
  },
  {
   "cell_type": "code",
   "execution_count": 230,
   "metadata": {},
   "outputs": [
    {
     "name": "stderr",
     "output_type": "stream",
     "text": [
      "/home/chanchus/developments/amz-scrapper/venv/lib/python3.6/site-packages/ipykernel_launcher.py:1: SettingWithCopyWarning: \n",
      "A value is trying to be set on a copy of a slice from a DataFrame.\n",
      "Try using .loc[row_indexer,col_indexer] = value instead\n",
      "\n",
      "See the caveats in the documentation: https://pandas.pydata.org/pandas-docs/stable/user_guide/indexing.html#returning-a-view-versus-a-copy\n",
      "  \"\"\"Entry point for launching an IPython kernel.\n"
     ]
    }
   ],
   "source": [
    "chacras['amountr'] = pd.qcut(chacras.amount,5)"
   ]
  },
  {
   "cell_type": "code",
   "execution_count": 231,
   "metadata": {},
   "outputs": [
    {
     "data": {
      "text/plain": [
       "<matplotlib.axes._subplots.AxesSubplot at 0x7f9b1c6c6f60>"
      ]
     },
     "execution_count": 231,
     "metadata": {},
     "output_type": "execute_result"
    },
    {
     "data": {
      "image/png": "[encoded data removed]",
      "text/plain": [
       "<Figure size 432x288 with 1 Axes>"
      ]
     },
     "metadata": {
      "needs_background": "light"
     },
     "output_type": "display_data"
    }
   ],
   "source": [
    "sns.scatterplot(x=\"floorArea\", y=\"totalArea\",hue=\"amountr\", size=\"amountr\", data=chacras)"
   ]
  },
  {
   "cell_type": "code",
   "execution_count": 217,
   "metadata": {},
   "outputs": [
    {
     "data": {
      "text/plain": [
       "<matplotlib.axes._subplots.AxesSubplot at 0x7f9b1b85e048>"
      ]
     },
     "execution_count": 217,
     "metadata": {},
     "output_type": "execute_result"
    },
    {
     "data": {
      "image/png": "[encoded data removed]",
      "text/plain": [
       "<Figure size 432x288 with 1 Axes>"
      ]
     },
     "metadata": {
      "needs_background": "light"
     },
     "output_type": "display_data"
    }
   ],
   "source": [
    "chacras.amount.hist(bins=8)"
   ]
  },
  {
   "cell_type": "code",
   "execution_count": 2,
   "metadata": {},
   "outputs": [],
   "source": [
    "import pandas as pd"
   ]
  },
  {
   "cell_type": "code",
   "execution_count": 5,
   "metadata": {},
   "outputs": [
    {
     "data": {
      "text/html": [
       "<div>\n",
       "<style scoped>\n",
       "    .dataframe tbody tr th:only-of-type {\n",
       "        vertical-align: middle;\n",
       "    }\n",
       "\n",
       "    .dataframe tbody tr th {\n",
       "        vertical-align: top;\n",
       "    }\n",
       "\n",
       "    .dataframe thead th {\n",
       "        text-align: right;\n",
       "    }\n",
       "</style>\n",
       "<table border=\"1\" class=\"dataframe\">\n",
       "  <thead>\n",
       "    <tr style=\"text-align: right;\">\n",
       "      <th></th>\n",
       "      <th>B</th>\n",
       "      <th>C</th>\n",
       "      <th>D</th>\n",
       "    </tr>\n",
       "    <tr>\n",
       "      <th>Airport</th>\n",
       "      <th></th>\n",
       "      <th></th>\n",
       "      <th></th>\n",
       "    </tr>\n",
       "  </thead>\n",
       "  <tbody>\n",
       "    <tr>\n",
       "      <th>Buenos Aires</th>\n",
       "      <td>21</td>\n",
       "      <td>38</td>\n",
       "      <td>36</td>\n",
       "    </tr>\n",
       "    <tr>\n",
       "      <th>Atlanta</th>\n",
       "      <td>54</td>\n",
       "      <td>88</td>\n",
       "      <td>80</td>\n",
       "    </tr>\n",
       "    <tr>\n",
       "      <th>Brasil</th>\n",
       "      <td>44</td>\n",
       "      <td>53</td>\n",
       "      <td>53</td>\n",
       "    </tr>\n",
       "    <tr>\n",
       "      <th>Madrid</th>\n",
       "      <td>24</td>\n",
       "      <td>58</td>\n",
       "      <td>29</td>\n",
       "    </tr>\n",
       "  </tbody>\n",
       "</table>\n",
       "</div>"
      ],
      "text/plain": [
       "               B   C   D\n",
       "Airport                 \n",
       "Buenos Aires  21  38  36\n",
       "Atlanta       54  88  80\n",
       "Brasil        44  53  53\n",
       "Madrid        24  58  29"
      ]
     },
     "execution_count": 5,
     "metadata": {},
     "output_type": "execute_result"
    }
   ],
   "source": [
    "df1 = pd.DataFrame([['Buenos Aires',63,16,89,55],\n",
    "\t\t\t\t['Atlanta',17,29,81,17],\n",
    "\t\t\t\t['Brasil',88,82,9, 64]])\n",
    "df1.columns=['Airport','A','B','C','D']\n",
    "df1 = df1.set_index('Airport')\n",
    "\n",
    "df2 = pd.DataFrame([['Buenos Aires',21,38,36],\n",
    "\t\t['Atlanta',54,88,80],\n",
    "\t\t['Brasil',44,53,53],\n",
    "\t\t['Madrid',24,58,29]])\n",
    "df2.columns=['Airport','B','C','D']\n",
    "df2 = df2.set_index('Airport')\n"
   ]
  },
  {
   "cell_type": "code",
   "execution_count": 6,
   "metadata": {},
   "outputs": [
    {
     "data": {
      "text/html": [
       "<div>\n",
       "<style scoped>\n",
       "    .dataframe tbody tr th:only-of-type {\n",
       "        vertical-align: middle;\n",
       "    }\n",
       "\n",
       "    .dataframe tbody tr th {\n",
       "        vertical-align: top;\n",
       "    }\n",
       "\n",
       "    .dataframe thead th {\n",
       "        text-align: right;\n",
       "    }\n",
       "</style>\n",
       "<table border=\"1\" class=\"dataframe\">\n",
       "  <thead>\n",
       "    <tr style=\"text-align: right;\">\n",
       "      <th></th>\n",
       "      <th>A</th>\n",
       "      <th>B_x</th>\n",
       "      <th>C_x</th>\n",
       "      <th>D_x</th>\n",
       "      <th>B_y</th>\n",
       "      <th>C_y</th>\n",
       "      <th>D_y</th>\n",
       "    </tr>\n",
       "    <tr>\n",
       "      <th>Airport</th>\n",
       "      <th></th>\n",
       "      <th></th>\n",
       "      <th></th>\n",
       "      <th></th>\n",
       "      <th></th>\n",
       "      <th></th>\n",
       "      <th></th>\n",
       "    </tr>\n",
       "  </thead>\n",
       "  <tbody>\n",
       "    <tr>\n",
       "      <th>Buenos Aires</th>\n",
       "      <td>63</td>\n",
       "      <td>16</td>\n",
       "      <td>89</td>\n",
       "      <td>55</td>\n",
       "      <td>21</td>\n",
       "      <td>38</td>\n",
       "      <td>36</td>\n",
       "    </tr>\n",
       "    <tr>\n",
       "      <th>Atlanta</th>\n",
       "      <td>17</td>\n",
       "      <td>29</td>\n",
       "      <td>81</td>\n",
       "      <td>17</td>\n",
       "      <td>54</td>\n",
       "      <td>88</td>\n",
       "      <td>80</td>\n",
       "    </tr>\n",
       "    <tr>\n",
       "      <th>Brasil</th>\n",
       "      <td>88</td>\n",
       "      <td>82</td>\n",
       "      <td>9</td>\n",
       "      <td>64</td>\n",
       "      <td>44</td>\n",
       "      <td>53</td>\n",
       "      <td>53</td>\n",
       "    </tr>\n",
       "  </tbody>\n",
       "</table>\n",
       "</div>"
      ],
      "text/plain": [
       "               A  B_x  C_x  D_x  B_y  C_y  D_y\n",
       "Airport                                       \n",
       "Buenos Aires  63   16   89   55   21   38   36\n",
       "Atlanta       17   29   81   17   54   88   80\n",
       "Brasil        88   82    9   64   44   53   53"
      ]
     },
     "execution_count": 6,
     "metadata": {},
     "output_type": "execute_result"
    }
   ],
   "source": [
    "df1.merge(df2, left_index=True,right_index=True)"
   ]
  },
  {
   "cell_type": "code",
   "execution_count": null,
   "metadata": {},
   "outputs": [],
   "source": []
  }
 ],
 "metadata": {
  "kernelspec": {
   "display_name": "Python 3",
   "language": "python",
   "name": "python3"
  },
  "language_info": {
   "codemirror_mode": {
    "name": "ipython",
    "version": 3
   },
   "file_extension": ".py",
   "mimetype": "text/x-python",
   "name": "python",
   "nbconvert_exporter": "python",
   "pygments_lexer": "ipython3",
   "version": "3.6.9"
  }
 },
 "nbformat": 4,
 "nbformat_minor": 4
}
