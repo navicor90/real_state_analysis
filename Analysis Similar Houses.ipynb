{
 "cells": [
  {
   "cell_type": "markdown",
   "metadata": {},
   "source": [
    "\n",
    "## About this project"
   ]
  },
  {
   "cell_type": "code",
   "execution_count": 2,
   "metadata": {},
   "outputs": [],
   "source": [
    "%load_ext autoreload\n",
    "%autoreload 2"
   ]
  },
  {
   "cell_type": "code",
   "execution_count": 35,
   "metadata": {},
   "outputs": [],
   "source": [
    "from selenium import webdriver\n",
    "import pandas as pd\n",
    "import time\n",
    "import random\n",
    "import sys\n",
    "import os\n",
    "import numpy as np\n",
    "import seaborn as sns\n",
    "import matplotlib.pyplot as plt\n",
    "\n",
    "sys.path.append(os.path.abspath('../'))\n",
    "from inmoclick_clean_utils import (fix_clean_total_area,\n",
    "                                  fix_clean_floor_area,\n",
    "                                  str_serie_to_vector,\n",
    "                                  vectors_sparse_similarity,\n",
    "                                  are_similar_properties)"
   ]
  },
  {
   "cell_type": "markdown",
   "metadata": {},
   "source": [
    "# 1.0- Loading Data"
   ]
  },
  {
   "cell_type": "code",
   "execution_count": 9,
   "metadata": {},
   "outputs": [],
   "source": [
    "import seaborn as sns\n",
    "from matplotlib import pyplot as plt\n",
    "houses = pd.read_csv(\"dataframe_house.csv\")\n",
    "apartments = pd.read_csv(\"dataframe_apartment.csv\")\n",
    "lands = pd.read_csv(\"dataframe_land.csv\")"
   ]
  },
  {
   "cell_type": "code",
   "execution_count": 10,
   "metadata": {
    "scrolled": true
   },
   "outputs": [
    {
     "data": {
      "text/plain": [
       "array(['/52708-remax-chacras/inmuebles/564/ficha/casa-en-venta-en-los-peralitos?btid=3419445',\n",
       "       '/52708-remax-chacras/inmuebles/574/ficha/casa-en-venta-en-barrio-parque-drummond?btid=3419445',\n",
       "       '/17515-remax-solutions/inmuebles/1805/ficha/casa-en-venta-en-gobernador-ortiz?btid=3419445'],\n",
       "      dtype=object)"
      ]
     },
     "execution_count": 10,
     "metadata": {},
     "output_type": "execute_result"
    }
   ],
   "source": [
    "fil = houses[houses.district==\"Lujan de Cuyo\"]\n",
    "fil = fil[fil.bedrooms=='3']\n",
    "fil = fil[fil.totalArea=='disable']\n",
    "fil = fil[fil.bathrooms=='2']\n",
    "fil.url[:3].values"
   ]
  },
  {
   "cell_type": "markdown",
   "metadata": {},
   "source": [
    "## 2- Getting duplicated houses"
   ]
  },
  {
   "cell_type": "markdown",
   "metadata": {},
   "source": [
    "### 2.1- Cleaning and filtering data"
   ]
  },
  {
   "cell_type": "code",
   "execution_count": 11,
   "metadata": {},
   "outputs": [
    {
     "name": "stdout",
     "output_type": "stream",
     "text": [
      "Quantity before cleaning: 3456\n",
      "Quantity after cleaning: 3065\n"
     ]
    }
   ],
   "source": [
    "print(f'Quantity before cleaning: {len(houses)}')\n",
    "houses = fix_clean_total_area(houses)\n",
    "houses = fix_clean_floor_area(houses)\n",
    "print(f'Quantity after cleaning: {len(houses)}')"
   ]
  },
  {
   "cell_type": "markdown",
   "metadata": {},
   "source": [
    "### 2.2- Looking for similar neighborhoods"
   ]
  },
  {
   "cell_type": "code",
   "execution_count": 22,
   "metadata": {},
   "outputs": [
    {
     "name": "stdout",
     "output_type": "stream",
     "text": [
      "Positive neighborhoods comparisons(similarity upper to 0.5): 50517 of 9394225\n"
     ]
    }
   ],
   "source": [
    "vectorized_neighborhoods = str_serie_to_vector(houses.neighborhood)\n",
    "neighborhoods_similarity = vectors_sparse_similarity(vectorized_neighborhoods, vectorized_neighborhoods)\n",
    "similarity_threshold =  0.5\n",
    "idx,jdx = np.where(neighborhoods_similarity >= similarity_threshold)\n",
    "total_comparisons = neighborhoods_similarity.shape[0]*neighborhoods_similarity.shape[1]\n",
    "print(f'Positive neighborhoods comparisons(similarity upper to {similarity_threshold}): {len(idx)} of {total_comparisons}')"
   ]
  },
  {
   "cell_type": "markdown",
   "metadata": {},
   "source": [
    "### 2.3- Looking for similar properties"
   ]
  },
  {
   "cell_type": "code",
   "execution_count": 36,
   "metadata": {},
   "outputs": [
    {
     "name": "stdout",
     "output_type": "stream",
     "text": [
      "Quantity of houses with similarities: 282\n"
     ]
    },
    {
     "data": {
      "text/html": [
       "<div>\n",
       "<style scoped>\n",
       "    .dataframe tbody tr th:only-of-type {\n",
       "        vertical-align: middle;\n",
       "    }\n",
       "\n",
       "    .dataframe tbody tr th {\n",
       "        vertical-align: top;\n",
       "    }\n",
       "\n",
       "    .dataframe thead th {\n",
       "        text-align: right;\n",
       "    }\n",
       "</style>\n",
       "<table border=\"1\" class=\"dataframe\">\n",
       "  <thead>\n",
       "    <tr style=\"text-align: right;\">\n",
       "      <th></th>\n",
       "      <th>ref_id1</th>\n",
       "      <th>url1</th>\n",
       "      <th>ref_id2</th>\n",
       "      <th>url2</th>\n",
       "      <th>cosine_sim</th>\n",
       "    </tr>\n",
       "  </thead>\n",
       "  <tbody>\n",
       "    <tr>\n",
       "      <th>0</th>\n",
       "      <td>inmueble-2233-336</td>\n",
       "      <td>/2233-fernandez-aubone/inmuebles/336/ficha/cas...</td>\n",
       "      <td>inmueble-438-3139</td>\n",
       "      <td>/438-de-lucia/inmuebles/3139/ficha/casa-en-ven...</td>\n",
       "      <td>0.834395</td>\n",
       "    </tr>\n",
       "    <tr>\n",
       "      <th>1</th>\n",
       "      <td>inmueble-2233-336</td>\n",
       "      <td>/2233-fernandez-aubone/inmuebles/336/ficha/cas...</td>\n",
       "      <td>inmueble-1488-250</td>\n",
       "      <td>/1488-fabuel-y-asociados/inmuebles/250/ficha/c...</td>\n",
       "      <td>0.834395</td>\n",
       "    </tr>\n",
       "    <tr>\n",
       "      <th>2</th>\n",
       "      <td>inmueble-2233-336</td>\n",
       "      <td>/2233-fernandez-aubone/inmuebles/336/ficha/cas...</td>\n",
       "      <td>inmueble-18229-255</td>\n",
       "      <td>/18229-banco-inmobiliario/inmuebles/255/ficha/...</td>\n",
       "      <td>0.834395</td>\n",
       "    </tr>\n",
       "  </tbody>\n",
       "</table>\n",
       "</div>"
      ],
      "text/plain": [
       "             ref_id1                                               url1  \\\n",
       "0  inmueble-2233-336  /2233-fernandez-aubone/inmuebles/336/ficha/cas...   \n",
       "1  inmueble-2233-336  /2233-fernandez-aubone/inmuebles/336/ficha/cas...   \n",
       "2  inmueble-2233-336  /2233-fernandez-aubone/inmuebles/336/ficha/cas...   \n",
       "\n",
       "              ref_id2                                               url2  \\\n",
       "0   inmueble-438-3139  /438-de-lucia/inmuebles/3139/ficha/casa-en-ven...   \n",
       "1   inmueble-1488-250  /1488-fabuel-y-asociados/inmuebles/250/ficha/c...   \n",
       "2  inmueble-18229-255  /18229-banco-inmobiliario/inmuebles/255/ficha/...   \n",
       "\n",
       "   cosine_sim  \n",
       "0    0.834395  \n",
       "1    0.834395  \n",
       "2    0.834395  "
      ]
     },
     "execution_count": 36,
     "metadata": {},
     "output_type": "execute_result"
    }
   ],
   "source": [
    "similar_houses = []    \n",
    "for i,j in zip(idx,jdx):\n",
    "    iprop = houses.iloc[i]\n",
    "    jprop = houses.iloc[j]\n",
    "    if i!=j and are_similar_properties(iprop,jprop):\n",
    "        similar_houses.append([iprop.ref_id,iprop.url,jprop.ref_id,jprop.url,neighborhoods_similarity[i,j]])\n",
    "similar_houses_df = pd.DataFrame(similar_houses,columns=['ref_id1','url1','ref_id2','url2','cosine_sim'])\n",
    "\n",
    "# Creating a single list with posible duplicateds\n",
    "houses_with_similarities = pd.concat([similar_houses_df.ref_id1, similar_houses_df.ref_id2]).unique()\n",
    "print(f'Quantity of houses with similarities: {len(houses_with_similarities)}')\n",
    "\n",
    "similar_houses_df.head(3)"
   ]
  },
  {
   "cell_type": "markdown",
   "metadata": {},
   "source": [
    "### 2.4*- Showing the greatest similarity quantities"
   ]
  },
  {
   "cell_type": "code",
   "execution_count": 26,
   "metadata": {},
   "outputs": [
    {
     "data": {
      "text/html": [
       "<div>\n",
       "<style scoped>\n",
       "    .dataframe tbody tr th:only-of-type {\n",
       "        vertical-align: middle;\n",
       "    }\n",
       "\n",
       "    .dataframe tbody tr th {\n",
       "        vertical-align: top;\n",
       "    }\n",
       "\n",
       "    .dataframe thead th {\n",
       "        text-align: right;\n",
       "    }\n",
       "</style>\n",
       "<table border=\"1\" class=\"dataframe\">\n",
       "  <thead>\n",
       "    <tr style=\"text-align: right;\">\n",
       "      <th></th>\n",
       "      <th>ref_id</th>\n",
       "      <th>duplicated_qty</th>\n",
       "    </tr>\n",
       "  </thead>\n",
       "  <tbody>\n",
       "    <tr>\n",
       "      <th>240</th>\n",
       "      <td>inmueble-682-3664</td>\n",
       "      <td>4</td>\n",
       "    </tr>\n",
       "    <tr>\n",
       "      <th>54</th>\n",
       "      <td>inmueble-17636-1599</td>\n",
       "      <td>3</td>\n",
       "    </tr>\n",
       "    <tr>\n",
       "      <th>94</th>\n",
       "      <td>inmueble-2651-165</td>\n",
       "      <td>3</td>\n",
       "    </tr>\n",
       "  </tbody>\n",
       "</table>\n",
       "</div>"
      ],
      "text/plain": [
       "                  ref_id  duplicated_qty\n",
       "240    inmueble-682-3664               4\n",
       "54   inmueble-17636-1599               3\n",
       "94     inmueble-2651-165               3"
      ]
     },
     "execution_count": 26,
     "metadata": {},
     "output_type": "execute_result"
    }
   ],
   "source": [
    "top_similiarities = similar_houses_df.groupby(['ref_id1']).count().ref_id2.to_frame().reset_index()\n",
    "top_similiarities.columns = ['ref_id','duplicated_qty']\n",
    "top_similiarities = top_similiarities.sort_values(\"duplicated_qty\",ascending=False)\n",
    "top_similiarities.head(3)"
   ]
  },
  {
   "cell_type": "markdown",
   "metadata": {},
   "source": [
    "## 3.0- Analyzing agencies with duplicateds houses"
   ]
  },
  {
   "cell_type": "markdown",
   "metadata": {},
   "source": [
    "### 3.1- Adding a mark \"is_duplicated\" to the properties"
   ]
  },
  {
   "cell_type": "code",
   "execution_count": 37,
   "metadata": {},
   "outputs": [
    {
     "data": {
      "text/html": [
       "<div>\n",
       "<style scoped>\n",
       "    .dataframe tbody tr th:only-of-type {\n",
       "        vertical-align: middle;\n",
       "    }\n",
       "\n",
       "    .dataframe tbody tr th {\n",
       "        vertical-align: top;\n",
       "    }\n",
       "\n",
       "    .dataframe thead th {\n",
       "        text-align: right;\n",
       "    }\n",
       "</style>\n",
       "<table border=\"1\" class=\"dataframe\">\n",
       "  <thead>\n",
       "    <tr style=\"text-align: right;\">\n",
       "      <th></th>\n",
       "      <th>ref_id</th>\n",
       "      <th>neighborhood</th>\n",
       "      <th>district</th>\n",
       "      <th>province</th>\n",
       "      <th>price</th>\n",
       "      <th>currency</th>\n",
       "      <th>amount</th>\n",
       "      <th>url</th>\n",
       "      <th>description</th>\n",
       "      <th>totalArea</th>\n",
       "      <th>bedrooms</th>\n",
       "      <th>bathrooms</th>\n",
       "      <th>floorArea</th>\n",
       "      <th>agency</th>\n",
       "      <th>property_type</th>\n",
       "      <th>source_web</th>\n",
       "      <th>scrapped_date</th>\n",
       "      <th>totalArea_fixed</th>\n",
       "      <th>floorArea_fixed</th>\n",
       "      <th>is_duplicated</th>\n",
       "    </tr>\n",
       "  </thead>\n",
       "  <tbody>\n",
       "    <tr>\n",
       "      <th>0</th>\n",
       "      <td>inmueble-2233-336</td>\n",
       "      <td>Club de Campo Mendoza</td>\n",
       "      <td>Guaymallen</td>\n",
       "      <td>Mendoza</td>\n",
       "      <td>US$ 410.000</td>\n",
       "      <td>US$</td>\n",
       "      <td>410000.0</td>\n",
       "      <td>/2233-fernandez-aubone/inmuebles/336/ficha/cas...</td>\n",
       "      <td>Inmobiliaria FERNANDEZ AUBONE Vende propiedad ...</td>\n",
       "      <td>400</td>\n",
       "      <td>3</td>\n",
       "      <td>3</td>\n",
       "      <td>268</td>\n",
       "      <td>Fernandez Aubone</td>\n",
       "      <td>PropertyType.HOUSE</td>\n",
       "      <td>inmoclick</td>\n",
       "      <td>2020-07-18</td>\n",
       "      <td>400.0</td>\n",
       "      <td>268.0</td>\n",
       "      <td>1.0</td>\n",
       "    </tr>\n",
       "    <tr>\n",
       "      <th>1</th>\n",
       "      <td>inmueble-2229-597</td>\n",
       "      <td>Barrio Cementista II</td>\n",
       "      <td>Las Heras</td>\n",
       "      <td>Mendoza</td>\n",
       "      <td>US$ 155.000</td>\n",
       "      <td>US$</td>\n",
       "      <td>155000.0</td>\n",
       "      <td>/2229-poblete-inmobiliaria/inmuebles/597/ficha...</td>\n",
       "      <td>Moderna Casa de dos plantas.\\nFinos detalles y...</td>\n",
       "      <td>220</td>\n",
       "      <td>4</td>\n",
       "      <td>2</td>\n",
       "      <td>190</td>\n",
       "      <td>Poblete Inmobiliaria</td>\n",
       "      <td>PropertyType.HOUSE</td>\n",
       "      <td>inmoclick</td>\n",
       "      <td>2020-07-18</td>\n",
       "      <td>220.0</td>\n",
       "      <td>190.0</td>\n",
       "      <td>NaN</td>\n",
       "    </tr>\n",
       "  </tbody>\n",
       "</table>\n",
       "</div>"
      ],
      "text/plain": [
       "              ref_id           neighborhood    district province        price  \\\n",
       "0  inmueble-2233-336  Club de Campo Mendoza  Guaymallen  Mendoza  US$ 410.000   \n",
       "1  inmueble-2229-597   Barrio Cementista II   Las Heras  Mendoza  US$ 155.000   \n",
       "\n",
       "  currency    amount                                                url  \\\n",
       "0      US$  410000.0  /2233-fernandez-aubone/inmuebles/336/ficha/cas...   \n",
       "1      US$  155000.0  /2229-poblete-inmobiliaria/inmuebles/597/ficha...   \n",
       "\n",
       "                                         description totalArea bedrooms  \\\n",
       "0  Inmobiliaria FERNANDEZ AUBONE Vende propiedad ...       400        3   \n",
       "1  Moderna Casa de dos plantas.\\nFinos detalles y...       220        4   \n",
       "\n",
       "  bathrooms floorArea                agency       property_type source_web  \\\n",
       "0         3       268      Fernandez Aubone  PropertyType.HOUSE  inmoclick   \n",
       "1         2       190  Poblete Inmobiliaria  PropertyType.HOUSE  inmoclick   \n",
       "\n",
       "  scrapped_date  totalArea_fixed  floorArea_fixed  is_duplicated  \n",
       "0    2020-07-18            400.0            268.0            1.0  \n",
       "1    2020-07-18            220.0            190.0            NaN  "
      ]
     },
     "execution_count": 37,
     "metadata": {},
     "output_type": "execute_result"
    }
   ],
   "source": [
    "simil_df = pd.DataFrame(houses_with_similarities,columns=['ref_id'])\n",
    "simil_df['is_duplicated'] = 1\n",
    "simil_df.to_csv(\"duplicated_houses.csv\")\n",
    "# extended_houses\n",
    "ext_houses = houses.merge(simil_df, left_on='ref_id', right_on='ref_id',how='left')\n",
    "ext_houses.head(2)"
   ]
  },
  {
   "cell_type": "markdown",
   "metadata": {},
   "source": [
    "### 3.2- Showing top agencies with duplicated properties"
   ]
  },
  {
   "cell_type": "code",
   "execution_count": 31,
   "metadata": {},
   "outputs": [
    {
     "name": "stdout",
     "output_type": "stream",
     "text": [
      "Agencies:74\n",
      "Duplicated properties:282\n"
     ]
    },
    {
     "data": {
      "image/png": "[encoded data removed]",
      "text/plain": [
       "<Figure size 576x432 with 1 Axes>"
      ]
     },
     "metadata": {
      "needs_background": "light"
     },
     "output_type": "display_data"
    }
   ],
   "source": [
    "agency = ext_houses[ext_houses.is_duplicated==1].groupby(\"agency\").count().ref_id.sort_values(ascending= False)\n",
    "share = round(agency/agency.sum()*100,1)\n",
    "print(\"Agencies:\"+str(len(agency)))\n",
    "print(\"Duplicated properties:\"+str(len(ext_houses[ext_houses.is_duplicated==1])))\n",
    "\n",
    "agency = agency.head(30)\n",
    "plt.figure(figsize=(8,6))\n",
    "g = sns.barplot(x=agency.values, y=agency.index.values)\n",
    "\n",
    "for i,row in enumerate(agency.iteritems()):\n",
    "    bar_text = f'{row[1]} ({share.iloc[i]}%)'\n",
    "    g.text(row[1],i, bar_text, color='black', ha=\"left\",va='center',rotation=0)\n",
    "g.set_title('Inmobiliarias con propiedades duplicadas')\n",
    "plt.show()"
   ]
  },
  {
   "cell_type": "code",
   "execution_count": null,
   "metadata": {},
   "outputs": [],
   "source": []
  }
 ],
 "metadata": {
  "kernelspec": {
   "display_name": "Python 3",
   "language": "python",
   "name": "python3"
  },
  "language_info": {
   "codemirror_mode": {
    "name": "ipython",
    "version": 3
   },
   "file_extension": ".py",
   "mimetype": "text/x-python",
   "name": "python",
   "nbconvert_exporter": "python",
   "pygments_lexer": "ipython3",
   "version": "3.6.9"
  }
 },
 "nbformat": 4,
 "nbformat_minor": 4
}
