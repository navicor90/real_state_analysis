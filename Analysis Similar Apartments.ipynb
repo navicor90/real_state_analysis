{
 "cells": [
  {
   "cell_type": "markdown",
   "metadata": {},
   "source": [
    "\n",
    "## About this project"
   ]
  },
  {
   "cell_type": "code",
   "execution_count": 10,
   "metadata": {},
   "outputs": [
    {
     "name": "stdout",
     "output_type": "stream",
     "text": [
      "The autoreload extension is already loaded. To reload it, use:\n",
      "  %reload_ext autoreload\n"
     ]
    }
   ],
   "source": [
    "%load_ext autoreload\n",
    "%autoreload 2"
   ]
  },
  {
   "cell_type": "code",
   "execution_count": 11,
   "metadata": {},
   "outputs": [],
   "source": [
    "from selenium import webdriver\n",
    "import pandas as pd\n",
    "import time\n",
    "import random\n",
    "import sys\n",
    "import os\n",
    "import numpy as np\n",
    "import seaborn as sns\n",
    "import matplotlib.pyplot as plt\n",
    "\n",
    "sys.path.append(os.path.abspath('../'))\n",
    "from inmoclick_clean_utils import (fix_clean_total_area,\n",
    "                                  fix_clean_floor_area,\n",
    "                                  str_serie_to_vector,\n",
    "                                  vectors_sparse_similarity,\n",
    "                                  are_similar_properties)"
   ]
  },
  {
   "cell_type": "markdown",
   "metadata": {},
   "source": [
    "# 1.0- Loading Data"
   ]
  },
  {
   "cell_type": "code",
   "execution_count": 3,
   "metadata": {},
   "outputs": [],
   "source": [
    "import seaborn as sns\n",
    "from matplotlib import pyplot as plt\n",
    "houses = pd.read_csv(\"dataframe_house.csv\")\n",
    "apartments = pd.read_csv(\"dataframe_apartment.csv\")\n",
    "lands = pd.read_csv(\"dataframe_land.csv\")"
   ]
  },
  {
   "cell_type": "code",
   "execution_count": 4,
   "metadata": {
    "scrolled": true
   },
   "outputs": [
    {
     "data": {
      "text/plain": [
       "array(['/52708-remax-chacras/inmuebles/564/ficha/casa-en-venta-en-los-peralitos?btid=3419445',\n",
       "       '/52708-remax-chacras/inmuebles/574/ficha/casa-en-venta-en-barrio-parque-drummond?btid=3419445',\n",
       "       '/17515-remax-solutions/inmuebles/1805/ficha/casa-en-venta-en-gobernador-ortiz?btid=3419445'],\n",
       "      dtype=object)"
      ]
     },
     "execution_count": 4,
     "metadata": {},
     "output_type": "execute_result"
    }
   ],
   "source": [
    "fil = houses[houses.district==\"Lujan de Cuyo\"]\n",
    "fil = fil[fil.bedrooms=='3']\n",
    "fil = fil[fil.totalArea=='disable']\n",
    "fil = fil[fil.bathrooms=='2']\n",
    "fil.url[:3].values"
   ]
  },
  {
   "cell_type": "markdown",
   "metadata": {},
   "source": [
    "## 2- Getting duplicated houses"
   ]
  },
  {
   "cell_type": "markdown",
   "metadata": {},
   "source": [
    "### 2.1- Cleaning and filtering data"
   ]
  },
  {
   "cell_type": "code",
   "execution_count": 5,
   "metadata": {},
   "outputs": [
    {
     "name": "stdout",
     "output_type": "stream",
     "text": [
      "Quantity before cleaning: 2304\n",
      "Quantity after cleaning: 2087\n"
     ]
    }
   ],
   "source": [
    "print(f'Quantity before cleaning: {len(apartments)}')\n",
    "apartments = fix_clean_total_area(apartments)\n",
    "apartments = fix_clean_floor_area(apartments)\n",
    "print(f'Quantity after cleaning: {len(apartments)}')"
   ]
  },
  {
   "cell_type": "markdown",
   "metadata": {},
   "source": [
    "### 2.2- Looking for similar neighborhoods"
   ]
  },
  {
   "cell_type": "code",
   "execution_count": 7,
   "metadata": {},
   "outputs": [
    {
     "name": "stdout",
     "output_type": "stream",
     "text": [
      "Positive neighborhoods comparisons(similarity upper to 0.8): 4591 of 4355569\n"
     ]
    }
   ],
   "source": [
    "vectorized_neighborhoods = str_serie_to_vector(apartments.neighborhood)\n",
    "neighborhoods_similarity = vectors_sparse_similarity(vectorized_neighborhoods, vectorized_neighborhoods)\n",
    "\n",
    "similarity_threshold =  0.8\n",
    "idx,jdx = np.where(neighborhoods_similarity >= similarity_threshold)\n",
    "total_comparisons = neighborhoods_similarity.shape[0]*neighborhoods_similarity.shape[1]\n",
    "print(f'Positive neighborhoods comparisons(similarity upper to {similarity_threshold}): {len(idx)} of {total_comparisons}')"
   ]
  },
  {
   "cell_type": "markdown",
   "metadata": {},
   "source": [
    "### 2.3- Looking for similar properties"
   ]
  },
  {
   "cell_type": "code",
   "execution_count": 13,
   "metadata": {},
   "outputs": [
    {
     "name": "stdout",
     "output_type": "stream",
     "text": [
      "Quantity of apartments with similarities: 211\n"
     ]
    },
    {
     "data": {
      "text/html": [
       "<div>\n",
       "<style scoped>\n",
       "    .dataframe tbody tr th:only-of-type {\n",
       "        vertical-align: middle;\n",
       "    }\n",
       "\n",
       "    .dataframe tbody tr th {\n",
       "        vertical-align: top;\n",
       "    }\n",
       "\n",
       "    .dataframe thead th {\n",
       "        text-align: right;\n",
       "    }\n",
       "</style>\n",
       "<table border=\"1\" class=\"dataframe\">\n",
       "  <thead>\n",
       "    <tr style=\"text-align: right;\">\n",
       "      <th></th>\n",
       "      <th>ref_id1</th>\n",
       "      <th>url1</th>\n",
       "      <th>ref_id2</th>\n",
       "      <th>url2</th>\n",
       "      <th>cosine_sim</th>\n",
       "    </tr>\n",
       "  </thead>\n",
       "  <tbody>\n",
       "    <tr>\n",
       "      <th>0</th>\n",
       "      <td>inmueble-11248-1905</td>\n",
       "      <td>/11248-openhouse-negocios-inmobiliarios/inmueb...</td>\n",
       "      <td>inmueble-2504-110</td>\n",
       "      <td>/2504-cefas-inmobiliaria/inmuebles/110/ficha/d...</td>\n",
       "      <td>1.0</td>\n",
       "    </tr>\n",
       "    <tr>\n",
       "      <th>1</th>\n",
       "      <td>inmueble-11248-1905</td>\n",
       "      <td>/11248-openhouse-negocios-inmobiliarios/inmueb...</td>\n",
       "      <td>inmueble-2504-42</td>\n",
       "      <td>/2504-cefas-inmobiliaria/inmuebles/42/ficha/de...</td>\n",
       "      <td>1.0</td>\n",
       "    </tr>\n",
       "    <tr>\n",
       "      <th>2</th>\n",
       "      <td>inmueble-11248-1905</td>\n",
       "      <td>/11248-openhouse-negocios-inmobiliarios/inmueb...</td>\n",
       "      <td>inmueble-2504-43</td>\n",
       "      <td>/2504-cefas-inmobiliaria/inmuebles/43/ficha/de...</td>\n",
       "      <td>1.0</td>\n",
       "    </tr>\n",
       "  </tbody>\n",
       "</table>\n",
       "</div>"
      ],
      "text/plain": [
       "               ref_id1                                               url1  \\\n",
       "0  inmueble-11248-1905  /11248-openhouse-negocios-inmobiliarios/inmueb...   \n",
       "1  inmueble-11248-1905  /11248-openhouse-negocios-inmobiliarios/inmueb...   \n",
       "2  inmueble-11248-1905  /11248-openhouse-negocios-inmobiliarios/inmueb...   \n",
       "\n",
       "             ref_id2                                               url2  \\\n",
       "0  inmueble-2504-110  /2504-cefas-inmobiliaria/inmuebles/110/ficha/d...   \n",
       "1   inmueble-2504-42  /2504-cefas-inmobiliaria/inmuebles/42/ficha/de...   \n",
       "2   inmueble-2504-43  /2504-cefas-inmobiliaria/inmuebles/43/ficha/de...   \n",
       "\n",
       "   cosine_sim  \n",
       "0         1.0  \n",
       "1         1.0  \n",
       "2         1.0  "
      ]
     },
     "execution_count": 13,
     "metadata": {},
     "output_type": "execute_result"
    }
   ],
   "source": [
    "similar_apartments = []    \n",
    "for i,j in zip(idx,jdx):\n",
    "    iprop = apartments.iloc[i]\n",
    "    jprop = apartments.iloc[j]\n",
    "    if i!=j and are_similar_properties(iprop,jprop):\n",
    "        similar_apartments.append([iprop.ref_id,iprop.url,jprop.ref_id,jprop.url,neighborhoods_similarity[i,j]])\n",
    "similar_apartments_df = pd.DataFrame(similar_apartments,columns=['ref_id1','url1','ref_id2','url2','cosine_sim'])\n",
    "\n",
    "# Creating a single list with posible duplicateds\n",
    "apartments_with_similarities = pd.concat([similar_apartments_df.ref_id1, similar_apartments_df.ref_id2]).unique()\n",
    "print(f'Quantity of apartments with similarities: {len(apartments_with_similarities)}')\n",
    "\n",
    "similar_apartments_df.head(3)"
   ]
  },
  {
   "cell_type": "markdown",
   "metadata": {},
   "source": [
    "### 2.4*- Showing the greatest similarity quantities"
   ]
  },
  {
   "cell_type": "code",
   "execution_count": 15,
   "metadata": {},
   "outputs": [
    {
     "data": {
      "text/html": [
       "<div>\n",
       "<style scoped>\n",
       "    .dataframe tbody tr th:only-of-type {\n",
       "        vertical-align: middle;\n",
       "    }\n",
       "\n",
       "    .dataframe tbody tr th {\n",
       "        vertical-align: top;\n",
       "    }\n",
       "\n",
       "    .dataframe thead th {\n",
       "        text-align: right;\n",
       "    }\n",
       "</style>\n",
       "<table border=\"1\" class=\"dataframe\">\n",
       "  <thead>\n",
       "    <tr style=\"text-align: right;\">\n",
       "      <th></th>\n",
       "      <th>ref_id</th>\n",
       "      <th>duplicated_qty</th>\n",
       "    </tr>\n",
       "  </thead>\n",
       "  <tbody>\n",
       "    <tr>\n",
       "      <th>82</th>\n",
       "      <td>inmueble-2504-110</td>\n",
       "      <td>6</td>\n",
       "    </tr>\n",
       "    <tr>\n",
       "      <th>88</th>\n",
       "      <td>inmueble-2504-42</td>\n",
       "      <td>6</td>\n",
       "    </tr>\n",
       "    <tr>\n",
       "      <th>40</th>\n",
       "      <td>inmueble-11737-51</td>\n",
       "      <td>5</td>\n",
       "    </tr>\n",
       "  </tbody>\n",
       "</table>\n",
       "</div>"
      ],
      "text/plain": [
       "               ref_id  duplicated_qty\n",
       "82  inmueble-2504-110               6\n",
       "88   inmueble-2504-42               6\n",
       "40  inmueble-11737-51               5"
      ]
     },
     "execution_count": 15,
     "metadata": {},
     "output_type": "execute_result"
    }
   ],
   "source": [
    "top_similiarities = similar_apartments_df.groupby(['ref_id1']).count().ref_id2.to_frame().reset_index()\n",
    "top_similiarities.columns = ['ref_id','duplicated_qty']\n",
    "top_similiarities = top_similiarities.sort_values(\"duplicated_qty\",ascending=False)\n",
    "top_similiarities.head(3)"
   ]
  },
  {
   "cell_type": "markdown",
   "metadata": {},
   "source": [
    "## 3.0- Analyzing agencies with duplicateds houses"
   ]
  },
  {
   "cell_type": "markdown",
   "metadata": {},
   "source": [
    "### 3.1- Adding a mark \"is_duplicated\" to the properties"
   ]
  },
  {
   "cell_type": "code",
   "execution_count": 16,
   "metadata": {},
   "outputs": [
    {
     "data": {
      "text/html": [
       "<div>\n",
       "<style scoped>\n",
       "    .dataframe tbody tr th:only-of-type {\n",
       "        vertical-align: middle;\n",
       "    }\n",
       "\n",
       "    .dataframe tbody tr th {\n",
       "        vertical-align: top;\n",
       "    }\n",
       "\n",
       "    .dataframe thead th {\n",
       "        text-align: right;\n",
       "    }\n",
       "</style>\n",
       "<table border=\"1\" class=\"dataframe\">\n",
       "  <thead>\n",
       "    <tr style=\"text-align: right;\">\n",
       "      <th></th>\n",
       "      <th>ref_id</th>\n",
       "      <th>neighborhood</th>\n",
       "      <th>district</th>\n",
       "      <th>province</th>\n",
       "      <th>price</th>\n",
       "      <th>currency</th>\n",
       "      <th>amount</th>\n",
       "      <th>url</th>\n",
       "      <th>description</th>\n",
       "      <th>totalArea</th>\n",
       "      <th>bedrooms</th>\n",
       "      <th>bathrooms</th>\n",
       "      <th>floorArea</th>\n",
       "      <th>agency</th>\n",
       "      <th>property_type</th>\n",
       "      <th>source_web</th>\n",
       "      <th>scrapped_date</th>\n",
       "      <th>totalArea_fixed</th>\n",
       "      <th>floorArea_fixed</th>\n",
       "      <th>is_duplicated</th>\n",
       "    </tr>\n",
       "  </thead>\n",
       "  <tbody>\n",
       "    <tr>\n",
       "      <th>0</th>\n",
       "      <td>inmueble-438-2913</td>\n",
       "      <td>F Moyano 1525 Quinta Sección Edificio H</td>\n",
       "      <td>Capital</td>\n",
       "      <td>Mendoza</td>\n",
       "      <td>US$ 180.000</td>\n",
       "      <td>US$</td>\n",
       "      <td>180000.0</td>\n",
       "      <td>/438-de-lucia/inmuebles/2913/ficha/departament...</td>\n",
       "      <td>Inmobiliaria De Lucia vende Departamento en co...</td>\n",
       "      <td>140</td>\n",
       "      <td>2</td>\n",
       "      <td>2.0</td>\n",
       "      <td>83</td>\n",
       "      <td>De Lucia</td>\n",
       "      <td>PropertyType.APARTMENT</td>\n",
       "      <td>inmoclick</td>\n",
       "      <td>2020-07-18</td>\n",
       "      <td>140.0</td>\n",
       "      <td>83.0</td>\n",
       "      <td>NaN</td>\n",
       "    </tr>\n",
       "    <tr>\n",
       "      <th>1</th>\n",
       "      <td>inmueble-11737-62</td>\n",
       "      <td>PASO</td>\n",
       "      <td>Maipu</td>\n",
       "      <td>Mendoza</td>\n",
       "      <td>US$ 47.000</td>\n",
       "      <td>US$</td>\n",
       "      <td>47000.0</td>\n",
       "      <td>/11737-las-marias-desarrollos-inmobiliarios/in...</td>\n",
       "      <td>SOS INVERSOR Y BUSCÁS UN DESARROLLO EN MAIPÚ, ...</td>\n",
       "      <td>85</td>\n",
       "      <td>2</td>\n",
       "      <td>1.0</td>\n",
       "      <td>75</td>\n",
       "      <td>Inmobiliaria</td>\n",
       "      <td>PropertyType.APARTMENT</td>\n",
       "      <td>inmoclick</td>\n",
       "      <td>2020-07-18</td>\n",
       "      <td>85.0</td>\n",
       "      <td>75.0</td>\n",
       "      <td>NaN</td>\n",
       "    </tr>\n",
       "  </tbody>\n",
       "</table>\n",
       "</div>"
      ],
      "text/plain": [
       "              ref_id                             neighborhood district  \\\n",
       "0  inmueble-438-2913  F Moyano 1525 Quinta Sección Edificio H  Capital   \n",
       "1  inmueble-11737-62                                     PASO    Maipu   \n",
       "\n",
       "  province        price currency    amount  \\\n",
       "0  Mendoza  US$ 180.000      US$  180000.0   \n",
       "1  Mendoza   US$ 47.000      US$   47000.0   \n",
       "\n",
       "                                                 url  \\\n",
       "0  /438-de-lucia/inmuebles/2913/ficha/departament...   \n",
       "1  /11737-las-marias-desarrollos-inmobiliarios/in...   \n",
       "\n",
       "                                         description totalArea bedrooms  \\\n",
       "0  Inmobiliaria De Lucia vende Departamento en co...       140        2   \n",
       "1  SOS INVERSOR Y BUSCÁS UN DESARROLLO EN MAIPÚ, ...        85        2   \n",
       "\n",
       "   bathrooms floorArea        agency           property_type source_web  \\\n",
       "0        2.0        83      De Lucia  PropertyType.APARTMENT  inmoclick   \n",
       "1        1.0        75  Inmobiliaria  PropertyType.APARTMENT  inmoclick   \n",
       "\n",
       "  scrapped_date  totalArea_fixed  floorArea_fixed  is_duplicated  \n",
       "0    2020-07-18            140.0             83.0            NaN  \n",
       "1    2020-07-18             85.0             75.0            NaN  "
      ]
     },
     "execution_count": 16,
     "metadata": {},
     "output_type": "execute_result"
    }
   ],
   "source": [
    "simil_df = pd.DataFrame(apartments_with_similarities,columns=['ref_id'])\n",
    "simil_df['is_duplicated'] = 1\n",
    "# extended_apartments\n",
    "ext_apartments = apartments.merge(simil_df, left_on='ref_id', right_on='ref_id',how='left')\n",
    "ext_apartments.head(2)"
   ]
  },
  {
   "cell_type": "markdown",
   "metadata": {},
   "source": [
    "### 3.2- Showing top agencies with duplicated properties"
   ]
  },
  {
   "cell_type": "code",
   "execution_count": 17,
   "metadata": {},
   "outputs": [
    {
     "name": "stdout",
     "output_type": "stream",
     "text": [
      "Agencies:62\n",
      "Duplicated properties:211\n"
     ]
    },
    {
     "data": {
      "image/png": "[encoded data removed]",
      "text/plain": [
       "<Figure size 576x432 with 1 Axes>"
      ]
     },
     "metadata": {
      "needs_background": "light"
     },
     "output_type": "display_data"
    }
   ],
   "source": [
    "agency = ext_apartments[ext_apartments.is_duplicated==1].groupby(\"agency\").count().ref_id.sort_values(ascending= False)\n",
    "share = round(agency/agency.sum()*100,1)\n",
    "print(\"Agencies:\"+str(len(agency)))\n",
    "print(\"Duplicated properties:\"+str(len(ext_apartments[ext_apartments.is_duplicated==1])))\n",
    "\n",
    "agency = agency.head(30)\n",
    "plt.figure(figsize=(8,6))\n",
    "g = sns.barplot(x=agency.values, y=agency.index.values)\n",
    "\n",
    "for i,row in enumerate(agency.iteritems()):\n",
    "    bar_text = f'{row[1]} ({share.iloc[i]}%)'\n",
    "    g.text(row[1],i, bar_text, color='black', ha=\"left\",va='center',rotation=0)\n",
    "g.set_title('Inmobiliarias con propiedades duplicadas')\n",
    "plt.show()"
   ]
  },
  {
   "cell_type": "code",
   "execution_count": null,
   "metadata": {},
   "outputs": [],
   "source": []
  },
  {
   "cell_type": "code",
   "execution_count": null,
   "metadata": {},
   "outputs": [],
   "source": []
  },
  {
   "cell_type": "code",
   "execution_count": null,
   "metadata": {},
   "outputs": [],
   "source": []
  }
 ],
 "metadata": {
  "kernelspec": {
   "display_name": "Python 3",
   "language": "python",
   "name": "python3"
  },
  "language_info": {
   "codemirror_mode": {
    "name": "ipython",
    "version": 3
   },
   "file_extension": ".py",
   "mimetype": "text/x-python",
   "name": "python",
   "nbconvert_exporter": "python",
   "pygments_lexer": "ipython3",
   "version": "3.6.9"
  }
 },
 "nbformat": 4,
 "nbformat_minor": 4
}
